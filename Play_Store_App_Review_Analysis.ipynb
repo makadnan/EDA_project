{
  "nbformat": 4,
  "nbformat_minor": 0,
  "metadata": {
    "colab": {
      "provenance": [],
      "collapsed_sections": [
        "vncDsAP0Gaoa",
        "PH-0ReGfmX4f",
        "HhfV-JJviCcP",
        "Y3lxredqlCYt",
        "3RnN4peoiCZX",
        "x71ZqKXriCWQ",
        "7hBIi_osiCS2",
        "JlHwYmJAmNHm",
        "35m5QtbWiB9F",
        "PoPl-ycgm1ru",
        "H0kj-8xxnORC",
        "nA9Y7ga8ng1Z",
        "PBTbrJXOngz2",
        "u3PMJOP6ngxN",
        "bKJF3rekwFvQ",
        "MSa1f5Uengrz",
        "0wOQAZs5pc--",
        "K5QZ13OEpz2H",
        "lQ7QKXXCp7Bj",
        "448CDAPjqfQr",
        "KSlN3yHqYklG",
        "t6dVpIINYklI",
        "ijmpgYnKYklI",
        "-JiQyfWJYklI",
        "EM7whBJCYoAo",
        "fge-S5ZAYoAp",
        "85gYPyotYoAp",
        "RoGjAbkUYoAp",
        "4Of9eVA-YrdM",
        "iky9q4vBYrdO",
        "F6T5p64dYrdO",
        "y-Ehk30pYrdP",
        "bamQiAODYuh1",
        "QHF8YVU7Yuh3",
        "GwzvFGzlYuh3",
        "qYpmQ266Yuh3",
        "OH-pJp9IphqM",
        "bbFf2-_FphqN",
        "_ouA3fa0phqN",
        "Seke61FWphqN",
        "PIIx-8_IphqN",
        "t27r6nlMphqO",
        "r2jJGEOYphqO",
        "b0JNsNcRphqO",
        "BZR9WyysphqO",
        "jj7wYXLtphqO",
        "rFu4xreNphqO",
        "YJ55k-q6phqO",
        "gCFgpxoyphqP",
        "lssrdh5qphqQ",
        "JcMwzZxoAimU",
        "gCX9965dhzqZ",
        "gIfDvo9L0UH2"
      ],
      "include_colab_link": true
    },
    "kernelspec": {
      "name": "python3",
      "display_name": "Python 3"
    },
    "language_info": {
      "name": "python"
    },
    "gpuClass": "standard"
  },
  "cells": [
    {
      "cell_type": "markdown",
      "metadata": {
        "id": "view-in-github",
        "colab_type": "text"
      },
      "source": [
        "<a href=\"https://colab.research.google.com/github/makadnan/EDA_project/blob/main/Play_Store_App_Review_Analysis.ipynb\" target=\"_parent\"><img src=\"https://colab.research.google.com/assets/colab-badge.svg\" alt=\"Open In Colab\"/></a>"
      ]
    },
    {
      "cell_type": "markdown",
      "source": [
        "# **Project Name**    - \n",
        "**EDA on the data of Play Store Apps**\n"
      ],
      "metadata": {
        "id": "vncDsAP0Gaoa"
      }
    },
    {
      "cell_type": "markdown",
      "source": [
        "##### **Project Type**    - EDA\n",
        "##### **Contribution**    - Individual"
      ],
      "metadata": {
        "id": "beRrZCGUAJYm"
      }
    },
    {
      "cell_type": "markdown",
      "source": [
        "# **Project Summary -**"
      ],
      "metadata": {
        "id": "FJNUwmbgGyua"
      }
    },
    {
      "cell_type": "markdown",
      "source": [
        "This project aims to explore the Play Store dataset, consisting of information about more than 10,000 mobile apps. The project focuses on understanding the characteristics and trends of popular apps in terms of their categories, ratings, installs, prices, and user reviews.\n",
        "\n",
        "The analysis reveals that the most popular app categories are Family, Game, and Tools. The ratings of the apps are generally high, with most apps having a rating of 4 or above. However, there is some variation in ratings across different categories, with some categories having a higher average rating than others.\n",
        "\n",
        "The analysis also shows that there is a positive relationship between the number of installs and app ratings, suggesting that users are more likely to rate and review apps that they find useful. In addition, there is no clear correlation between app size and rating, but there is a weak positive correlation between app price and rating.\n",
        "\n",
        "Furthermore, the analysis compares the sentiment of user reviews for free and paid apps and finds that users generally have a more positive sentiment towards paid apps. However, it also reveals that the majority of users prefer free apps over paid apps, indicating that price is an important factor in app selection.\n",
        "\n",
        "Overall, this project provides valuable insights into the characteristics and trends of popular apps in the Play Store, which can be useful for developers and marketers to make data-driven decisions for app development and promotion."
      ],
      "metadata": {
        "id": "F6v_1wHtG2nS"
      }
    },
    {
      "cell_type": "markdown",
      "source": [
        "# **GitHub Link -**\n",
        "https://github.com/makadnan/EDA_project/blob/5e9260567d87225dd1715c9bd8bdcf23b518920d/Play_Store_App_Review_Analysis.ipynb"
      ],
      "metadata": {
        "id": "w6K7xa23Elo4"
      }
    },
    {
      "cell_type": "markdown",
      "source": [
        "# **Problem Statement**\n"
      ],
      "metadata": {
        "id": "yQaldy8SH6Dl"
      }
    },
    {
      "cell_type": "markdown",
      "source": [
        "**We will try to gain insights into the characteristics of Google Play Store App Reviews data through EDA(Exploratory Data Ananlysis).** \n",
        "\n",
        "To get an idea and further guidance for the analysis, will try to answer the following questions.\n",
        "\n",
        "What are the most popular app categories in the store?\n",
        "\n",
        "What is the distribution of app ratings and how do they vary across categories?\n",
        "\n",
        "What is the relationship between the number of installs and app ratings?\n",
        "\n",
        "Are there any correlations between app size, price, and rating?\n",
        "\n",
        "Do paid apps have better reviews than free apps?\n",
        "\n",
        "Do users always prefer free apps over paid apps?"
      ],
      "metadata": {
        "id": "DpeJGUA3kjGy"
      }
    },
    {
      "cell_type": "markdown",
      "source": [
        "#### **Business Objective**"
      ],
      "metadata": {
        "id": "PH-0ReGfmX4f"
      }
    },
    {
      "cell_type": "markdown",
      "source": [
        "The business objective of conducting EDA on Google Play Store app review analysis is to gain insights into the user feedback for various apps available on the Google Play Store. By analyzing the app reviews, businesses can understand the strengths and weaknesses of their own apps as well as those of their competitors. This analysis can help businesses to improve their apps, identify new opportunities, and make data-driven decisions to enhance the user experience and increase customer satisfaction. \n",
        "\n",
        "Additionally, it can also help businesses to identify any emerging trends in user behavior or preferences and adapt their app development strategies accordingly.\n",
        "\n",
        "Also, to identify trends and patterns in the types of apps that are popular on the Google Play Store, in order to inform app developers' decision-making around app development and marketing.\n",
        "\n",
        "We can  compare the performance of paid vs. free apps too, in order to inform app developers' decisions around monetization and pricing strategies"
      ],
      "metadata": {
        "id": "PhDvGCAqmjP1"
      }
    },
    {
      "cell_type": "markdown",
      "source": [
        "# ***Let's Begin !***"
      ],
      "metadata": {
        "id": "O_i_v8NEhb9l"
      }
    },
    {
      "cell_type": "markdown",
      "source": [
        "## ***1. Knowing The Data***"
      ],
      "metadata": {
        "id": "HhfV-JJviCcP"
      }
    },
    {
      "cell_type": "markdown",
      "source": [
        "### Import Libraries"
      ],
      "metadata": {
        "id": "Y3lxredqlCYt"
      }
    },
    {
      "cell_type": "code",
      "source": [
        "#importing imporant libraries\n",
        "import pandas as pd               # for data manipulation and analysis\n",
        "import numpy as np                # for numerical operations\n",
        "import matplotlib.pyplot as plt   # for data visualization\n",
        "import seaborn as sns             # for statistical data visualization"
      ],
      "metadata": {
        "id": "M8Vqi-pPk-HR"
      },
      "execution_count": 1,
      "outputs": []
    },
    {
      "cell_type": "markdown",
      "source": [
        "### Dataset Loading"
      ],
      "metadata": {
        "id": "3RnN4peoiCZX"
      }
    },
    {
      "cell_type": "code",
      "source": [
        "from google.colab import drive\n",
        "drive.mount('/content/drive')"
      ],
      "metadata": {
        "id": "PY6PQqxTeUh4",
        "colab": {
          "base_uri": "https://localhost:8080/"
        },
        "outputId": "c713a9fb-b86a-4676-f4d6-a4234d9be86c"
      },
      "execution_count": 2,
      "outputs": [
        {
          "output_type": "stream",
          "name": "stdout",
          "text": [
            "Mounted at /content/drive\n"
          ]
        }
      ]
    },
    {
      "cell_type": "code",
      "source": [
        "# Load Dataset\n",
        "df = pd.read_csv('/content/drive/MyDrive/Capstone_project/EDA/Play Store Data.csv')"
      ],
      "metadata": {
        "id": "4CkvbW_SlZ_R"
      },
      "execution_count": 3,
      "outputs": []
    },
    {
      "cell_type": "markdown",
      "source": [
        "### Dataset First View"
      ],
      "metadata": {
        "id": "x71ZqKXriCWQ"
      }
    },
    {
      "cell_type": "code",
      "source": [
        "# Dataset First Look\n",
        "df.head()"
      ],
      "metadata": {
        "id": "LWNFOSvLl09H",
        "colab": {
          "base_uri": "https://localhost:8080/",
          "height": 0
        },
        "outputId": "3f175d9c-ff31-4c82-8b0b-136fa9327edc"
      },
      "execution_count": 4,
      "outputs": [
        {
          "output_type": "execute_result",
          "data": {
            "text/plain": [
              "                                                 App        Category  Rating  \\\n",
              "0     Photo Editor & Candy Camera & Grid & ScrapBook  ART_AND_DESIGN     4.1   \n",
              "1                                Coloring book moana  ART_AND_DESIGN     3.9   \n",
              "2  U Launcher Lite – FREE Live Cool Themes, Hide ...  ART_AND_DESIGN     4.7   \n",
              "3                              Sketch - Draw & Paint  ART_AND_DESIGN     4.5   \n",
              "4              Pixel Draw - Number Art Coloring Book  ART_AND_DESIGN     4.3   \n",
              "\n",
              "  Reviews  Size     Installs  Type Price Content Rating  \\\n",
              "0     159   19M      10,000+  Free     0       Everyone   \n",
              "1     967   14M     500,000+  Free     0       Everyone   \n",
              "2   87510  8.7M   5,000,000+  Free     0       Everyone   \n",
              "3  215644   25M  50,000,000+  Free     0           Teen   \n",
              "4     967  2.8M     100,000+  Free     0       Everyone   \n",
              "\n",
              "                      Genres      Last Updated         Current Ver  \\\n",
              "0               Art & Design   January 7, 2018               1.0.0   \n",
              "1  Art & Design;Pretend Play  January 15, 2018               2.0.0   \n",
              "2               Art & Design    August 1, 2018               1.2.4   \n",
              "3               Art & Design      June 8, 2018  Varies with device   \n",
              "4    Art & Design;Creativity     June 20, 2018                 1.1   \n",
              "\n",
              "    Android Ver  \n",
              "0  4.0.3 and up  \n",
              "1  4.0.3 and up  \n",
              "2  4.0.3 and up  \n",
              "3    4.2 and up  \n",
              "4    4.4 and up  "
            ],
            "text/html": [
              "\n",
              "  <div id=\"df-549d721e-607b-4445-85a0-f5949aff503a\">\n",
              "    <div class=\"colab-df-container\">\n",
              "      <div>\n",
              "<style scoped>\n",
              "    .dataframe tbody tr th:only-of-type {\n",
              "        vertical-align: middle;\n",
              "    }\n",
              "\n",
              "    .dataframe tbody tr th {\n",
              "        vertical-align: top;\n",
              "    }\n",
              "\n",
              "    .dataframe thead th {\n",
              "        text-align: right;\n",
              "    }\n",
              "</style>\n",
              "<table border=\"1\" class=\"dataframe\">\n",
              "  <thead>\n",
              "    <tr style=\"text-align: right;\">\n",
              "      <th></th>\n",
              "      <th>App</th>\n",
              "      <th>Category</th>\n",
              "      <th>Rating</th>\n",
              "      <th>Reviews</th>\n",
              "      <th>Size</th>\n",
              "      <th>Installs</th>\n",
              "      <th>Type</th>\n",
              "      <th>Price</th>\n",
              "      <th>Content Rating</th>\n",
              "      <th>Genres</th>\n",
              "      <th>Last Updated</th>\n",
              "      <th>Current Ver</th>\n",
              "      <th>Android Ver</th>\n",
              "    </tr>\n",
              "  </thead>\n",
              "  <tbody>\n",
              "    <tr>\n",
              "      <th>0</th>\n",
              "      <td>Photo Editor &amp; Candy Camera &amp; Grid &amp; ScrapBook</td>\n",
              "      <td>ART_AND_DESIGN</td>\n",
              "      <td>4.1</td>\n",
              "      <td>159</td>\n",
              "      <td>19M</td>\n",
              "      <td>10,000+</td>\n",
              "      <td>Free</td>\n",
              "      <td>0</td>\n",
              "      <td>Everyone</td>\n",
              "      <td>Art &amp; Design</td>\n",
              "      <td>January 7, 2018</td>\n",
              "      <td>1.0.0</td>\n",
              "      <td>4.0.3 and up</td>\n",
              "    </tr>\n",
              "    <tr>\n",
              "      <th>1</th>\n",
              "      <td>Coloring book moana</td>\n",
              "      <td>ART_AND_DESIGN</td>\n",
              "      <td>3.9</td>\n",
              "      <td>967</td>\n",
              "      <td>14M</td>\n",
              "      <td>500,000+</td>\n",
              "      <td>Free</td>\n",
              "      <td>0</td>\n",
              "      <td>Everyone</td>\n",
              "      <td>Art &amp; Design;Pretend Play</td>\n",
              "      <td>January 15, 2018</td>\n",
              "      <td>2.0.0</td>\n",
              "      <td>4.0.3 and up</td>\n",
              "    </tr>\n",
              "    <tr>\n",
              "      <th>2</th>\n",
              "      <td>U Launcher Lite – FREE Live Cool Themes, Hide ...</td>\n",
              "      <td>ART_AND_DESIGN</td>\n",
              "      <td>4.7</td>\n",
              "      <td>87510</td>\n",
              "      <td>8.7M</td>\n",
              "      <td>5,000,000+</td>\n",
              "      <td>Free</td>\n",
              "      <td>0</td>\n",
              "      <td>Everyone</td>\n",
              "      <td>Art &amp; Design</td>\n",
              "      <td>August 1, 2018</td>\n",
              "      <td>1.2.4</td>\n",
              "      <td>4.0.3 and up</td>\n",
              "    </tr>\n",
              "    <tr>\n",
              "      <th>3</th>\n",
              "      <td>Sketch - Draw &amp; Paint</td>\n",
              "      <td>ART_AND_DESIGN</td>\n",
              "      <td>4.5</td>\n",
              "      <td>215644</td>\n",
              "      <td>25M</td>\n",
              "      <td>50,000,000+</td>\n",
              "      <td>Free</td>\n",
              "      <td>0</td>\n",
              "      <td>Teen</td>\n",
              "      <td>Art &amp; Design</td>\n",
              "      <td>June 8, 2018</td>\n",
              "      <td>Varies with device</td>\n",
              "      <td>4.2 and up</td>\n",
              "    </tr>\n",
              "    <tr>\n",
              "      <th>4</th>\n",
              "      <td>Pixel Draw - Number Art Coloring Book</td>\n",
              "      <td>ART_AND_DESIGN</td>\n",
              "      <td>4.3</td>\n",
              "      <td>967</td>\n",
              "      <td>2.8M</td>\n",
              "      <td>100,000+</td>\n",
              "      <td>Free</td>\n",
              "      <td>0</td>\n",
              "      <td>Everyone</td>\n",
              "      <td>Art &amp; Design;Creativity</td>\n",
              "      <td>June 20, 2018</td>\n",
              "      <td>1.1</td>\n",
              "      <td>4.4 and up</td>\n",
              "    </tr>\n",
              "  </tbody>\n",
              "</table>\n",
              "</div>\n",
              "      <button class=\"colab-df-convert\" onclick=\"convertToInteractive('df-549d721e-607b-4445-85a0-f5949aff503a')\"\n",
              "              title=\"Convert this dataframe to an interactive table.\"\n",
              "              style=\"display:none;\">\n",
              "        \n",
              "  <svg xmlns=\"http://www.w3.org/2000/svg\" height=\"24px\"viewBox=\"0 0 24 24\"\n",
              "       width=\"24px\">\n",
              "    <path d=\"M0 0h24v24H0V0z\" fill=\"none\"/>\n",
              "    <path d=\"M18.56 5.44l.94 2.06.94-2.06 2.06-.94-2.06-.94-.94-2.06-.94 2.06-2.06.94zm-11 1L8.5 8.5l.94-2.06 2.06-.94-2.06-.94L8.5 2.5l-.94 2.06-2.06.94zm10 10l.94 2.06.94-2.06 2.06-.94-2.06-.94-.94-2.06-.94 2.06-2.06.94z\"/><path d=\"M17.41 7.96l-1.37-1.37c-.4-.4-.92-.59-1.43-.59-.52 0-1.04.2-1.43.59L10.3 9.45l-7.72 7.72c-.78.78-.78 2.05 0 2.83L4 21.41c.39.39.9.59 1.41.59.51 0 1.02-.2 1.41-.59l7.78-7.78 2.81-2.81c.8-.78.8-2.07 0-2.86zM5.41 20L4 18.59l7.72-7.72 1.47 1.35L5.41 20z\"/>\n",
              "  </svg>\n",
              "      </button>\n",
              "      \n",
              "  <style>\n",
              "    .colab-df-container {\n",
              "      display:flex;\n",
              "      flex-wrap:wrap;\n",
              "      gap: 12px;\n",
              "    }\n",
              "\n",
              "    .colab-df-convert {\n",
              "      background-color: #E8F0FE;\n",
              "      border: none;\n",
              "      border-radius: 50%;\n",
              "      cursor: pointer;\n",
              "      display: none;\n",
              "      fill: #1967D2;\n",
              "      height: 32px;\n",
              "      padding: 0 0 0 0;\n",
              "      width: 32px;\n",
              "    }\n",
              "\n",
              "    .colab-df-convert:hover {\n",
              "      background-color: #E2EBFA;\n",
              "      box-shadow: 0px 1px 2px rgba(60, 64, 67, 0.3), 0px 1px 3px 1px rgba(60, 64, 67, 0.15);\n",
              "      fill: #174EA6;\n",
              "    }\n",
              "\n",
              "    [theme=dark] .colab-df-convert {\n",
              "      background-color: #3B4455;\n",
              "      fill: #D2E3FC;\n",
              "    }\n",
              "\n",
              "    [theme=dark] .colab-df-convert:hover {\n",
              "      background-color: #434B5C;\n",
              "      box-shadow: 0px 1px 3px 1px rgba(0, 0, 0, 0.15);\n",
              "      filter: drop-shadow(0px 1px 2px rgba(0, 0, 0, 0.3));\n",
              "      fill: #FFFFFF;\n",
              "    }\n",
              "  </style>\n",
              "\n",
              "      <script>\n",
              "        const buttonEl =\n",
              "          document.querySelector('#df-549d721e-607b-4445-85a0-f5949aff503a button.colab-df-convert');\n",
              "        buttonEl.style.display =\n",
              "          google.colab.kernel.accessAllowed ? 'block' : 'none';\n",
              "\n",
              "        async function convertToInteractive(key) {\n",
              "          const element = document.querySelector('#df-549d721e-607b-4445-85a0-f5949aff503a');\n",
              "          const dataTable =\n",
              "            await google.colab.kernel.invokeFunction('convertToInteractive',\n",
              "                                                     [key], {});\n",
              "          if (!dataTable) return;\n",
              "\n",
              "          const docLinkHtml = 'Like what you see? Visit the ' +\n",
              "            '<a target=\"_blank\" href=https://colab.research.google.com/notebooks/data_table.ipynb>data table notebook</a>'\n",
              "            + ' to learn more about interactive tables.';\n",
              "          element.innerHTML = '';\n",
              "          dataTable['output_type'] = 'display_data';\n",
              "          await google.colab.output.renderOutput(dataTable, element);\n",
              "          const docLink = document.createElement('div');\n",
              "          docLink.innerHTML = docLinkHtml;\n",
              "          element.appendChild(docLink);\n",
              "        }\n",
              "      </script>\n",
              "    </div>\n",
              "  </div>\n",
              "  "
            ]
          },
          "metadata": {},
          "execution_count": 4
        }
      ]
    },
    {
      "cell_type": "markdown",
      "source": [
        "### Dataset Rows & Columns count"
      ],
      "metadata": {
        "id": "7hBIi_osiCS2"
      }
    },
    {
      "cell_type": "code",
      "source": [
        "# Dataset Rows & Columns count\n",
        "\n",
        "total_rows, total_columns = df.shape\n",
        "\n",
        "print(f'The dataset has {total_rows} rows and {total_columns} columns')"
      ],
      "metadata": {
        "id": "Kllu7SJgmLij",
        "colab": {
          "base_uri": "https://localhost:8080/"
        },
        "outputId": "6fcf98df-3db2-484c-c8db-5206a7b120b5"
      },
      "execution_count": 5,
      "outputs": [
        {
          "output_type": "stream",
          "name": "stdout",
          "text": [
            "The dataset has 10841 rows and 13 columns\n"
          ]
        }
      ]
    },
    {
      "cell_type": "markdown",
      "source": [
        "### Dataset Information"
      ],
      "metadata": {
        "id": "JlHwYmJAmNHm"
      }
    },
    {
      "cell_type": "code",
      "source": [
        "# Dataset Info\n",
        "df.info()"
      ],
      "metadata": {
        "id": "e9hRXRi6meOf",
        "colab": {
          "base_uri": "https://localhost:8080/"
        },
        "outputId": "6b7b1332-d63a-4e5b-fcf5-916334a0a5a6"
      },
      "execution_count": 6,
      "outputs": [
        {
          "output_type": "stream",
          "name": "stdout",
          "text": [
            "<class 'pandas.core.frame.DataFrame'>\n",
            "RangeIndex: 10841 entries, 0 to 10840\n",
            "Data columns (total 13 columns):\n",
            " #   Column          Non-Null Count  Dtype  \n",
            "---  ------          --------------  -----  \n",
            " 0   App             10841 non-null  object \n",
            " 1   Category        10841 non-null  object \n",
            " 2   Rating          9367 non-null   float64\n",
            " 3   Reviews         10841 non-null  object \n",
            " 4   Size            10841 non-null  object \n",
            " 5   Installs        10841 non-null  object \n",
            " 6   Type            10840 non-null  object \n",
            " 7   Price           10841 non-null  object \n",
            " 8   Content Rating  10840 non-null  object \n",
            " 9   Genres          10841 non-null  object \n",
            " 10  Last Updated    10841 non-null  object \n",
            " 11  Current Ver     10833 non-null  object \n",
            " 12  Android Ver     10838 non-null  object \n",
            "dtypes: float64(1), object(12)\n",
            "memory usage: 1.1+ MB\n"
          ]
        }
      ]
    },
    {
      "cell_type": "markdown",
      "source": [
        "#### Duplicate Values"
      ],
      "metadata": {
        "id": "35m5QtbWiB9F"
      }
    },
    {
      "cell_type": "code",
      "source": [
        "# Dataset Duplicate Value Count\n",
        "num_duplicates = df.duplicated().sum()\n",
        "print(f\"Number of duplicate rows: {num_duplicates}\")"
      ],
      "metadata": {
        "id": "1sLdpKYkmox0",
        "colab": {
          "base_uri": "https://localhost:8080/"
        },
        "outputId": "93983924-428c-4a76-a3c1-809f8ea32df3"
      },
      "execution_count": 7,
      "outputs": [
        {
          "output_type": "stream",
          "name": "stdout",
          "text": [
            "Number of duplicate rows: 483\n"
          ]
        }
      ]
    },
    {
      "cell_type": "markdown",
      "source": [
        "#### Missing Values/Null Values"
      ],
      "metadata": {
        "id": "PoPl-ycgm1ru"
      }
    },
    {
      "cell_type": "code",
      "source": [
        "# Missing Values/Null Values Count\n",
        "null_columns = df.isnull().sum()\n",
        "null_columns"
      ],
      "metadata": {
        "id": "GgHWkxvamxVg",
        "colab": {
          "base_uri": "https://localhost:8080/"
        },
        "outputId": "1c329ec2-fbf8-434a-b733-04e9bd742682"
      },
      "execution_count": 8,
      "outputs": [
        {
          "output_type": "execute_result",
          "data": {
            "text/plain": [
              "App                  0\n",
              "Category             0\n",
              "Rating            1474\n",
              "Reviews              0\n",
              "Size                 0\n",
              "Installs             0\n",
              "Type                 1\n",
              "Price                0\n",
              "Content Rating       1\n",
              "Genres               0\n",
              "Last Updated         0\n",
              "Current Ver          8\n",
              "Android Ver          3\n",
              "dtype: int64"
            ]
          },
          "metadata": {},
          "execution_count": 8
        }
      ]
    },
    {
      "cell_type": "code",
      "source": [
        "# Visualizing the missing values\n",
        "\n",
        "# Create a boolean mask for missing values\n",
        "mask = df.isna()\n",
        "\n",
        "# Create a heatmap of the missing values\n",
        "plt.figure(figsize=(10, 6))\n",
        "plt.title('Missing Values Heatmap')\n",
        "plt.imshow(mask, cmap='viridis', aspect='auto')\n",
        "plt.xlabel('Columns')\n",
        "plt.ylabel('Rows')\n",
        "plt.show()\n"
      ],
      "metadata": {
        "id": "3q5wnI3om9sJ",
        "colab": {
          "base_uri": "https://localhost:8080/",
          "height": 0
        },
        "outputId": "ac850415-c2ac-43ec-b375-be8211823d13"
      },
      "execution_count": 9,
      "outputs": [
        {
          "output_type": "display_data",
          "data": {
            "text/plain": [
              "<Figure size 720x432 with 1 Axes>"
            ],
            "image/png": "[encoded data removed]"
          },
          "metadata": {
            "needs_background": "light"
          }
        }
      ]
    },
    {
      "cell_type": "markdown",
      "source": [
        "### What did you know about your dataset?"
      ],
      "metadata": {
        "id": "H0kj-8xxnORC"
      }
    },
    {
      "cell_type": "markdown",
      "source": [
        "Our dataset has 13 columns and 10841 rows. The data info tells us that some columns are have missing values but mostly in rating column while there are 483 rows with duplicate vlues. The Rating column has a float data type, while all other columns have an object (string) data type. "
      ],
      "metadata": {
        "id": "gfoNAAC-nUe_"
      }
    },
    {
      "cell_type": "markdown",
      "source": [
        "## ***2. Understanding Columns***"
      ],
      "metadata": {
        "id": "nA9Y7ga8ng1Z"
      }
    },
    {
      "cell_type": "code",
      "source": [
        "# Dataset Columns\n",
        "column_names= df.columns\n",
        "print(column_names)"
      ],
      "metadata": {
        "id": "j7xfkqrt5Ag5",
        "colab": {
          "base_uri": "https://localhost:8080/"
        },
        "outputId": "b9c14558-57ac-4325-b3f0-f9e274cb9fbb"
      },
      "execution_count": 10,
      "outputs": [
        {
          "output_type": "stream",
          "name": "stdout",
          "text": [
            "Index(['App', 'Category', 'Rating', 'Reviews', 'Size', 'Installs', 'Type',\n",
            "       'Price', 'Content Rating', 'Genres', 'Last Updated', 'Current Ver',\n",
            "       'Android Ver'],\n",
            "      dtype='object')\n"
          ]
        }
      ]
    },
    {
      "cell_type": "code",
      "source": [
        "# Dataset Describe\n",
        "df.describe()"
      ],
      "metadata": {
        "id": "DnOaZdaE5Q5t",
        "colab": {
          "base_uri": "https://localhost:8080/",
          "height": 300
        },
        "outputId": "29c7d143-e10c-4670-a0ff-26127d733848"
      },
      "execution_count": 11,
      "outputs": [
        {
          "output_type": "execute_result",
          "data": {
            "text/plain": [
              "            Rating\n",
              "count  9367.000000\n",
              "mean      4.193338\n",
              "std       0.537431\n",
              "min       1.000000\n",
              "25%       4.000000\n",
              "50%       4.300000\n",
              "75%       4.500000\n",
              "max      19.000000"
            ],
            "text/html": [
              "\n",
              "  <div id=\"df-2993d89c-7908-447b-9577-a43188848d7e\">\n",
              "    <div class=\"colab-df-container\">\n",
              "      <div>\n",
              "<style scoped>\n",
              "    .dataframe tbody tr th:only-of-type {\n",
              "        vertical-align: middle;\n",
              "    }\n",
              "\n",
              "    .dataframe tbody tr th {\n",
              "        vertical-align: top;\n",
              "    }\n",
              "\n",
              "    .dataframe thead th {\n",
              "        text-align: right;\n",
              "    }\n",
              "</style>\n",
              "<table border=\"1\" class=\"dataframe\">\n",
              "  <thead>\n",
              "    <tr style=\"text-align: right;\">\n",
              "      <th></th>\n",
              "      <th>Rating</th>\n",
              "    </tr>\n",
              "  </thead>\n",
              "  <tbody>\n",
              "    <tr>\n",
              "      <th>count</th>\n",
              "      <td>9367.000000</td>\n",
              "    </tr>\n",
              "    <tr>\n",
              "      <th>mean</th>\n",
              "      <td>4.193338</td>\n",
              "    </tr>\n",
              "    <tr>\n",
              "      <th>std</th>\n",
              "      <td>0.537431</td>\n",
              "    </tr>\n",
              "    <tr>\n",
              "      <th>min</th>\n",
              "      <td>1.000000</td>\n",
              "    </tr>\n",
              "    <tr>\n",
              "      <th>25%</th>\n",
              "      <td>4.000000</td>\n",
              "    </tr>\n",
              "    <tr>\n",
              "      <th>50%</th>\n",
              "      <td>4.300000</td>\n",
              "    </tr>\n",
              "    <tr>\n",
              "      <th>75%</th>\n",
              "      <td>4.500000</td>\n",
              "    </tr>\n",
              "    <tr>\n",
              "      <th>max</th>\n",
              "      <td>19.000000</td>\n",
              "    </tr>\n",
              "  </tbody>\n",
              "</table>\n",
              "</div>\n",
              "      <button class=\"colab-df-convert\" onclick=\"convertToInteractive('df-2993d89c-7908-447b-9577-a43188848d7e')\"\n",
              "              title=\"Convert this dataframe to an interactive table.\"\n",
              "              style=\"display:none;\">\n",
              "        \n",
              "  <svg xmlns=\"http://www.w3.org/2000/svg\" height=\"24px\"viewBox=\"0 0 24 24\"\n",
              "       width=\"24px\">\n",
              "    <path d=\"M0 0h24v24H0V0z\" fill=\"none\"/>\n",
              "    <path d=\"M18.56 5.44l.94 2.06.94-2.06 2.06-.94-2.06-.94-.94-2.06-.94 2.06-2.06.94zm-11 1L8.5 8.5l.94-2.06 2.06-.94-2.06-.94L8.5 2.5l-.94 2.06-2.06.94zm10 10l.94 2.06.94-2.06 2.06-.94-2.06-.94-.94-2.06-.94 2.06-2.06.94z\"/><path d=\"M17.41 7.96l-1.37-1.37c-.4-.4-.92-.59-1.43-.59-.52 0-1.04.2-1.43.59L10.3 9.45l-7.72 7.72c-.78.78-.78 2.05 0 2.83L4 21.41c.39.39.9.59 1.41.59.51 0 1.02-.2 1.41-.59l7.78-7.78 2.81-2.81c.8-.78.8-2.07 0-2.86zM5.41 20L4 18.59l7.72-7.72 1.47 1.35L5.41 20z\"/>\n",
              "  </svg>\n",
              "      </button>\n",
              "      \n",
              "  <style>\n",
              "    .colab-df-container {\n",
              "      display:flex;\n",
              "      flex-wrap:wrap;\n",
              "      gap: 12px;\n",
              "    }\n",
              "\n",
              "    .colab-df-convert {\n",
              "      background-color: #E8F0FE;\n",
              "      border: none;\n",
              "      border-radius: 50%;\n",
              "      cursor: pointer;\n",
              "      display: none;\n",
              "      fill: #1967D2;\n",
              "      height: 32px;\n",
              "      padding: 0 0 0 0;\n",
              "      width: 32px;\n",
              "    }\n",
              "\n",
              "    .colab-df-convert:hover {\n",
              "      background-color: #E2EBFA;\n",
              "      box-shadow: 0px 1px 2px rgba(60, 64, 67, 0.3), 0px 1px 3px 1px rgba(60, 64, 67, 0.15);\n",
              "      fill: #174EA6;\n",
              "    }\n",
              "\n",
              "    [theme=dark] .colab-df-convert {\n",
              "      background-color: #3B4455;\n",
              "      fill: #D2E3FC;\n",
              "    }\n",
              "\n",
              "    [theme=dark] .colab-df-convert:hover {\n",
              "      background-color: #434B5C;\n",
              "      box-shadow: 0px 1px 3px 1px rgba(0, 0, 0, 0.15);\n",
              "      filter: drop-shadow(0px 1px 2px rgba(0, 0, 0, 0.3));\n",
              "      fill: #FFFFFF;\n",
              "    }\n",
              "  </style>\n",
              "\n",
              "      <script>\n",
              "        const buttonEl =\n",
              "          document.querySelector('#df-2993d89c-7908-447b-9577-a43188848d7e button.colab-df-convert');\n",
              "        buttonEl.style.display =\n",
              "          google.colab.kernel.accessAllowed ? 'block' : 'none';\n",
              "\n",
              "        async function convertToInteractive(key) {\n",
              "          const element = document.querySelector('#df-2993d89c-7908-447b-9577-a43188848d7e');\n",
              "          const dataTable =\n",
              "            await google.colab.kernel.invokeFunction('convertToInteractive',\n",
              "                                                     [key], {});\n",
              "          if (!dataTable) return;\n",
              "\n",
              "          const docLinkHtml = 'Like what you see? Visit the ' +\n",
              "            '<a target=\"_blank\" href=https://colab.research.google.com/notebooks/data_table.ipynb>data table notebook</a>'\n",
              "            + ' to learn more about interactive tables.';\n",
              "          element.innerHTML = '';\n",
              "          dataTable['output_type'] = 'display_data';\n",
              "          await google.colab.output.renderOutput(dataTable, element);\n",
              "          const docLink = document.createElement('div');\n",
              "          docLink.innerHTML = docLinkHtml;\n",
              "          element.appendChild(docLink);\n",
              "        }\n",
              "      </script>\n",
              "    </div>\n",
              "  </div>\n",
              "  "
            ]
          },
          "metadata": {},
          "execution_count": 11
        }
      ]
    },
    {
      "cell_type": "markdown",
      "source": [
        "### Columns Description "
      ],
      "metadata": {
        "id": "PBTbrJXOngz2"
      }
    },
    {
      "cell_type": "markdown",
      "source": [
        "The Size, Installs, and Price columns are expected to be numeric, but they are currently stored as strings. We may need to convert these columns to numeric data types later on for analysis."
      ],
      "metadata": {
        "id": "aJV4KIxSnxay"
      }
    },
    {
      "cell_type": "markdown",
      "source": [
        "### Checking Unique Values for each column."
      ],
      "metadata": {
        "id": "u3PMJOP6ngxN"
      }
    },
    {
      "cell_type": "code",
      "source": [
        "# Check Unique Values for each variable.\n",
        "for column in df.columns:\n",
        "    total_unique= df[column].nunique()\n",
        "    unique_values = df[column].unique()\n",
        "    print(f\"Total unique values in {column} is {total_unique} and the values are:\\n {unique_values}\")\n",
        "    print()"
      ],
      "metadata": {
        "id": "zms12Yq5n-jE",
        "colab": {
          "base_uri": "https://localhost:8080/"
        },
        "outputId": "312047ac-0a34-40af-fee7-2b6928e35696"
      },
      "execution_count": 12,
      "outputs": [
        {
          "output_type": "stream",
          "name": "stdout",
          "text": [
            "Total unique values in App is 9660 and the values are:\n",
            " ['Photo Editor & Candy Camera & Grid & ScrapBook' 'Coloring book moana'\n",
            " 'U Launcher Lite – FREE Live Cool Themes, Hide Apps' ...\n",
            " 'Parkinson Exercices FR' 'The SCP Foundation DB fr nn5n'\n",
            " 'iHoroscope - 2018 Daily Horoscope & Astrology']\n",
            "\n",
            "Total unique values in Category is 34 and the values are:\n",
            " ['ART_AND_DESIGN' 'AUTO_AND_VEHICLES' 'BEAUTY' 'BOOKS_AND_REFERENCE'\n",
            " 'BUSINESS' 'COMICS' 'COMMUNICATION' 'DATING' 'EDUCATION' 'ENTERTAINMENT'\n",
            " 'EVENTS' 'FINANCE' 'FOOD_AND_DRINK' 'HEALTH_AND_FITNESS' 'HOUSE_AND_HOME'\n",
            " 'LIBRARIES_AND_DEMO' 'LIFESTYLE' 'GAME' 'FAMILY' 'MEDICAL' 'SOCIAL'\n",
            " 'SHOPPING' 'PHOTOGRAPHY' 'SPORTS' 'TRAVEL_AND_LOCAL' 'TOOLS'\n",
            " 'PERSONALIZATION' 'PRODUCTIVITY' 'PARENTING' 'WEATHER' 'VIDEO_PLAYERS'\n",
            " 'NEWS_AND_MAGAZINES' 'MAPS_AND_NAVIGATION' '1.9']\n",
            "\n",
            "Total unique values in Rating is 40 and the values are:\n",
            " [ 4.1  3.9  4.7  4.5  4.3  4.4  3.8  4.2  4.6  3.2  4.   nan  4.8  4.9\n",
            "  3.6  3.7  3.3  3.4  3.5  3.1  5.   2.6  3.   1.9  2.5  2.8  2.7  1.\n",
            "  2.9  2.3  2.2  1.7  2.   1.8  2.4  1.6  2.1  1.4  1.5  1.2 19. ]\n",
            "\n",
            "Total unique values in Reviews is 6002 and the values are:\n",
            " ['159' '967' '87510' ... '603' '1195' '398307']\n",
            "\n",
            "Total unique values in Size is 462 and the values are:\n",
            " ['19M' '14M' '8.7M' '25M' '2.8M' '5.6M' '29M' '33M' '3.1M' '28M' '12M'\n",
            " '20M' '21M' '37M' '2.7M' '5.5M' '17M' '39M' '31M' '4.2M' '7.0M' '23M'\n",
            " '6.0M' '6.1M' '4.6M' '9.2M' '5.2M' '11M' '24M' 'Varies with device'\n",
            " '9.4M' '15M' '10M' '1.2M' '26M' '8.0M' '7.9M' '56M' '57M' '35M' '54M'\n",
            " '201k' '3.6M' '5.7M' '8.6M' '2.4M' '27M' '2.5M' '16M' '3.4M' '8.9M'\n",
            " '3.9M' '2.9M' '38M' '32M' '5.4M' '18M' '1.1M' '2.2M' '4.5M' '9.8M' '52M'\n",
            " '9.0M' '6.7M' '30M' '2.6M' '7.1M' '3.7M' '22M' '7.4M' '6.4M' '3.2M'\n",
            " '8.2M' '9.9M' '4.9M' '9.5M' '5.0M' '5.9M' '13M' '73M' '6.8M' '3.5M'\n",
            " '4.0M' '2.3M' '7.2M' '2.1M' '42M' '7.3M' '9.1M' '55M' '23k' '6.5M' '1.5M'\n",
            " '7.5M' '51M' '41M' '48M' '8.5M' '46M' '8.3M' '4.3M' '4.7M' '3.3M' '40M'\n",
            " '7.8M' '8.8M' '6.6M' '5.1M' '61M' '66M' '79k' '8.4M' '118k' '44M' '695k'\n",
            " '1.6M' '6.2M' '18k' '53M' '1.4M' '3.0M' '5.8M' '3.8M' '9.6M' '45M' '63M'\n",
            " '49M' '77M' '4.4M' '4.8M' '70M' '6.9M' '9.3M' '10.0M' '8.1M' '36M' '84M'\n",
            " '97M' '2.0M' '1.9M' '1.8M' '5.3M' '47M' '556k' '526k' '76M' '7.6M' '59M'\n",
            " '9.7M' '78M' '72M' '43M' '7.7M' '6.3M' '334k' '34M' '93M' '65M' '79M'\n",
            " '100M' '58M' '50M' '68M' '64M' '67M' '60M' '94M' '232k' '99M' '624k'\n",
            " '95M' '8.5k' '41k' '292k' '11k' '80M' '1.7M' '74M' '62M' '69M' '75M'\n",
            " '98M' '85M' '82M' '96M' '87M' '71M' '86M' '91M' '81M' '92M' '83M' '88M'\n",
            " '704k' '862k' '899k' '378k' '266k' '375k' '1.3M' '975k' '980k' '4.1M'\n",
            " '89M' '696k' '544k' '525k' '920k' '779k' '853k' '720k' '713k' '772k'\n",
            " '318k' '58k' '241k' '196k' '857k' '51k' '953k' '865k' '251k' '930k'\n",
            " '540k' '313k' '746k' '203k' '26k' '314k' '239k' '371k' '220k' '730k'\n",
            " '756k' '91k' '293k' '17k' '74k' '14k' '317k' '78k' '924k' '902k' '818k'\n",
            " '81k' '939k' '169k' '45k' '475k' '965k' '90M' '545k' '61k' '283k' '655k'\n",
            " '714k' '93k' '872k' '121k' '322k' '1.0M' '976k' '172k' '238k' '549k'\n",
            " '206k' '954k' '444k' '717k' '210k' '609k' '308k' '705k' '306k' '904k'\n",
            " '473k' '175k' '350k' '383k' '454k' '421k' '70k' '812k' '442k' '842k'\n",
            " '417k' '412k' '459k' '478k' '335k' '782k' '721k' '430k' '429k' '192k'\n",
            " '200k' '460k' '728k' '496k' '816k' '414k' '506k' '887k' '613k' '243k'\n",
            " '569k' '778k' '683k' '592k' '319k' '186k' '840k' '647k' '191k' '373k'\n",
            " '437k' '598k' '716k' '585k' '982k' '222k' '219k' '55k' '948k' '323k'\n",
            " '691k' '511k' '951k' '963k' '25k' '554k' '351k' '27k' '82k' '208k' '913k'\n",
            " '514k' '551k' '29k' '103k' '898k' '743k' '116k' '153k' '209k' '353k'\n",
            " '499k' '173k' '597k' '809k' '122k' '411k' '400k' '801k' '787k' '237k'\n",
            " '50k' '643k' '986k' '97k' '516k' '837k' '780k' '961k' '269k' '20k' '498k'\n",
            " '600k' '749k' '642k' '881k' '72k' '656k' '601k' '221k' '228k' '108k'\n",
            " '940k' '176k' '33k' '663k' '34k' '942k' '259k' '164k' '458k' '245k'\n",
            " '629k' '28k' '288k' '775k' '785k' '636k' '916k' '994k' '309k' '485k'\n",
            " '914k' '903k' '608k' '500k' '54k' '562k' '847k' '957k' '688k' '811k'\n",
            " '270k' '48k' '329k' '523k' '921k' '874k' '981k' '784k' '280k' '24k'\n",
            " '518k' '754k' '892k' '154k' '860k' '364k' '387k' '626k' '161k' '879k'\n",
            " '39k' '970k' '170k' '141k' '160k' '144k' '143k' '190k' '376k' '193k'\n",
            " '246k' '73k' '658k' '992k' '253k' '420k' '404k' '1,000+' '470k' '226k'\n",
            " '240k' '89k' '234k' '257k' '861k' '467k' '157k' '44k' '676k' '67k' '552k'\n",
            " '885k' '1020k' '582k' '619k']\n",
            "\n",
            "Total unique values in Installs is 22 and the values are:\n",
            " ['10,000+' '500,000+' '5,000,000+' '50,000,000+' '100,000+' '50,000+'\n",
            " '1,000,000+' '10,000,000+' '5,000+' '100,000,000+' '1,000,000,000+'\n",
            " '1,000+' '500,000,000+' '50+' '100+' '500+' '10+' '1+' '5+' '0+' '0'\n",
            " 'Free']\n",
            "\n",
            "Total unique values in Type is 3 and the values are:\n",
            " ['Free' 'Paid' nan '0']\n",
            "\n",
            "Total unique values in Price is 93 and the values are:\n",
            " ['0' '$4.99' '$3.99' '$6.99' '$1.49' '$2.99' '$7.99' '$5.99' '$3.49'\n",
            " '$1.99' '$9.99' '$7.49' '$0.99' '$9.00' '$5.49' '$10.00' '$24.99'\n",
            " '$11.99' '$79.99' '$16.99' '$14.99' '$1.00' '$29.99' '$12.99' '$2.49'\n",
            " '$10.99' '$1.50' '$19.99' '$15.99' '$33.99' '$74.99' '$39.99' '$3.95'\n",
            " '$4.49' '$1.70' '$8.99' '$2.00' '$3.88' '$25.99' '$399.99' '$17.99'\n",
            " '$400.00' '$3.02' '$1.76' '$4.84' '$4.77' '$1.61' '$2.50' '$1.59' '$6.49'\n",
            " '$1.29' '$5.00' '$13.99' '$299.99' '$379.99' '$37.99' '$18.99' '$389.99'\n",
            " '$19.90' '$8.49' '$1.75' '$14.00' '$4.85' '$46.99' '$109.99' '$154.99'\n",
            " '$3.08' '$2.59' '$4.80' '$1.96' '$19.40' '$3.90' '$4.59' '$15.46' '$3.04'\n",
            " '$4.29' '$2.60' '$3.28' '$4.60' '$28.99' '$2.95' '$2.90' '$1.97'\n",
            " '$200.00' '$89.99' '$2.56' '$30.99' '$3.61' '$394.99' '$1.26' 'Everyone'\n",
            " '$1.20' '$1.04']\n",
            "\n",
            "Total unique values in Content Rating is 6 and the values are:\n",
            " ['Everyone' 'Teen' 'Everyone 10+' 'Mature 17+' 'Adults only 18+' 'Unrated'\n",
            " nan]\n",
            "\n",
            "Total unique values in Genres is 120 and the values are:\n",
            " ['Art & Design' 'Art & Design;Pretend Play' 'Art & Design;Creativity'\n",
            " 'Art & Design;Action & Adventure' 'Auto & Vehicles' 'Beauty'\n",
            " 'Books & Reference' 'Business' 'Comics' 'Comics;Creativity'\n",
            " 'Communication' 'Dating' 'Education;Education' 'Education'\n",
            " 'Education;Creativity' 'Education;Music & Video'\n",
            " 'Education;Action & Adventure' 'Education;Pretend Play'\n",
            " 'Education;Brain Games' 'Entertainment' 'Entertainment;Music & Video'\n",
            " 'Entertainment;Brain Games' 'Entertainment;Creativity' 'Events' 'Finance'\n",
            " 'Food & Drink' 'Health & Fitness' 'House & Home' 'Libraries & Demo'\n",
            " 'Lifestyle' 'Lifestyle;Pretend Play' 'Adventure;Action & Adventure'\n",
            " 'Arcade' 'Casual' 'Card' 'Casual;Pretend Play' 'Action' 'Strategy'\n",
            " 'Puzzle' 'Sports' 'Music' 'Word' 'Racing' 'Casual;Creativity'\n",
            " 'Casual;Action & Adventure' 'Simulation' 'Adventure' 'Board' 'Trivia'\n",
            " 'Role Playing' 'Simulation;Education' 'Action;Action & Adventure'\n",
            " 'Casual;Brain Games' 'Simulation;Action & Adventure'\n",
            " 'Educational;Creativity' 'Puzzle;Brain Games' 'Educational;Education'\n",
            " 'Card;Brain Games' 'Educational;Brain Games' 'Educational;Pretend Play'\n",
            " 'Entertainment;Education' 'Casual;Education' 'Music;Music & Video'\n",
            " 'Racing;Action & Adventure' 'Arcade;Pretend Play'\n",
            " 'Role Playing;Action & Adventure' 'Simulation;Pretend Play'\n",
            " 'Puzzle;Creativity' 'Sports;Action & Adventure'\n",
            " 'Educational;Action & Adventure' 'Arcade;Action & Adventure'\n",
            " 'Entertainment;Action & Adventure' 'Puzzle;Action & Adventure'\n",
            " 'Strategy;Action & Adventure' 'Music & Audio;Music & Video'\n",
            " 'Health & Fitness;Education' 'Adventure;Education' 'Board;Brain Games'\n",
            " 'Board;Action & Adventure' 'Board;Pretend Play' 'Casual;Music & Video'\n",
            " 'Role Playing;Pretend Play' 'Entertainment;Pretend Play'\n",
            " 'Video Players & Editors;Creativity' 'Card;Action & Adventure' 'Medical'\n",
            " 'Social' 'Shopping' 'Photography' 'Travel & Local'\n",
            " 'Travel & Local;Action & Adventure' 'Tools' 'Tools;Education'\n",
            " 'Personalization' 'Productivity' 'Parenting' 'Parenting;Music & Video'\n",
            " 'Parenting;Education' 'Parenting;Brain Games' 'Weather'\n",
            " 'Video Players & Editors' 'Video Players & Editors;Music & Video'\n",
            " 'News & Magazines' 'Maps & Navigation'\n",
            " 'Health & Fitness;Action & Adventure' 'Educational' 'Casino'\n",
            " 'Adventure;Brain Games' 'Trivia;Education' 'Lifestyle;Education'\n",
            " 'Books & Reference;Creativity' 'Books & Reference;Education'\n",
            " 'Puzzle;Education' 'Role Playing;Education' 'Role Playing;Brain Games'\n",
            " 'Strategy;Education' 'Racing;Pretend Play' 'Communication;Creativity'\n",
            " 'February 11, 2018' 'Strategy;Creativity']\n",
            "\n",
            "Total unique values in Last Updated is 1378 and the values are:\n",
            " ['January 7, 2018' 'January 15, 2018' 'August 1, 2018' ...\n",
            " 'January 20, 2014' 'February 16, 2014' 'March 23, 2014']\n",
            "\n",
            "Total unique values in Current Ver is 2832 and the values are:\n",
            " ['1.0.0' '2.0.0' '1.2.4' ... '1.0.612928' '0.3.4' '2.0.148.0']\n",
            "\n",
            "Total unique values in Android Ver is 33 and the values are:\n",
            " ['4.0.3 and up' '4.2 and up' '4.4 and up' '2.3 and up' '3.0 and up'\n",
            " '4.1 and up' '4.0 and up' '2.3.3 and up' 'Varies with device'\n",
            " '2.2 and up' '5.0 and up' '6.0 and up' '1.6 and up' '1.5 and up'\n",
            " '2.1 and up' '7.0 and up' '5.1 and up' '4.3 and up' '4.0.3 - 7.1.1'\n",
            " '2.0 and up' '3.2 and up' '4.4W and up' '7.1 and up' '7.0 - 7.1.1'\n",
            " '8.0 and up' '5.0 - 8.0' '3.1 and up' '2.0.1 and up' '4.1 - 7.1.1' nan\n",
            " '5.0 - 6.0' '1.0 and up' '2.2 - 7.1.1' '5.0 - 7.1.1']\n",
            "\n"
          ]
        }
      ]
    },
    {
      "cell_type": "markdown",
      "source": [
        "## 3. ***Data Wrangling***"
      ],
      "metadata": {
        "id": "dauF4eBmngu3"
      }
    },
    {
      "cell_type": "markdown",
      "source": [
        "Before starting Data Wrangling, will first  make a copy of our dataset."
      ],
      "metadata": {
        "id": "Qa_qYMuNn-Im"
      }
    },
    {
      "cell_type": "code",
      "source": [
        "df_copy=df.copy()"
      ],
      "metadata": {
        "id": "7KHgZbDMoR2N"
      },
      "execution_count": 13,
      "outputs": []
    },
    {
      "cell_type": "markdown",
      "source": [
        "### Data Wrangling Code"
      ],
      "metadata": {
        "id": "bKJF3rekwFvQ"
      }
    },
    {
      "cell_type": "markdown",
      "source": [
        "We will start our data wrangling with handling duplicate values"
      ],
      "metadata": {
        "id": "7Vf2LVNEpFtE"
      }
    },
    {
      "cell_type": "code",
      "source": [
        "#checking the duplicates\n",
        "duplicates = df[df.duplicated(keep=False)]\n",
        "duplicates.head()"
      ],
      "metadata": {
        "id": "VV-46KHtIdlF",
        "colab": {
          "base_uri": "https://localhost:8080/",
          "height": 354
        },
        "outputId": "710c8ea5-01db-4c4b-8638-44e8dba9a52d"
      },
      "execution_count": 14,
      "outputs": [
        {
          "output_type": "execute_result",
          "data": {
            "text/plain": [
              "                               App             Category  Rating Reviews  \\\n",
              "164                   Ebook Reader  BOOKS_AND_REFERENCE     4.1   85842   \n",
              "192  Docs To Go™ Free Office Suite             BUSINESS     4.1  217730   \n",
              "193             Google My Business             BUSINESS     4.4   70991   \n",
              "204                            Box             BUSINESS     4.2  159872   \n",
              "213            ZOOM Cloud Meetings             BUSINESS     4.4   31614   \n",
              "\n",
              "                   Size     Installs  Type Price Content Rating  \\\n",
              "164                 37M   5,000,000+  Free     0       Everyone   \n",
              "192  Varies with device  50,000,000+  Free     0       Everyone   \n",
              "193  Varies with device   5,000,000+  Free     0       Everyone   \n",
              "204  Varies with device  10,000,000+  Free     0       Everyone   \n",
              "213                 37M  10,000,000+  Free     0       Everyone   \n",
              "\n",
              "                Genres   Last Updated         Current Ver         Android Ver  \n",
              "164  Books & Reference  June 25, 2018               5.0.6          4.0 and up  \n",
              "192           Business  April 2, 2018  Varies with device  Varies with device  \n",
              "193           Business  July 24, 2018    2.19.0.204537701          4.4 and up  \n",
              "204           Business  July 31, 2018  Varies with device  Varies with device  \n",
              "213           Business  July 20, 2018      4.1.28165.0716          4.0 and up  "
            ],
            "text/html": [
              "\n",
              "  <div id=\"df-f731f7aa-3ea1-44ac-a938-361c6b329630\">\n",
              "    <div class=\"colab-df-container\">\n",
              "      <div>\n",
              "<style scoped>\n",
              "    .dataframe tbody tr th:only-of-type {\n",
              "        vertical-align: middle;\n",
              "    }\n",
              "\n",
              "    .dataframe tbody tr th {\n",
              "        vertical-align: top;\n",
              "    }\n",
              "\n",
              "    .dataframe thead th {\n",
              "        text-align: right;\n",
              "    }\n",
              "</style>\n",
              "<table border=\"1\" class=\"dataframe\">\n",
              "  <thead>\n",
              "    <tr style=\"text-align: right;\">\n",
              "      <th></th>\n",
              "      <th>App</th>\n",
              "      <th>Category</th>\n",
              "      <th>Rating</th>\n",
              "      <th>Reviews</th>\n",
              "      <th>Size</th>\n",
              "      <th>Installs</th>\n",
              "      <th>Type</th>\n",
              "      <th>Price</th>\n",
              "      <th>Content Rating</th>\n",
              "      <th>Genres</th>\n",
              "      <th>Last Updated</th>\n",
              "      <th>Current Ver</th>\n",
              "      <th>Android Ver</th>\n",
              "    </tr>\n",
              "  </thead>\n",
              "  <tbody>\n",
              "    <tr>\n",
              "      <th>164</th>\n",
              "      <td>Ebook Reader</td>\n",
              "      <td>BOOKS_AND_REFERENCE</td>\n",
              "      <td>4.1</td>\n",
              "      <td>85842</td>\n",
              "      <td>37M</td>\n",
              "      <td>5,000,000+</td>\n",
              "      <td>Free</td>\n",
              "      <td>0</td>\n",
              "      <td>Everyone</td>\n",
              "      <td>Books &amp; Reference</td>\n",
              "      <td>June 25, 2018</td>\n",
              "      <td>5.0.6</td>\n",
              "      <td>4.0 and up</td>\n",
              "    </tr>\n",
              "    <tr>\n",
              "      <th>192</th>\n",
              "      <td>Docs To Go™ Free Office Suite</td>\n",
              "      <td>BUSINESS</td>\n",
              "      <td>4.1</td>\n",
              "      <td>217730</td>\n",
              "      <td>Varies with device</td>\n",
              "      <td>50,000,000+</td>\n",
              "      <td>Free</td>\n",
              "      <td>0</td>\n",
              "      <td>Everyone</td>\n",
              "      <td>Business</td>\n",
              "      <td>April 2, 2018</td>\n",
              "      <td>Varies with device</td>\n",
              "      <td>Varies with device</td>\n",
              "    </tr>\n",
              "    <tr>\n",
              "      <th>193</th>\n",
              "      <td>Google My Business</td>\n",
              "      <td>BUSINESS</td>\n",
              "      <td>4.4</td>\n",
              "      <td>70991</td>\n",
              "      <td>Varies with device</td>\n",
              "      <td>5,000,000+</td>\n",
              "      <td>Free</td>\n",
              "      <td>0</td>\n",
              "      <td>Everyone</td>\n",
              "      <td>Business</td>\n",
              "      <td>July 24, 2018</td>\n",
              "      <td>2.19.0.204537701</td>\n",
              "      <td>4.4 and up</td>\n",
              "    </tr>\n",
              "    <tr>\n",
              "      <th>204</th>\n",
              "      <td>Box</td>\n",
              "      <td>BUSINESS</td>\n",
              "      <td>4.2</td>\n",
              "      <td>159872</td>\n",
              "      <td>Varies with device</td>\n",
              "      <td>10,000,000+</td>\n",
              "      <td>Free</td>\n",
              "      <td>0</td>\n",
              "      <td>Everyone</td>\n",
              "      <td>Business</td>\n",
              "      <td>July 31, 2018</td>\n",
              "      <td>Varies with device</td>\n",
              "      <td>Varies with device</td>\n",
              "    </tr>\n",
              "    <tr>\n",
              "      <th>213</th>\n",
              "      <td>ZOOM Cloud Meetings</td>\n",
              "      <td>BUSINESS</td>\n",
              "      <td>4.4</td>\n",
              "      <td>31614</td>\n",
              "      <td>37M</td>\n",
              "      <td>10,000,000+</td>\n",
              "      <td>Free</td>\n",
              "      <td>0</td>\n",
              "      <td>Everyone</td>\n",
              "      <td>Business</td>\n",
              "      <td>July 20, 2018</td>\n",
              "      <td>4.1.28165.0716</td>\n",
              "      <td>4.0 and up</td>\n",
              "    </tr>\n",
              "  </tbody>\n",
              "</table>\n",
              "</div>\n",
              "      <button class=\"colab-df-convert\" onclick=\"convertToInteractive('df-f731f7aa-3ea1-44ac-a938-361c6b329630')\"\n",
              "              title=\"Convert this dataframe to an interactive table.\"\n",
              "              style=\"display:none;\">\n",
              "        \n",
              "  <svg xmlns=\"http://www.w3.org/2000/svg\" height=\"24px\"viewBox=\"0 0 24 24\"\n",
              "       width=\"24px\">\n",
              "    <path d=\"M0 0h24v24H0V0z\" fill=\"none\"/>\n",
              "    <path d=\"M18.56 5.44l.94 2.06.94-2.06 2.06-.94-2.06-.94-.94-2.06-.94 2.06-2.06.94zm-11 1L8.5 8.5l.94-2.06 2.06-.94-2.06-.94L8.5 2.5l-.94 2.06-2.06.94zm10 10l.94 2.06.94-2.06 2.06-.94-2.06-.94-.94-2.06-.94 2.06-2.06.94z\"/><path d=\"M17.41 7.96l-1.37-1.37c-.4-.4-.92-.59-1.43-.59-.52 0-1.04.2-1.43.59L10.3 9.45l-7.72 7.72c-.78.78-.78 2.05 0 2.83L4 21.41c.39.39.9.59 1.41.59.51 0 1.02-.2 1.41-.59l7.78-7.78 2.81-2.81c.8-.78.8-2.07 0-2.86zM5.41 20L4 18.59l7.72-7.72 1.47 1.35L5.41 20z\"/>\n",
              "  </svg>\n",
              "      </button>\n",
              "      \n",
              "  <style>\n",
              "    .colab-df-container {\n",
              "      display:flex;\n",
              "      flex-wrap:wrap;\n",
              "      gap: 12px;\n",
              "    }\n",
              "\n",
              "    .colab-df-convert {\n",
              "      background-color: #E8F0FE;\n",
              "      border: none;\n",
              "      border-radius: 50%;\n",
              "      cursor: pointer;\n",
              "      display: none;\n",
              "      fill: #1967D2;\n",
              "      height: 32px;\n",
              "      padding: 0 0 0 0;\n",
              "      width: 32px;\n",
              "    }\n",
              "\n",
              "    .colab-df-convert:hover {\n",
              "      background-color: #E2EBFA;\n",
              "      box-shadow: 0px 1px 2px rgba(60, 64, 67, 0.3), 0px 1px 3px 1px rgba(60, 64, 67, 0.15);\n",
              "      fill: #174EA6;\n",
              "    }\n",
              "\n",
              "    [theme=dark] .colab-df-convert {\n",
              "      background-color: #3B4455;\n",
              "      fill: #D2E3FC;\n",
              "    }\n",
              "\n",
              "    [theme=dark] .colab-df-convert:hover {\n",
              "      background-color: #434B5C;\n",
              "      box-shadow: 0px 1px 3px 1px rgba(0, 0, 0, 0.15);\n",
              "      filter: drop-shadow(0px 1px 2px rgba(0, 0, 0, 0.3));\n",
              "      fill: #FFFFFF;\n",
              "    }\n",
              "  </style>\n",
              "\n",
              "      <script>\n",
              "        const buttonEl =\n",
              "          document.querySelector('#df-f731f7aa-3ea1-44ac-a938-361c6b329630 button.colab-df-convert');\n",
              "        buttonEl.style.display =\n",
              "          google.colab.kernel.accessAllowed ? 'block' : 'none';\n",
              "\n",
              "        async function convertToInteractive(key) {\n",
              "          const element = document.querySelector('#df-f731f7aa-3ea1-44ac-a938-361c6b329630');\n",
              "          const dataTable =\n",
              "            await google.colab.kernel.invokeFunction('convertToInteractive',\n",
              "                                                     [key], {});\n",
              "          if (!dataTable) return;\n",
              "\n",
              "          const docLinkHtml = 'Like what you see? Visit the ' +\n",
              "            '<a target=\"_blank\" href=https://colab.research.google.com/notebooks/data_table.ipynb>data table notebook</a>'\n",
              "            + ' to learn more about interactive tables.';\n",
              "          element.innerHTML = '';\n",
              "          dataTable['output_type'] = 'display_data';\n",
              "          await google.colab.output.renderOutput(dataTable, element);\n",
              "          const docLink = document.createElement('div');\n",
              "          docLink.innerHTML = docLinkHtml;\n",
              "          element.appendChild(docLink);\n",
              "        }\n",
              "      </script>\n",
              "    </div>\n",
              "  </div>\n",
              "  "
            ]
          },
          "metadata": {},
          "execution_count": 14
        }
      ]
    },
    {
      "cell_type": "markdown",
      "source": [
        "The above code returns a DataFrame that contains all rows that are duplicates. The 'keep=False' argument is used to indicate that all duplicate rows should be included in the result. If we used \"keep='first'\" instead, it would only include the first occurrence of each duplicate row."
      ],
      "metadata": {
        "id": "nSlK1tOUqpjk"
      }
    },
    {
      "cell_type": "code",
      "source": [
        "# checking the sample of duplicate rows\n",
        "duplicates = df.duplicated(keep=False)\n",
        "duplicate_rows = df[duplicates].sort_values(by=list(df.columns))\n",
        "duplicate_rows"
      ],
      "metadata": {
        "id": "gbSAo_vboxia",
        "colab": {
          "base_uri": "https://localhost:8080/",
          "height": 623
        },
        "outputId": "439a9e6f-3378-4791-9006-cd89a85784ba"
      },
      "execution_count": 15,
      "outputs": [
        {
          "output_type": "execute_result",
          "data": {
            "text/plain": [
              "                                                    App            Category  \\\n",
              "1393                              10 Best Foods for You  HEALTH_AND_FITNESS   \n",
              "1407                              10 Best Foods for You  HEALTH_AND_FITNESS   \n",
              "2322                         1800 Contacts - Lens Store             MEDICAL   \n",
              "2543                         1800 Contacts - Lens Store             MEDICAL   \n",
              "2256                         2017 EMRA Antibiotic Guide             MEDICAL   \n",
              "...                                                 ...                 ...   \n",
              "3063  theScore: Live Sports Scores, News, Stats & Vi...              SPORTS   \n",
              "3085  theScore: Live Sports Scores, News, Stats & Vi...              SPORTS   \n",
              "3103                           trivago: Hotels & Travel    TRAVEL_AND_LOCAL   \n",
              "3118                           trivago: Hotels & Travel    TRAVEL_AND_LOCAL   \n",
              "3202                           trivago: Hotels & Travel    TRAVEL_AND_LOCAL   \n",
              "\n",
              "      Rating Reviews                Size     Installs  Type   Price  \\\n",
              "1393     4.0    2490                3.8M     500,000+  Free       0   \n",
              "1407     4.0    2490                3.8M     500,000+  Free       0   \n",
              "2322     4.7   23160                 26M   1,000,000+  Free       0   \n",
              "2543     4.7   23160                 26M   1,000,000+  Free       0   \n",
              "2256     4.4      12                3.8M       1,000+  Paid  $16.99   \n",
              "...      ...     ...                 ...          ...   ...     ...   \n",
              "3063     4.4  133833                 34M  10,000,000+  Free       0   \n",
              "3085     4.4  133833                 34M  10,000,000+  Free       0   \n",
              "3103     4.2  219848  Varies with device  50,000,000+  Free       0   \n",
              "3118     4.2  219848  Varies with device  50,000,000+  Free       0   \n",
              "3202     4.2  219848  Varies with device  50,000,000+  Free       0   \n",
              "\n",
              "     Content Rating            Genres       Last Updated         Current Ver  \\\n",
              "1393   Everyone 10+  Health & Fitness  February 17, 2017                 1.9   \n",
              "1407   Everyone 10+  Health & Fitness  February 17, 2017                 1.9   \n",
              "2322       Everyone           Medical      July 27, 2018               7.4.1   \n",
              "2543       Everyone           Medical      July 27, 2018               7.4.1   \n",
              "2256       Everyone           Medical   January 27, 2017               1.0.5   \n",
              "...             ...               ...                ...                 ...   \n",
              "3063   Everyone 10+            Sports      July 25, 2018              6.17.2   \n",
              "3085   Everyone 10+            Sports      July 25, 2018              6.17.2   \n",
              "3103       Everyone    Travel & Local     August 2, 2018  Varies with device   \n",
              "3118       Everyone    Travel & Local     August 2, 2018  Varies with device   \n",
              "3202       Everyone    Travel & Local     August 2, 2018  Varies with device   \n",
              "\n",
              "             Android Ver  \n",
              "1393        2.3.3 and up  \n",
              "1407        2.3.3 and up  \n",
              "2322          5.0 and up  \n",
              "2543          5.0 and up  \n",
              "2256        4.0.3 and up  \n",
              "...                  ...  \n",
              "3063          4.4 and up  \n",
              "3085          4.4 and up  \n",
              "3103  Varies with device  \n",
              "3118  Varies with device  \n",
              "3202  Varies with device  \n",
              "\n",
              "[893 rows x 13 columns]"
            ],
            "text/html": [
              "\n",
              "  <div id=\"df-33d7fd9e-50f4-4fa4-a82c-042628c44266\">\n",
              "    <div class=\"colab-df-container\">\n",
              "      <div>\n",
              "<style scoped>\n",
              "    .dataframe tbody tr th:only-of-type {\n",
              "        vertical-align: middle;\n",
              "    }\n",
              "\n",
              "    .dataframe tbody tr th {\n",
              "        vertical-align: top;\n",
              "    }\n",
              "\n",
              "    .dataframe thead th {\n",
              "        text-align: right;\n",
              "    }\n",
              "</style>\n",
              "<table border=\"1\" class=\"dataframe\">\n",
              "  <thead>\n",
              "    <tr style=\"text-align: right;\">\n",
              "      <th></th>\n",
              "      <th>App</th>\n",
              "      <th>Category</th>\n",
              "      <th>Rating</th>\n",
              "      <th>Reviews</th>\n",
              "      <th>Size</th>\n",
              "      <th>Installs</th>\n",
              "      <th>Type</th>\n",
              "      <th>Price</th>\n",
              "      <th>Content Rating</th>\n",
              "      <th>Genres</th>\n",
              "      <th>Last Updated</th>\n",
              "      <th>Current Ver</th>\n",
              "      <th>Android Ver</th>\n",
              "    </tr>\n",
              "  </thead>\n",
              "  <tbody>\n",
              "    <tr>\n",
              "      <th>1393</th>\n",
              "      <td>10 Best Foods for You</td>\n",
              "      <td>HEALTH_AND_FITNESS</td>\n",
              "      <td>4.0</td>\n",
              "      <td>2490</td>\n",
              "      <td>3.8M</td>\n",
              "      <td>500,000+</td>\n",
              "      <td>Free</td>\n",
              "      <td>0</td>\n",
              "      <td>Everyone 10+</td>\n",
              "      <td>Health &amp; Fitness</td>\n",
              "      <td>February 17, 2017</td>\n",
              "      <td>1.9</td>\n",
              "      <td>2.3.3 and up</td>\n",
              "    </tr>\n",
              "    <tr>\n",
              "      <th>1407</th>\n",
              "      <td>10 Best Foods for You</td>\n",
              "      <td>HEALTH_AND_FITNESS</td>\n",
              "      <td>4.0</td>\n",
              "      <td>2490</td>\n",
              "      <td>3.8M</td>\n",
              "      <td>500,000+</td>\n",
              "      <td>Free</td>\n",
              "      <td>0</td>\n",
              "      <td>Everyone 10+</td>\n",
              "      <td>Health &amp; Fitness</td>\n",
              "      <td>February 17, 2017</td>\n",
              "      <td>1.9</td>\n",
              "      <td>2.3.3 and up</td>\n",
              "    </tr>\n",
              "    <tr>\n",
              "      <th>2322</th>\n",
              "      <td>1800 Contacts - Lens Store</td>\n",
              "      <td>MEDICAL</td>\n",
              "      <td>4.7</td>\n",
              "      <td>23160</td>\n",
              "      <td>26M</td>\n",
              "      <td>1,000,000+</td>\n",
              "      <td>Free</td>\n",
              "      <td>0</td>\n",
              "      <td>Everyone</td>\n",
              "      <td>Medical</td>\n",
              "      <td>July 27, 2018</td>\n",
              "      <td>7.4.1</td>\n",
              "      <td>5.0 and up</td>\n",
              "    </tr>\n",
              "    <tr>\n",
              "      <th>2543</th>\n",
              "      <td>1800 Contacts - Lens Store</td>\n",
              "      <td>MEDICAL</td>\n",
              "      <td>4.7</td>\n",
              "      <td>23160</td>\n",
              "      <td>26M</td>\n",
              "      <td>1,000,000+</td>\n",
              "      <td>Free</td>\n",
              "      <td>0</td>\n",
              "      <td>Everyone</td>\n",
              "      <td>Medical</td>\n",
              "      <td>July 27, 2018</td>\n",
              "      <td>7.4.1</td>\n",
              "      <td>5.0 and up</td>\n",
              "    </tr>\n",
              "    <tr>\n",
              "      <th>2256</th>\n",
              "      <td>2017 EMRA Antibiotic Guide</td>\n",
              "      <td>MEDICAL</td>\n",
              "      <td>4.4</td>\n",
              "      <td>12</td>\n",
              "      <td>3.8M</td>\n",
              "      <td>1,000+</td>\n",
              "      <td>Paid</td>\n",
              "      <td>$16.99</td>\n",
              "      <td>Everyone</td>\n",
              "      <td>Medical</td>\n",
              "      <td>January 27, 2017</td>\n",
              "      <td>1.0.5</td>\n",
              "      <td>4.0.3 and up</td>\n",
              "    </tr>\n",
              "    <tr>\n",
              "      <th>...</th>\n",
              "      <td>...</td>\n",
              "      <td>...</td>\n",
              "      <td>...</td>\n",
              "      <td>...</td>\n",
              "      <td>...</td>\n",
              "      <td>...</td>\n",
              "      <td>...</td>\n",
              "      <td>...</td>\n",
              "      <td>...</td>\n",
              "      <td>...</td>\n",
              "      <td>...</td>\n",
              "      <td>...</td>\n",
              "      <td>...</td>\n",
              "    </tr>\n",
              "    <tr>\n",
              "      <th>3063</th>\n",
              "      <td>theScore: Live Sports Scores, News, Stats &amp; Vi...</td>\n",
              "      <td>SPORTS</td>\n",
              "      <td>4.4</td>\n",
              "      <td>133833</td>\n",
              "      <td>34M</td>\n",
              "      <td>10,000,000+</td>\n",
              "      <td>Free</td>\n",
              "      <td>0</td>\n",
              "      <td>Everyone 10+</td>\n",
              "      <td>Sports</td>\n",
              "      <td>July 25, 2018</td>\n",
              "      <td>6.17.2</td>\n",
              "      <td>4.4 and up</td>\n",
              "    </tr>\n",
              "    <tr>\n",
              "      <th>3085</th>\n",
              "      <td>theScore: Live Sports Scores, News, Stats &amp; Vi...</td>\n",
              "      <td>SPORTS</td>\n",
              "      <td>4.4</td>\n",
              "      <td>133833</td>\n",
              "      <td>34M</td>\n",
              "      <td>10,000,000+</td>\n",
              "      <td>Free</td>\n",
              "      <td>0</td>\n",
              "      <td>Everyone 10+</td>\n",
              "      <td>Sports</td>\n",
              "      <td>July 25, 2018</td>\n",
              "      <td>6.17.2</td>\n",
              "      <td>4.4 and up</td>\n",
              "    </tr>\n",
              "    <tr>\n",
              "      <th>3103</th>\n",
              "      <td>trivago: Hotels &amp; Travel</td>\n",
              "      <td>TRAVEL_AND_LOCAL</td>\n",
              "      <td>4.2</td>\n",
              "      <td>219848</td>\n",
              "      <td>Varies with device</td>\n",
              "      <td>50,000,000+</td>\n",
              "      <td>Free</td>\n",
              "      <td>0</td>\n",
              "      <td>Everyone</td>\n",
              "      <td>Travel &amp; Local</td>\n",
              "      <td>August 2, 2018</td>\n",
              "      <td>Varies with device</td>\n",
              "      <td>Varies with device</td>\n",
              "    </tr>\n",
              "    <tr>\n",
              "      <th>3118</th>\n",
              "      <td>trivago: Hotels &amp; Travel</td>\n",
              "      <td>TRAVEL_AND_LOCAL</td>\n",
              "      <td>4.2</td>\n",
              "      <td>219848</td>\n",
              "      <td>Varies with device</td>\n",
              "      <td>50,000,000+</td>\n",
              "      <td>Free</td>\n",
              "      <td>0</td>\n",
              "      <td>Everyone</td>\n",
              "      <td>Travel &amp; Local</td>\n",
              "      <td>August 2, 2018</td>\n",
              "      <td>Varies with device</td>\n",
              "      <td>Varies with device</td>\n",
              "    </tr>\n",
              "    <tr>\n",
              "      <th>3202</th>\n",
              "      <td>trivago: Hotels &amp; Travel</td>\n",
              "      <td>TRAVEL_AND_LOCAL</td>\n",
              "      <td>4.2</td>\n",
              "      <td>219848</td>\n",
              "      <td>Varies with device</td>\n",
              "      <td>50,000,000+</td>\n",
              "      <td>Free</td>\n",
              "      <td>0</td>\n",
              "      <td>Everyone</td>\n",
              "      <td>Travel &amp; Local</td>\n",
              "      <td>August 2, 2018</td>\n",
              "      <td>Varies with device</td>\n",
              "      <td>Varies with device</td>\n",
              "    </tr>\n",
              "  </tbody>\n",
              "</table>\n",
              "<p>893 rows × 13 columns</p>\n",
              "</div>\n",
              "      <button class=\"colab-df-convert\" onclick=\"convertToInteractive('df-33d7fd9e-50f4-4fa4-a82c-042628c44266')\"\n",
              "              title=\"Convert this dataframe to an interactive table.\"\n",
              "              style=\"display:none;\">\n",
              "        \n",
              "  <svg xmlns=\"http://www.w3.org/2000/svg\" height=\"24px\"viewBox=\"0 0 24 24\"\n",
              "       width=\"24px\">\n",
              "    <path d=\"M0 0h24v24H0V0z\" fill=\"none\"/>\n",
              "    <path d=\"M18.56 5.44l.94 2.06.94-2.06 2.06-.94-2.06-.94-.94-2.06-.94 2.06-2.06.94zm-11 1L8.5 8.5l.94-2.06 2.06-.94-2.06-.94L8.5 2.5l-.94 2.06-2.06.94zm10 10l.94 2.06.94-2.06 2.06-.94-2.06-.94-.94-2.06-.94 2.06-2.06.94z\"/><path d=\"M17.41 7.96l-1.37-1.37c-.4-.4-.92-.59-1.43-.59-.52 0-1.04.2-1.43.59L10.3 9.45l-7.72 7.72c-.78.78-.78 2.05 0 2.83L4 21.41c.39.39.9.59 1.41.59.51 0 1.02-.2 1.41-.59l7.78-7.78 2.81-2.81c.8-.78.8-2.07 0-2.86zM5.41 20L4 18.59l7.72-7.72 1.47 1.35L5.41 20z\"/>\n",
              "  </svg>\n",
              "      </button>\n",
              "      \n",
              "  <style>\n",
              "    .colab-df-container {\n",
              "      display:flex;\n",
              "      flex-wrap:wrap;\n",
              "      gap: 12px;\n",
              "    }\n",
              "\n",
              "    .colab-df-convert {\n",
              "      background-color: #E8F0FE;\n",
              "      border: none;\n",
              "      border-radius: 50%;\n",
              "      cursor: pointer;\n",
              "      display: none;\n",
              "      fill: #1967D2;\n",
              "      height: 32px;\n",
              "      padding: 0 0 0 0;\n",
              "      width: 32px;\n",
              "    }\n",
              "\n",
              "    .colab-df-convert:hover {\n",
              "      background-color: #E2EBFA;\n",
              "      box-shadow: 0px 1px 2px rgba(60, 64, 67, 0.3), 0px 1px 3px 1px rgba(60, 64, 67, 0.15);\n",
              "      fill: #174EA6;\n",
              "    }\n",
              "\n",
              "    [theme=dark] .colab-df-convert {\n",
              "      background-color: #3B4455;\n",
              "      fill: #D2E3FC;\n",
              "    }\n",
              "\n",
              "    [theme=dark] .colab-df-convert:hover {\n",
              "      background-color: #434B5C;\n",
              "      box-shadow: 0px 1px 3px 1px rgba(0, 0, 0, 0.15);\n",
              "      filter: drop-shadow(0px 1px 2px rgba(0, 0, 0, 0.3));\n",
              "      fill: #FFFFFF;\n",
              "    }\n",
              "  </style>\n",
              "\n",
              "      <script>\n",
              "        const buttonEl =\n",
              "          document.querySelector('#df-33d7fd9e-50f4-4fa4-a82c-042628c44266 button.colab-df-convert');\n",
              "        buttonEl.style.display =\n",
              "          google.colab.kernel.accessAllowed ? 'block' : 'none';\n",
              "\n",
              "        async function convertToInteractive(key) {\n",
              "          const element = document.querySelector('#df-33d7fd9e-50f4-4fa4-a82c-042628c44266');\n",
              "          const dataTable =\n",
              "            await google.colab.kernel.invokeFunction('convertToInteractive',\n",
              "                                                     [key], {});\n",
              "          if (!dataTable) return;\n",
              "\n",
              "          const docLinkHtml = 'Like what you see? Visit the ' +\n",
              "            '<a target=\"_blank\" href=https://colab.research.google.com/notebooks/data_table.ipynb>data table notebook</a>'\n",
              "            + ' to learn more about interactive tables.';\n",
              "          element.innerHTML = '';\n",
              "          dataTable['output_type'] = 'display_data';\n",
              "          await google.colab.output.renderOutput(dataTable, element);\n",
              "          const docLink = document.createElement('div');\n",
              "          docLink.innerHTML = docLinkHtml;\n",
              "          element.appendChild(docLink);\n",
              "        }\n",
              "      </script>\n",
              "    </div>\n",
              "  </div>\n",
              "  "
            ]
          },
          "metadata": {},
          "execution_count": 15
        }
      ]
    },
    {
      "cell_type": "markdown",
      "source": [
        "The above code ensures that duplicates are placed adjacent to each other.The 'by' parameter specifies the columns based on which the sorting is to be done. In this case, list(df.columns) returns a list of all the column names of the DataFrame. Therefore, the sort_values() method sorts the DataFrame rows based on all the columns in the DataFrame in alphabetical order."
      ],
      "metadata": {
        "id": "z6-j2_vbrEs-"
      }
    },
    {
      "cell_type": "code",
      "source": [
        "#dropping the duplicat rows in the copy of the dataframe\n",
        "df_copy = df_copy.drop_duplicates()"
      ],
      "metadata": {
        "id": "FSCig_pnrKS3"
      },
      "execution_count": 16,
      "outputs": []
    },
    {
      "cell_type": "code",
      "source": [
        "# checking the number of duplicate rows in the copy\n",
        "num_duplicates = df_copy.duplicated().sum()\n",
        "print(f\"Number of duplicate rows: {num_duplicates}\")"
      ],
      "metadata": {
        "id": "xunAfQ9_r57q",
        "colab": {
          "base_uri": "https://localhost:8080/"
        },
        "outputId": "3656cd85-598c-45c7-e75f-1819e5dcfe56"
      },
      "execution_count": 17,
      "outputs": [
        {
          "output_type": "stream",
          "name": "stdout",
          "text": [
            "Number of duplicate rows: 0\n"
          ]
        }
      ]
    },
    {
      "cell_type": "markdown",
      "source": [
        "Now, will try to handle missing values and will repalce them with appropriate values."
      ],
      "metadata": {
        "id": "i0fH_Kx_sKO6"
      }
    },
    {
      "cell_type": "code",
      "source": [
        "#names of columns with null values and the number of null values in each column\n",
        "null_columns = df_copy.isnull().sum()\n",
        "for column in null_columns.index:\n",
        "    if null_columns[column] > 0:\n",
        "        print(column, null_columns[column])"
      ],
      "metadata": {
        "id": "TgWxEE4Csv-w",
        "colab": {
          "base_uri": "https://localhost:8080/"
        },
        "outputId": "de203541-7a45-4c50-bbf5-ed3956799860"
      },
      "execution_count": 18,
      "outputs": [
        {
          "output_type": "stream",
          "name": "stdout",
          "text": [
            "Rating 1465\n",
            "Type 1\n",
            "Content Rating 1\n",
            "Current Ver 8\n",
            "Android Ver 3\n"
          ]
        }
      ]
    },
    {
      "cell_type": "code",
      "source": [
        "# replace missing values in categorical columns with mode\n",
        "df_copy['Type'].fillna(df_copy['Type'].mode()[0], inplace=True)\n",
        "df_copy['Content Rating'].fillna(df_copy['Content Rating'].mode()[0], inplace=True)\n",
        "df_copy['Current Ver'].fillna(df_copy['Current Ver'].mode()[0], inplace=True)\n",
        "df_copy['Android Ver'].fillna(df_copy['Android Ver'].mode()[0], inplace=True)"
      ],
      "metadata": {
        "id": "JI7DE2P85FRc",
        "colab": {
          "base_uri": "https://localhost:8080/"
        },
        "outputId": "e4e7cac8-5ad3-467b-a3c4-7eb2ae315f46"
      },
      "execution_count": 19,
      "outputs": [
        {
          "output_type": "stream",
          "name": "stderr",
          "text": [
            "/usr/local/lib/python3.9/dist-packages/pandas/core/generic.py:6392: SettingWithCopyWarning: \n",
            "A value is trying to be set on a copy of a slice from a DataFrame\n",
            "\n",
            "See the caveats in the documentation: https://pandas.pydata.org/pandas-docs/stable/user_guide/indexing.html#returning-a-view-versus-a-copy\n",
            "  return self._update_inplace(result)\n"
          ]
        }
      ]
    },
    {
      "cell_type": "code",
      "source": [
        "# replacing null values of Rating with its mean\n",
        "mean_rating = df_copy['Rating'].mean()\n",
        "df_copy['Rating'] = df_copy['Rating'].fillna(mean_rating)"
      ],
      "metadata": {
        "id": "QCRP_bHT5a8S"
      },
      "execution_count": 20,
      "outputs": []
    },
    {
      "cell_type": "code",
      "source": [
        "#checking total null values\n",
        "df_copy.isnull().sum().sum()"
      ],
      "metadata": {
        "id": "u3209mYW5mo9",
        "colab": {
          "base_uri": "https://localhost:8080/"
        },
        "outputId": "60ff8ef7-8799-467b-f9cb-97aaa7e2a9b2"
      },
      "execution_count": 21,
      "outputs": [
        {
          "output_type": "execute_result",
          "data": {
            "text/plain": [
              "0"
            ]
          },
          "metadata": {},
          "execution_count": 21
        }
      ]
    },
    {
      "cell_type": "markdown",
      "source": [
        "**Summary Statistics**"
      ],
      "metadata": {
        "id": "pEJ46hqB7MW9"
      }
    },
    {
      "cell_type": "code",
      "source": [
        "df_copy.describe()"
      ],
      "metadata": {
        "id": "rvIg7iAF9iPO",
        "colab": {
          "base_uri": "https://localhost:8080/",
          "height": 300
        },
        "outputId": "45cfd319-3834-4b4b-a537-d6029768d70e"
      },
      "execution_count": 22,
      "outputs": [
        {
          "output_type": "execute_result",
          "data": {
            "text/plain": [
              "             Rating\n",
              "count  10358.000000\n",
              "mean       4.189542\n",
              "std        0.505405\n",
              "min        1.000000\n",
              "25%        4.100000\n",
              "50%        4.200000\n",
              "75%        4.500000\n",
              "max       19.000000"
            ],
            "text/html": [
              "\n",
              "  <div id=\"df-c2691995-fe49-4648-b541-04eb7c862b43\">\n",
              "    <div class=\"colab-df-container\">\n",
              "      <div>\n",
              "<style scoped>\n",
              "    .dataframe tbody tr th:only-of-type {\n",
              "        vertical-align: middle;\n",
              "    }\n",
              "\n",
              "    .dataframe tbody tr th {\n",
              "        vertical-align: top;\n",
              "    }\n",
              "\n",
              "    .dataframe thead th {\n",
              "        text-align: right;\n",
              "    }\n",
              "</style>\n",
              "<table border=\"1\" class=\"dataframe\">\n",
              "  <thead>\n",
              "    <tr style=\"text-align: right;\">\n",
              "      <th></th>\n",
              "      <th>Rating</th>\n",
              "    </tr>\n",
              "  </thead>\n",
              "  <tbody>\n",
              "    <tr>\n",
              "      <th>count</th>\n",
              "      <td>10358.000000</td>\n",
              "    </tr>\n",
              "    <tr>\n",
              "      <th>mean</th>\n",
              "      <td>4.189542</td>\n",
              "    </tr>\n",
              "    <tr>\n",
              "      <th>std</th>\n",
              "      <td>0.505405</td>\n",
              "    </tr>\n",
              "    <tr>\n",
              "      <th>min</th>\n",
              "      <td>1.000000</td>\n",
              "    </tr>\n",
              "    <tr>\n",
              "      <th>25%</th>\n",
              "      <td>4.100000</td>\n",
              "    </tr>\n",
              "    <tr>\n",
              "      <th>50%</th>\n",
              "      <td>4.200000</td>\n",
              "    </tr>\n",
              "    <tr>\n",
              "      <th>75%</th>\n",
              "      <td>4.500000</td>\n",
              "    </tr>\n",
              "    <tr>\n",
              "      <th>max</th>\n",
              "      <td>19.000000</td>\n",
              "    </tr>\n",
              "  </tbody>\n",
              "</table>\n",
              "</div>\n",
              "      <button class=\"colab-df-convert\" onclick=\"convertToInteractive('df-c2691995-fe49-4648-b541-04eb7c862b43')\"\n",
              "              title=\"Convert this dataframe to an interactive table.\"\n",
              "              style=\"display:none;\">\n",
              "        \n",
              "  <svg xmlns=\"http://www.w3.org/2000/svg\" height=\"24px\"viewBox=\"0 0 24 24\"\n",
              "       width=\"24px\">\n",
              "    <path d=\"M0 0h24v24H0V0z\" fill=\"none\"/>\n",
              "    <path d=\"M18.56 5.44l.94 2.06.94-2.06 2.06-.94-2.06-.94-.94-2.06-.94 2.06-2.06.94zm-11 1L8.5 8.5l.94-2.06 2.06-.94-2.06-.94L8.5 2.5l-.94 2.06-2.06.94zm10 10l.94 2.06.94-2.06 2.06-.94-2.06-.94-.94-2.06-.94 2.06-2.06.94z\"/><path d=\"M17.41 7.96l-1.37-1.37c-.4-.4-.92-.59-1.43-.59-.52 0-1.04.2-1.43.59L10.3 9.45l-7.72 7.72c-.78.78-.78 2.05 0 2.83L4 21.41c.39.39.9.59 1.41.59.51 0 1.02-.2 1.41-.59l7.78-7.78 2.81-2.81c.8-.78.8-2.07 0-2.86zM5.41 20L4 18.59l7.72-7.72 1.47 1.35L5.41 20z\"/>\n",
              "  </svg>\n",
              "      </button>\n",
              "      \n",
              "  <style>\n",
              "    .colab-df-container {\n",
              "      display:flex;\n",
              "      flex-wrap:wrap;\n",
              "      gap: 12px;\n",
              "    }\n",
              "\n",
              "    .colab-df-convert {\n",
              "      background-color: #E8F0FE;\n",
              "      border: none;\n",
              "      border-radius: 50%;\n",
              "      cursor: pointer;\n",
              "      display: none;\n",
              "      fill: #1967D2;\n",
              "      height: 32px;\n",
              "      padding: 0 0 0 0;\n",
              "      width: 32px;\n",
              "    }\n",
              "\n",
              "    .colab-df-convert:hover {\n",
              "      background-color: #E2EBFA;\n",
              "      box-shadow: 0px 1px 2px rgba(60, 64, 67, 0.3), 0px 1px 3px 1px rgba(60, 64, 67, 0.15);\n",
              "      fill: #174EA6;\n",
              "    }\n",
              "\n",
              "    [theme=dark] .colab-df-convert {\n",
              "      background-color: #3B4455;\n",
              "      fill: #D2E3FC;\n",
              "    }\n",
              "\n",
              "    [theme=dark] .colab-df-convert:hover {\n",
              "      background-color: #434B5C;\n",
              "      box-shadow: 0px 1px 3px 1px rgba(0, 0, 0, 0.15);\n",
              "      filter: drop-shadow(0px 1px 2px rgba(0, 0, 0, 0.3));\n",
              "      fill: #FFFFFF;\n",
              "    }\n",
              "  </style>\n",
              "\n",
              "      <script>\n",
              "        const buttonEl =\n",
              "          document.querySelector('#df-c2691995-fe49-4648-b541-04eb7c862b43 button.colab-df-convert');\n",
              "        buttonEl.style.display =\n",
              "          google.colab.kernel.accessAllowed ? 'block' : 'none';\n",
              "\n",
              "        async function convertToInteractive(key) {\n",
              "          const element = document.querySelector('#df-c2691995-fe49-4648-b541-04eb7c862b43');\n",
              "          const dataTable =\n",
              "            await google.colab.kernel.invokeFunction('convertToInteractive',\n",
              "                                                     [key], {});\n",
              "          if (!dataTable) return;\n",
              "\n",
              "          const docLinkHtml = 'Like what you see? Visit the ' +\n",
              "            '<a target=\"_blank\" href=https://colab.research.google.com/notebooks/data_table.ipynb>data table notebook</a>'\n",
              "            + ' to learn more about interactive tables.';\n",
              "          element.innerHTML = '';\n",
              "          dataTable['output_type'] = 'display_data';\n",
              "          await google.colab.output.renderOutput(dataTable, element);\n",
              "          const docLink = document.createElement('div');\n",
              "          docLink.innerHTML = docLinkHtml;\n",
              "          element.appendChild(docLink);\n",
              "        }\n",
              "      </script>\n",
              "    </div>\n",
              "  </div>\n",
              "  "
            ]
          },
          "metadata": {},
          "execution_count": 22
        }
      ]
    },
    {
      "cell_type": "markdown",
      "source": [
        "The above descriptions of the summary statistics states that we have only one numeric column i.e. 'Rating' and its minimum value is 1 and maximum value is 19. But as we all know, ratings are given between 0 and 5 and therefore max value is certainly an outlier and most probably a wrong entry. So, we need to further investigate this. Later, will try to convert categorical columns like reviews,size, installs and price to numeric columns as their values are numeric in nature."
      ],
      "metadata": {
        "id": "OMh8yOXe9r0Y"
      }
    },
    {
      "cell_type": "code",
      "source": [
        "#Rating greater than 5\n",
        "rating_outliers = (df_copy['Rating'] >5).sum()\n",
        "print(f\"Number of outliers: {rating_outliers}\")"
      ],
      "metadata": {
        "id": "ub7hPO9M9qCn",
        "colab": {
          "base_uri": "https://localhost:8080/"
        },
        "outputId": "cbb907ba-df6a-4f04-c9f9-1ee91f8e178b"
      },
      "execution_count": 23,
      "outputs": [
        {
          "output_type": "stream",
          "name": "stdout",
          "text": [
            "Number of outliers: 1\n"
          ]
        }
      ]
    },
    {
      "cell_type": "code",
      "source": [
        "#only one outlier indicates that it is the max value of the column.\n",
        "max_rating = df_copy['Rating'].max()\n",
        "outliers = df_copy[df_copy['Rating'] == max_rating]\n",
        "outliers"
      ],
      "metadata": {
        "id": "1ViV5vOIRBCf",
        "colab": {
          "base_uri": "https://localhost:8080/",
          "height": 159
        },
        "outputId": "9783181e-4044-4675-e4bf-3922067650a1"
      },
      "execution_count": 24,
      "outputs": [
        {
          "output_type": "execute_result",
          "data": {
            "text/plain": [
              "                                           App Category  Rating Reviews  \\\n",
              "10472  Life Made WI-Fi Touchscreen Photo Frame      1.9    19.0    3.0M   \n",
              "\n",
              "         Size Installs Type     Price Content Rating             Genres  \\\n",
              "10472  1,000+     Free    0  Everyone       Everyone  February 11, 2018   \n",
              "\n",
              "      Last Updated Current Ver Android Ver  \n",
              "10472       1.0.19  4.0 and up  4.1 and up  "
            ],
            "text/html": [
              "\n",
              "  <div id=\"df-e352763c-166c-4a2f-85a4-3c272a0fd8d3\">\n",
              "    <div class=\"colab-df-container\">\n",
              "      <div>\n",
              "<style scoped>\n",
              "    .dataframe tbody tr th:only-of-type {\n",
              "        vertical-align: middle;\n",
              "    }\n",
              "\n",
              "    .dataframe tbody tr th {\n",
              "        vertical-align: top;\n",
              "    }\n",
              "\n",
              "    .dataframe thead th {\n",
              "        text-align: right;\n",
              "    }\n",
              "</style>\n",
              "<table border=\"1\" class=\"dataframe\">\n",
              "  <thead>\n",
              "    <tr style=\"text-align: right;\">\n",
              "      <th></th>\n",
              "      <th>App</th>\n",
              "      <th>Category</th>\n",
              "      <th>Rating</th>\n",
              "      <th>Reviews</th>\n",
              "      <th>Size</th>\n",
              "      <th>Installs</th>\n",
              "      <th>Type</th>\n",
              "      <th>Price</th>\n",
              "      <th>Content Rating</th>\n",
              "      <th>Genres</th>\n",
              "      <th>Last Updated</th>\n",
              "      <th>Current Ver</th>\n",
              "      <th>Android Ver</th>\n",
              "    </tr>\n",
              "  </thead>\n",
              "  <tbody>\n",
              "    <tr>\n",
              "      <th>10472</th>\n",
              "      <td>Life Made WI-Fi Touchscreen Photo Frame</td>\n",
              "      <td>1.9</td>\n",
              "      <td>19.0</td>\n",
              "      <td>3.0M</td>\n",
              "      <td>1,000+</td>\n",
              "      <td>Free</td>\n",
              "      <td>0</td>\n",
              "      <td>Everyone</td>\n",
              "      <td>Everyone</td>\n",
              "      <td>February 11, 2018</td>\n",
              "      <td>1.0.19</td>\n",
              "      <td>4.0 and up</td>\n",
              "      <td>4.1 and up</td>\n",
              "    </tr>\n",
              "  </tbody>\n",
              "</table>\n",
              "</div>\n",
              "      <button class=\"colab-df-convert\" onclick=\"convertToInteractive('df-e352763c-166c-4a2f-85a4-3c272a0fd8d3')\"\n",
              "              title=\"Convert this dataframe to an interactive table.\"\n",
              "              style=\"display:none;\">\n",
              "        \n",
              "  <svg xmlns=\"http://www.w3.org/2000/svg\" height=\"24px\"viewBox=\"0 0 24 24\"\n",
              "       width=\"24px\">\n",
              "    <path d=\"M0 0h24v24H0V0z\" fill=\"none\"/>\n",
              "    <path d=\"M18.56 5.44l.94 2.06.94-2.06 2.06-.94-2.06-.94-.94-2.06-.94 2.06-2.06.94zm-11 1L8.5 8.5l.94-2.06 2.06-.94-2.06-.94L8.5 2.5l-.94 2.06-2.06.94zm10 10l.94 2.06.94-2.06 2.06-.94-2.06-.94-.94-2.06-.94 2.06-2.06.94z\"/><path d=\"M17.41 7.96l-1.37-1.37c-.4-.4-.92-.59-1.43-.59-.52 0-1.04.2-1.43.59L10.3 9.45l-7.72 7.72c-.78.78-.78 2.05 0 2.83L4 21.41c.39.39.9.59 1.41.59.51 0 1.02-.2 1.41-.59l7.78-7.78 2.81-2.81c.8-.78.8-2.07 0-2.86zM5.41 20L4 18.59l7.72-7.72 1.47 1.35L5.41 20z\"/>\n",
              "  </svg>\n",
              "      </button>\n",
              "      \n",
              "  <style>\n",
              "    .colab-df-container {\n",
              "      display:flex;\n",
              "      flex-wrap:wrap;\n",
              "      gap: 12px;\n",
              "    }\n",
              "\n",
              "    .colab-df-convert {\n",
              "      background-color: #E8F0FE;\n",
              "      border: none;\n",
              "      border-radius: 50%;\n",
              "      cursor: pointer;\n",
              "      display: none;\n",
              "      fill: #1967D2;\n",
              "      height: 32px;\n",
              "      padding: 0 0 0 0;\n",
              "      width: 32px;\n",
              "    }\n",
              "\n",
              "    .colab-df-convert:hover {\n",
              "      background-color: #E2EBFA;\n",
              "      box-shadow: 0px 1px 2px rgba(60, 64, 67, 0.3), 0px 1px 3px 1px rgba(60, 64, 67, 0.15);\n",
              "      fill: #174EA6;\n",
              "    }\n",
              "\n",
              "    [theme=dark] .colab-df-convert {\n",
              "      background-color: #3B4455;\n",
              "      fill: #D2E3FC;\n",
              "    }\n",
              "\n",
              "    [theme=dark] .colab-df-convert:hover {\n",
              "      background-color: #434B5C;\n",
              "      box-shadow: 0px 1px 3px 1px rgba(0, 0, 0, 0.15);\n",
              "      filter: drop-shadow(0px 1px 2px rgba(0, 0, 0, 0.3));\n",
              "      fill: #FFFFFF;\n",
              "    }\n",
              "  </style>\n",
              "\n",
              "      <script>\n",
              "        const buttonEl =\n",
              "          document.querySelector('#df-e352763c-166c-4a2f-85a4-3c272a0fd8d3 button.colab-df-convert');\n",
              "        buttonEl.style.display =\n",
              "          google.colab.kernel.accessAllowed ? 'block' : 'none';\n",
              "\n",
              "        async function convertToInteractive(key) {\n",
              "          const element = document.querySelector('#df-e352763c-166c-4a2f-85a4-3c272a0fd8d3');\n",
              "          const dataTable =\n",
              "            await google.colab.kernel.invokeFunction('convertToInteractive',\n",
              "                                                     [key], {});\n",
              "          if (!dataTable) return;\n",
              "\n",
              "          const docLinkHtml = 'Like what you see? Visit the ' +\n",
              "            '<a target=\"_blank\" href=https://colab.research.google.com/notebooks/data_table.ipynb>data table notebook</a>'\n",
              "            + ' to learn more about interactive tables.';\n",
              "          element.innerHTML = '';\n",
              "          dataTable['output_type'] = 'display_data';\n",
              "          await google.colab.output.renderOutput(dataTable, element);\n",
              "          const docLink = document.createElement('div');\n",
              "          docLink.innerHTML = docLinkHtml;\n",
              "          element.appendChild(docLink);\n",
              "        }\n",
              "      </script>\n",
              "    </div>\n",
              "  </div>\n",
              "  "
            ]
          },
          "metadata": {},
          "execution_count": 24
        }
      ]
    },
    {
      "cell_type": "markdown",
      "source": [
        "The above row says that max value is actually not an outlier but a wrong entry done and it was supposed to be 1.9 and values have to shifted by one column to make it correct entry."
      ],
      "metadata": {
        "id": "buXwZ6ZvROus"
      }
    },
    {
      "cell_type": "code",
      "source": [
        "#checking values of the row using loc method\n",
        "df_copy.loc[10472]"
      ],
      "metadata": {
        "id": "RLXJF_76RXiW",
        "colab": {
          "base_uri": "https://localhost:8080/"
        },
        "outputId": "3d543497-7842-4231-91bb-799b41033402"
      },
      "execution_count": 25,
      "outputs": [
        {
          "output_type": "execute_result",
          "data": {
            "text/plain": [
              "App               Life Made WI-Fi Touchscreen Photo Frame\n",
              "Category                                              1.9\n",
              "Rating                                               19.0\n",
              "Reviews                                              3.0M\n",
              "Size                                               1,000+\n",
              "Installs                                             Free\n",
              "Type                                                    0\n",
              "Price                                            Everyone\n",
              "Content Rating                                   Everyone\n",
              "Genres                                  February 11, 2018\n",
              "Last Updated                                       1.0.19\n",
              "Current Ver                                    4.0 and up\n",
              "Android Ver                                    4.1 and up\n",
              "Name: 10472, dtype: object"
            ]
          },
          "metadata": {},
          "execution_count": 25
        }
      ]
    },
    {
      "cell_type": "code",
      "source": [
        "#shifting each value by one column\n",
        "df_copy.loc[10472] = df_copy.loc[10472].shift(periods=1)"
      ],
      "metadata": {
        "id": "-J2vWiWFRfwl"
      },
      "execution_count": 26,
      "outputs": []
    },
    {
      "cell_type": "code",
      "source": [
        "df_copy.loc[10472]"
      ],
      "metadata": {
        "id": "C7hD39i_Rm1m",
        "colab": {
          "base_uri": "https://localhost:8080/"
        },
        "outputId": "aeb229d3-dd8b-4d26-93fd-aa4cf22bda4e"
      },
      "execution_count": 27,
      "outputs": [
        {
          "output_type": "execute_result",
          "data": {
            "text/plain": [
              "App                                                   NaN\n",
              "Category          Life Made WI-Fi Touchscreen Photo Frame\n",
              "Rating                                                1.9\n",
              "Reviews                                              19.0\n",
              "Size                                                 3.0M\n",
              "Installs                                           1,000+\n",
              "Type                                                 Free\n",
              "Price                                                   0\n",
              "Content Rating                                   Everyone\n",
              "Genres                                           Everyone\n",
              "Last Updated                            February 11, 2018\n",
              "Current Ver                                        1.0.19\n",
              "Android Ver                                    4.0 and up\n",
              "Name: 10472, dtype: object"
            ]
          },
          "metadata": {},
          "execution_count": 27
        }
      ]
    },
    {
      "cell_type": "markdown",
      "source": [
        "Shifting of values from Rating column has been done successfully. But App is having null value now and App's value got shifted to Category. So, wil try to exchange the values of App and Category and later will replace the null value will the mode of the category column."
      ],
      "metadata": {
        "id": "CV25D1GPRy42"
      }
    },
    {
      "cell_type": "code",
      "source": [
        "#exchange of values\n",
        "df_copy.loc[10472, ['App', 'Category']] = df_copy.loc[10472, ['Category', 'App']].values\n",
        "df_copy.loc[10472]"
      ],
      "metadata": {
        "id": "jyzs2qnSRwCP",
        "colab": {
          "base_uri": "https://localhost:8080/"
        },
        "outputId": "e5aecca6-c6f5-4ea3-b23c-3edb5105c1e9"
      },
      "execution_count": 28,
      "outputs": [
        {
          "output_type": "execute_result",
          "data": {
            "text/plain": [
              "App               Life Made WI-Fi Touchscreen Photo Frame\n",
              "Category                                              NaN\n",
              "Rating                                                1.9\n",
              "Reviews                                              19.0\n",
              "Size                                                 3.0M\n",
              "Installs                                           1,000+\n",
              "Type                                                 Free\n",
              "Price                                                   0\n",
              "Content Rating                                   Everyone\n",
              "Genres                                           Everyone\n",
              "Last Updated                            February 11, 2018\n",
              "Current Ver                                        1.0.19\n",
              "Android Ver                                    4.0 and up\n",
              "Name: 10472, dtype: object"
            ]
          },
          "metadata": {},
          "execution_count": 28
        }
      ]
    },
    {
      "cell_type": "code",
      "source": [
        "#replacing null values of the Category column with its mode\n",
        "mode_of_category=df_copy['Category'].mode().values[0]\n",
        "df_copy['Category'].fillna(mode_of_category, inplace=True)"
      ],
      "metadata": {
        "id": "SJE1Y-xDSb3k"
      },
      "execution_count": 29,
      "outputs": []
    },
    {
      "cell_type": "code",
      "source": [
        "df_copy.info()"
      ],
      "metadata": {
        "id": "hsBl-g3mSrY6",
        "colab": {
          "base_uri": "https://localhost:8080/"
        },
        "outputId": "8d113f8b-6b2b-43f2-87b3-7811598fa24c"
      },
      "execution_count": 30,
      "outputs": [
        {
          "output_type": "stream",
          "name": "stdout",
          "text": [
            "<class 'pandas.core.frame.DataFrame'>\n",
            "Int64Index: 10358 entries, 0 to 10840\n",
            "Data columns (total 13 columns):\n",
            " #   Column          Non-Null Count  Dtype \n",
            "---  ------          --------------  ----- \n",
            " 0   App             10358 non-null  object\n",
            " 1   Category        10358 non-null  object\n",
            " 2   Rating          10358 non-null  object\n",
            " 3   Reviews         10358 non-null  object\n",
            " 4   Size            10358 non-null  object\n",
            " 5   Installs        10358 non-null  object\n",
            " 6   Type            10358 non-null  object\n",
            " 7   Price           10358 non-null  object\n",
            " 8   Content Rating  10358 non-null  object\n",
            " 9   Genres          10358 non-null  object\n",
            " 10  Last Updated    10358 non-null  object\n",
            " 11  Current Ver     10358 non-null  object\n",
            " 12  Android Ver     10358 non-null  object\n",
            "dtypes: object(13)\n",
            "memory usage: 1.4+ MB\n"
          ]
        }
      ]
    },
    {
      "cell_type": "markdown",
      "source": [
        "The above info shows even Rating column as an object type instead of float type. Now, will convert Rating, Reviews, Size, Installs and Price to flaot types."
      ],
      "metadata": {
        "id": "cgGABNWDS4vz"
      }
    },
    {
      "cell_type": "code",
      "source": [
        "#converting rating column to float type\n",
        "df_copy['Rating'] = df_copy['Rating'].astype(float)"
      ],
      "metadata": {
        "id": "Zb9GB4-RTtVS"
      },
      "execution_count": 31,
      "outputs": []
    },
    {
      "cell_type": "code",
      "source": [
        "#converting reviews column to float type\n",
        "df_copy['Reviews'] = df_copy['Reviews'].astype(float)"
      ],
      "metadata": {
        "id": "7GAXsMbth10E"
      },
      "execution_count": 32,
      "outputs": []
    },
    {
      "cell_type": "markdown",
      "source": [
        "If we see the unique values of installls column, all the values are in string with '+' and ',' signs. So, we first need to replace the signs and then convert them to numeric values."
      ],
      "metadata": {
        "id": "PMk0y_jhiDrx"
      }
    },
    {
      "cell_type": "code",
      "source": [
        "# replacing '+' sign with ''\n",
        "df_copy['Installs'] = df_copy['Installs'].str.replace('+', '')"
      ],
      "metadata": {
        "id": "RhDdCcOPiMcW",
        "colab": {
          "base_uri": "https://localhost:8080/"
        },
        "outputId": "e8e4c378-e8f2-42ba-ad9b-5fbd7a339478"
      },
      "execution_count": 33,
      "outputs": [
        {
          "output_type": "stream",
          "name": "stderr",
          "text": [
            "<ipython-input-33-08946f29ff76>:2: FutureWarning: The default value of regex will change from True to False in a future version. In addition, single character regular expressions will *not* be treated as literal strings when regex=True.\n",
            "  df_copy['Installs'] = df_copy['Installs'].str.replace('+', '')\n"
          ]
        }
      ]
    },
    {
      "cell_type": "code",
      "source": [
        "#replacing ',' sign with ''\n",
        "df_copy['Installs'] = df_copy['Installs'].str.replace(',', '')"
      ],
      "metadata": {
        "id": "Iv3aE8p-ig0S"
      },
      "execution_count": 34,
      "outputs": []
    },
    {
      "cell_type": "code",
      "source": [
        "#converting installs column to float type\n",
        "df_copy['Installs']=df_copy['Installs'].astype(float)"
      ],
      "metadata": {
        "id": "mxxyNLGGixCs"
      },
      "execution_count": 35,
      "outputs": []
    },
    {
      "cell_type": "markdown",
      "source": [
        "The values in the Price column are  with '$' signs. We will remove dollar signs and convert the string to numeric values."
      ],
      "metadata": {
        "id": "rI4iU7JLjElb"
      }
    },
    {
      "cell_type": "code",
      "source": [
        "# replacing '$' with ''\n",
        "df_copy['Price'] = df_copy['Price'].str.replace('$', '')"
      ],
      "metadata": {
        "id": "Tzq0HblMjPGV",
        "colab": {
          "base_uri": "https://localhost:8080/"
        },
        "outputId": "60eab4ed-6857-411f-f0e8-83cf020d1393"
      },
      "execution_count": 36,
      "outputs": [
        {
          "output_type": "stream",
          "name": "stderr",
          "text": [
            "<ipython-input-36-be2612f4d24f>:2: FutureWarning: The default value of regex will change from True to False in a future version. In addition, single character regular expressions will *not* be treated as literal strings when regex=True.\n",
            "  df_copy['Price'] = df_copy['Price'].str.replace('$', '')\n"
          ]
        }
      ]
    },
    {
      "cell_type": "code",
      "source": [
        "#converting price column to float type\n",
        "df_copy['Price']=df_copy['Price'].astype(float)"
      ],
      "metadata": {
        "id": "s_NCz0wpjf9h"
      },
      "execution_count": 37,
      "outputs": []
    },
    {
      "cell_type": "markdown",
      "source": [
        "The size column has has numerical data but with certain suffixes like 'k' and 'M' for kb and mb respectively and thereby making it string object type.To make it a numerical column, we need to first remove letters 'M' and 'k'. Later, will remove 'Varies with device' with the mode of the column."
      ],
      "metadata": {
        "id": "IgL8DC5MoZqB"
      }
    },
    {
      "cell_type": "code",
      "source": [
        "df_copy['Size'] = df_copy.Size.replace(\"Varies with device\",np.nan) #now replacing it witn null.\n",
        "df_copy['Size'] = df_copy.Size.str.replace(\"M\",\"000\") # All size values became the kilobyte type.\n",
        "df_copy['Size'] = df_copy.Size.str.replace(\"k\",\"\") #Just removing 'k' letter to make it only numeric value in kb\n",
        "df_copy['Size'] =df_copy['Size'].astype(float) #converting the entire string to float\n",
        "df_copy['Size']=df_copy['Size']/1000 # converting kb to mb\n",
        "df_copy['Size'].dtype"
      ],
      "metadata": {
        "id": "J2R-ZD46pTw2",
        "colab": {
          "base_uri": "https://localhost:8080/"
        },
        "outputId": "2e8bc363-f16c-42b5-8324-c562933d1034"
      },
      "execution_count": 38,
      "outputs": [
        {
          "output_type": "execute_result",
          "data": {
            "text/plain": [
              "dtype('float64')"
            ]
          },
          "metadata": {},
          "execution_count": 38
        }
      ]
    },
    {
      "cell_type": "code",
      "source": [
        "#replacing null values of the column with its mode\n",
        "mode_of_size=df_copy['Size'].mode()[0]\n",
        "df_copy['Size']=df_copy['Size'].fillna(mode_of_size)"
      ],
      "metadata": {
        "id": "ADpvWsrlpm7S"
      },
      "execution_count": 39,
      "outputs": []
    },
    {
      "cell_type": "markdown",
      "source": [
        "### Manipulations done and insights found"
      ],
      "metadata": {
        "id": "MSa1f5Uengrz"
      }
    },
    {
      "cell_type": "markdown",
      "source": [
        "Altogether, we could have removed the rows with missing values using df.dropna(). But,this could be a good option for a large dataset and the null values are few. Also, we would have lost some information, and it might not be the best option if the missing values are concentrated in certain columns.\n",
        "\n",
        "Therefore, it becomes important to choose the appropriate strategy for handling missing values based on the nature of our data and the objectives of our analysis.\n",
        "\n",
        "\n",
        "So, we replaced the missing values with a fixed value, such as mode for the categorical columns and mean for numerical columns. We used df.fillna() to do this.\n",
        "\n",
        "And, the numeric columns Rating, Reviews, Size, Installs and Price have all been converted to float type from object type."
      ],
      "metadata": {
        "id": "LbyXE7I1olp8"
      }
    },
    {
      "cell_type": "markdown",
      "source": [
        "## ***4. Data Vizualization, Storytelling & Experimenting with charts : Understand the relationships between variables***"
      ],
      "metadata": {
        "id": "GF8Ens_Soomf"
      }
    },
    {
      "cell_type": "markdown",
      "source": [
        "#### Chart - 1\n",
        "**Boxplots**"
      ],
      "metadata": {
        "id": "0wOQAZs5pc--"
      }
    },
    {
      "cell_type": "markdown",
      "source": [
        "Before visualizing the charts of our columns, will first check the information and the description of the dataset."
      ],
      "metadata": {
        "id": "jMy34thDqK6k"
      }
    },
    {
      "cell_type": "code",
      "source": [
        "df_copy.info()"
      ],
      "metadata": {
        "id": "tnoexocNqhgM",
        "colab": {
          "base_uri": "https://localhost:8080/"
        },
        "outputId": "36c5a142-4bbf-4dbd-df64-185973d19c13"
      },
      "execution_count": 40,
      "outputs": [
        {
          "output_type": "stream",
          "name": "stdout",
          "text": [
            "<class 'pandas.core.frame.DataFrame'>\n",
            "Int64Index: 10358 entries, 0 to 10840\n",
            "Data columns (total 13 columns):\n",
            " #   Column          Non-Null Count  Dtype  \n",
            "---  ------          --------------  -----  \n",
            " 0   App             10358 non-null  object \n",
            " 1   Category        10358 non-null  object \n",
            " 2   Rating          10358 non-null  float64\n",
            " 3   Reviews         10358 non-null  float64\n",
            " 4   Size            10358 non-null  float64\n",
            " 5   Installs        10358 non-null  float64\n",
            " 6   Type            10358 non-null  object \n",
            " 7   Price           10358 non-null  float64\n",
            " 8   Content Rating  10358 non-null  object \n",
            " 9   Genres          10358 non-null  object \n",
            " 10  Last Updated    10358 non-null  object \n",
            " 11  Current Ver     10358 non-null  object \n",
            " 12  Android Ver     10358 non-null  object \n",
            "dtypes: float64(5), object(8)\n",
            "memory usage: 1.4+ MB\n"
          ]
        }
      ]
    },
    {
      "cell_type": "markdown",
      "source": [
        "Now, the dataset is clean without duplicates and missing values and certains columns have been successfully converted to appropriate d types. Now, will check the description of our dataset and see what does it say."
      ],
      "metadata": {
        "id": "CemyRgCcqrGm"
      }
    },
    {
      "cell_type": "code",
      "source": [
        "df_copy.describe()"
      ],
      "metadata": {
        "id": "gl38pJXyrCiS",
        "colab": {
          "base_uri": "https://localhost:8080/",
          "height": 300
        },
        "outputId": "caa7908b-35db-4d16-e80a-b428b3d15081"
      },
      "execution_count": 41,
      "outputs": [
        {
          "output_type": "execute_result",
          "data": {
            "text/plain": [
              "             Rating       Reviews          Size      Installs         Price\n",
              "count  10358.000000  1.035800e+04  10358.000000  1.035800e+04  10358.000000\n",
              "mean       4.187891  4.058654e+05     18.094201  1.415639e+07      1.030701\n",
              "std        0.484519  2.696651e+06     22.354407  8.023580e+07     16.277843\n",
              "min        1.000000  0.000000e+00      0.001000  0.000000e+00      0.000000\n",
              "25%        4.100000  3.200000e+01      0.006525  1.000000e+03      0.000000\n",
              "50%        4.200000  1.678500e+03     11.000000  1.000000e+05      0.000000\n",
              "75%        4.500000  4.640425e+04     26.000000  1.000000e+06      0.000000\n",
              "max        5.000000  7.815831e+07    100.000000  1.000000e+09    400.000000"
            ],
            "text/html": [
              "\n",
              "  <div id=\"df-cf69b80f-c7d4-4245-922a-4e33bc54b7e7\">\n",
              "    <div class=\"colab-df-container\">\n",
              "      <div>\n",
              "<style scoped>\n",
              "    .dataframe tbody tr th:only-of-type {\n",
              "        vertical-align: middle;\n",
              "    }\n",
              "\n",
              "    .dataframe tbody tr th {\n",
              "        vertical-align: top;\n",
              "    }\n",
              "\n",
              "    .dataframe thead th {\n",
              "        text-align: right;\n",
              "    }\n",
              "</style>\n",
              "<table border=\"1\" class=\"dataframe\">\n",
              "  <thead>\n",
              "    <tr style=\"text-align: right;\">\n",
              "      <th></th>\n",
              "      <th>Rating</th>\n",
              "      <th>Reviews</th>\n",
              "      <th>Size</th>\n",
              "      <th>Installs</th>\n",
              "      <th>Price</th>\n",
              "    </tr>\n",
              "  </thead>\n",
              "  <tbody>\n",
              "    <tr>\n",
              "      <th>count</th>\n",
              "      <td>10358.000000</td>\n",
              "      <td>1.035800e+04</td>\n",
              "      <td>10358.000000</td>\n",
              "      <td>1.035800e+04</td>\n",
              "      <td>10358.000000</td>\n",
              "    </tr>\n",
              "    <tr>\n",
              "      <th>mean</th>\n",
              "      <td>4.187891</td>\n",
              "      <td>4.058654e+05</td>\n",
              "      <td>18.094201</td>\n",
              "      <td>1.415639e+07</td>\n",
              "      <td>1.030701</td>\n",
              "    </tr>\n",
              "    <tr>\n",
              "      <th>std</th>\n",
              "      <td>0.484519</td>\n",
              "      <td>2.696651e+06</td>\n",
              "      <td>22.354407</td>\n",
              "      <td>8.023580e+07</td>\n",
              "      <td>16.277843</td>\n",
              "    </tr>\n",
              "    <tr>\n",
              "      <th>min</th>\n",
              "      <td>1.000000</td>\n",
              "      <td>0.000000e+00</td>\n",
              "      <td>0.001000</td>\n",
              "      <td>0.000000e+00</td>\n",
              "      <td>0.000000</td>\n",
              "    </tr>\n",
              "    <tr>\n",
              "      <th>25%</th>\n",
              "      <td>4.100000</td>\n",
              "      <td>3.200000e+01</td>\n",
              "      <td>0.006525</td>\n",
              "      <td>1.000000e+03</td>\n",
              "      <td>0.000000</td>\n",
              "    </tr>\n",
              "    <tr>\n",
              "      <th>50%</th>\n",
              "      <td>4.200000</td>\n",
              "      <td>1.678500e+03</td>\n",
              "      <td>11.000000</td>\n",
              "      <td>1.000000e+05</td>\n",
              "      <td>0.000000</td>\n",
              "    </tr>\n",
              "    <tr>\n",
              "      <th>75%</th>\n",
              "      <td>4.500000</td>\n",
              "      <td>4.640425e+04</td>\n",
              "      <td>26.000000</td>\n",
              "      <td>1.000000e+06</td>\n",
              "      <td>0.000000</td>\n",
              "    </tr>\n",
              "    <tr>\n",
              "      <th>max</th>\n",
              "      <td>5.000000</td>\n",
              "      <td>7.815831e+07</td>\n",
              "      <td>100.000000</td>\n",
              "      <td>1.000000e+09</td>\n",
              "      <td>400.000000</td>\n",
              "    </tr>\n",
              "  </tbody>\n",
              "</table>\n",
              "</div>\n",
              "      <button class=\"colab-df-convert\" onclick=\"convertToInteractive('df-cf69b80f-c7d4-4245-922a-4e33bc54b7e7')\"\n",
              "              title=\"Convert this dataframe to an interactive table.\"\n",
              "              style=\"display:none;\">\n",
              "        \n",
              "  <svg xmlns=\"http://www.w3.org/2000/svg\" height=\"24px\"viewBox=\"0 0 24 24\"\n",
              "       width=\"24px\">\n",
              "    <path d=\"M0 0h24v24H0V0z\" fill=\"none\"/>\n",
              "    <path d=\"M18.56 5.44l.94 2.06.94-2.06 2.06-.94-2.06-.94-.94-2.06-.94 2.06-2.06.94zm-11 1L8.5 8.5l.94-2.06 2.06-.94-2.06-.94L8.5 2.5l-.94 2.06-2.06.94zm10 10l.94 2.06.94-2.06 2.06-.94-2.06-.94-.94-2.06-.94 2.06-2.06.94z\"/><path d=\"M17.41 7.96l-1.37-1.37c-.4-.4-.92-.59-1.43-.59-.52 0-1.04.2-1.43.59L10.3 9.45l-7.72 7.72c-.78.78-.78 2.05 0 2.83L4 21.41c.39.39.9.59 1.41.59.51 0 1.02-.2 1.41-.59l7.78-7.78 2.81-2.81c.8-.78.8-2.07 0-2.86zM5.41 20L4 18.59l7.72-7.72 1.47 1.35L5.41 20z\"/>\n",
              "  </svg>\n",
              "      </button>\n",
              "      \n",
              "  <style>\n",
              "    .colab-df-container {\n",
              "      display:flex;\n",
              "      flex-wrap:wrap;\n",
              "      gap: 12px;\n",
              "    }\n",
              "\n",
              "    .colab-df-convert {\n",
              "      background-color: #E8F0FE;\n",
              "      border: none;\n",
              "      border-radius: 50%;\n",
              "      cursor: pointer;\n",
              "      display: none;\n",
              "      fill: #1967D2;\n",
              "      height: 32px;\n",
              "      padding: 0 0 0 0;\n",
              "      width: 32px;\n",
              "    }\n",
              "\n",
              "    .colab-df-convert:hover {\n",
              "      background-color: #E2EBFA;\n",
              "      box-shadow: 0px 1px 2px rgba(60, 64, 67, 0.3), 0px 1px 3px 1px rgba(60, 64, 67, 0.15);\n",
              "      fill: #174EA6;\n",
              "    }\n",
              "\n",
              "    [theme=dark] .colab-df-convert {\n",
              "      background-color: #3B4455;\n",
              "      fill: #D2E3FC;\n",
              "    }\n",
              "\n",
              "    [theme=dark] .colab-df-convert:hover {\n",
              "      background-color: #434B5C;\n",
              "      box-shadow: 0px 1px 3px 1px rgba(0, 0, 0, 0.15);\n",
              "      filter: drop-shadow(0px 1px 2px rgba(0, 0, 0, 0.3));\n",
              "      fill: #FFFFFF;\n",
              "    }\n",
              "  </style>\n",
              "\n",
              "      <script>\n",
              "        const buttonEl =\n",
              "          document.querySelector('#df-cf69b80f-c7d4-4245-922a-4e33bc54b7e7 button.colab-df-convert');\n",
              "        buttonEl.style.display =\n",
              "          google.colab.kernel.accessAllowed ? 'block' : 'none';\n",
              "\n",
              "        async function convertToInteractive(key) {\n",
              "          const element = document.querySelector('#df-cf69b80f-c7d4-4245-922a-4e33bc54b7e7');\n",
              "          const dataTable =\n",
              "            await google.colab.kernel.invokeFunction('convertToInteractive',\n",
              "                                                     [key], {});\n",
              "          if (!dataTable) return;\n",
              "\n",
              "          const docLinkHtml = 'Like what you see? Visit the ' +\n",
              "            '<a target=\"_blank\" href=https://colab.research.google.com/notebooks/data_table.ipynb>data table notebook</a>'\n",
              "            + ' to learn more about interactive tables.';\n",
              "          element.innerHTML = '';\n",
              "          dataTable['output_type'] = 'display_data';\n",
              "          await google.colab.output.renderOutput(dataTable, element);\n",
              "          const docLink = document.createElement('div');\n",
              "          docLink.innerHTML = docLinkHtml;\n",
              "          element.appendChild(docLink);\n",
              "        }\n",
              "      </script>\n",
              "    </div>\n",
              "  </div>\n",
              "  "
            ]
          },
          "metadata": {},
          "execution_count": 41
        }
      ]
    },
    {
      "cell_type": "markdown",
      "source": [
        "This is a summary of the basic statistics of the five numerical columns in the dataset:\n",
        "\n",
        "Rating: The mean rating of the apps is 4.19 with a standard deviation of 0.48. The ratings range from 1 to 5.\n",
        "\n",
        "Reviews: The mean number of reviews is 405,865 with a standard deviation of 2,696,651. The minimum number of reviews is 0, while the maximum is 78,158,310.\n",
        "\n",
        "Size:The mean of size is 18.09MB with s standard deviation of 22.35. The minimum size is 0.001 MB, and while the maximum size is 100 MB.\n",
        "\n",
        "Installs: The mean number of installs is 14,156,390 with a standard deviation of 80,235,800. The minimum number of installs is 0, while the maximum is 1,000,000,000.\n",
        "\n",
        "Price: The mean price of the apps is 1.03 with a standard deviation of 16.28. The minimum price is 0, while the maximum is 400.\n",
        "\n",
        "This description gives us an idea of the distribution and range of each column, and can be used to make charts and guide further analysis. For example, we can see that the number of reviews, sizes and installs have a large range, while the price is mostly low with a few high outliers."
      ],
      "metadata": {
        "id": "kowmzI3TrJE3"
      }
    },
    {
      "cell_type": "code",
      "source": [
        "# Chart - 1 visualization code\n",
        "# Boxplots to check outliers\n",
        "num_columns = df_copy.select_dtypes(include=['float64']) #box plots for numerical columns\n",
        "for column in num_columns:\n",
        "    plt.boxplot(df_copy[column],vert=False)\n",
        "    plt.title(column)\n",
        "    plt.show()"
      ],
      "metadata": {
        "id": "7v_ESjsspbW7",
        "colab": {
          "base_uri": "https://localhost:8080/",
          "height": 1000
        },
        "outputId": "3d7a8fe7-55a7-41fa-e57e-0af057a5a38a"
      },
      "execution_count": 42,
      "outputs": [
        {
          "output_type": "display_data",
          "data": {
            "text/plain": [
              "<Figure size 432x288 with 1 Axes>"
            ],
            "image/png": "[encoded data removed]"
          },
          "metadata": {
            "needs_background": "light"
          }
        },
        {
          "output_type": "display_data",
          "data": {
            "text/plain": [
              "<Figure size 432x288 with 1 Axes>"
            ],
            "image/png": "[encoded data removed]"
          },
          "metadata": {
            "needs_background": "light"
          }
        },
        {
          "output_type": "display_data",
          "data": {
            "text/plain": [
              "<Figure size 432x288 with 1 Axes>"
            ],
            "image/png": "[encoded data removed]"
          },
          "metadata": {
            "needs_background": "light"
          }
        },
        {
          "output_type": "display_data",
          "data": {
            "text/plain": [
              "<Figure size 432x288 with 1 Axes>"
            ],
            "image/png": "[encoded data removed]"
          },
          "metadata": {
            "needs_background": "light"
          }
        },
        {
          "output_type": "display_data",
          "data": {
            "text/plain": [
              "<Figure size 432x288 with 1 Axes>"
            ],
            "image/png": "[encoded data removed]"
          },
          "metadata": {
            "needs_background": "light"
          }
        }
      ]
    },
    {
      "cell_type": "markdown",
      "source": [
        "##### 1. Reason"
      ],
      "metadata": {
        "id": "K5QZ13OEpz2H"
      }
    },
    {
      "cell_type": "markdown",
      "source": [
        "To identify potential outliers and visualizing differences between groups, we needed to visually summarize the shape, central tendency, and variability of numerical columns by using box plots. The plot displays a box that represents the interquartile range (IQR), the median (middle value), and the whiskers that extend to the minimum and maximum values that are not outliers."
      ],
      "metadata": {
        "id": "XESiWehPqBRc"
      }
    },
    {
      "cell_type": "markdown",
      "source": [
        "##### 2. The insight(s) found from the chart"
      ],
      "metadata": {
        "id": "lQ7QKXXCp7Bj"
      }
    },
    {
      "cell_type": "markdown",
      "source": [
        "Each box plot represents a numerical column of our dataset, and shows the distribution of the data. The box itself shows the interquartile range (IQR) of the data, with the box edges representing the first and third quartiles, and the line inside the box representing the median.\n",
        "\n",
        "The whiskers extending from the box represent the range of the data, with any data points outside the whiskers considered outliers. The outliers are represented by individual points on the plot.\n",
        "\n",
        "Here's a brief explanation of the box plots generated for each column:\n",
        "\n",
        "The box plot for the Rating column shows a fairly symmetrical distribution of ratings with some outliers on the lower end of the scale.\n",
        "\n",
        "The box plot for the Reviews column shows a highly skewed distribution, with a large number of apps having a low number of reviews, and a small number of apps having a very large number of reviews. There are also several outliers on the high end of the scale above 75,000,000.\n",
        "\n",
        "Looking at the boxplot for the 'Size' column, we can see that the distribution is highly skewed to the right with a long tail of outliers. The median and quartile values suggest that most apps have a smaller size, while the outliers show that there are some apps with very large sizes.\n",
        "\n",
        "The box plot for the Installs column shows a similar distribution to the Reviews column, with a highly skewed distribution and many outliers on the high end of the scale.\n",
        "\n",
        "The box plot for the Price column shows a very skewed distribution, with most apps being free and a small number of apps having a high price. There are several outliers on the high end of the scale, indicating some apps are priced much higher than the majority of apps in the dataset."
      ],
      "metadata": {
        "id": "C_j1G7yiqdRP"
      }
    },
    {
      "cell_type": "markdown",
      "source": [
        "##### 3. Business impact"
      ],
      "metadata": {
        "id": "448CDAPjqfQr"
      }
    },
    {
      "cell_type": "markdown",
      "source": [
        "As of now, we can see in the Size column that there are a significant number of apps with sizes beyond the upper whisker, which indicates that these values may be extreme outliers. This suggests that there may be some data quality issues with the 'Size' column because there are very few apps that are several hundred MB in size. Further investigation may be needed to determine if these values are correct or if they are erroneous.\n"
      ],
      "metadata": {
        "id": "3cspy4FjqxJW"
      }
    },
    {
      "cell_type": "markdown",
      "source": [
        "#### Chart - 2\n",
        "**Histograms**"
      ],
      "metadata": {
        "id": "KSlN3yHqYklG"
      }
    },
    {
      "cell_type": "code",
      "source": [
        "# Chart - 2 visualization code\n",
        "# Histograms to check distribution of numerical data\n",
        "for column in num_columns:\n",
        "    plt.hist(df_copy[column], bins=150)\n",
        "    plt.title(column)\n",
        "    plt.show()"
      ],
      "metadata": {
        "id": "R4YgtaqtYklH",
        "colab": {
          "base_uri": "https://localhost:8080/",
          "height": 0
        },
        "outputId": "d2ffa389-a8ab-4d56-e071-166543c3676a"
      },
      "execution_count": 43,
      "outputs": [
        {
          "output_type": "display_data",
          "data": {
            "text/plain": [
              "<Figure size 432x288 with 1 Axes>"
            ],
            "image/png": "[encoded data removed]"
          },
          "metadata": {
            "needs_background": "light"
          }
        },
        {
          "output_type": "display_data",
          "data": {
            "text/plain": [
              "<Figure size 432x288 with 1 Axes>"
            ],
            "image/png": "[encoded data removed]"
          },
          "metadata": {
            "needs_background": "light"
          }
        },
        {
          "output_type": "display_data",
          "data": {
            "text/plain": [
              "<Figure size 432x288 with 1 Axes>"
            ],
            "image/png": "[encoded data removed]"
          },
          "metadata": {
            "needs_background": "light"
          }
        },
        {
          "output_type": "display_data",
          "data": {
            "text/plain": [
              "<Figure size 432x288 with 1 Axes>"
            ],
            "image/png": "[encoded data removed]"
          },
          "metadata": {
            "needs_background": "light"
          }
        },
        {
          "output_type": "display_data",
          "data": {
            "text/plain": [
              "<Figure size 432x288 with 1 Axes>"
            ],
            "image/png": "[encoded data removed]"
          },
          "metadata": {
            "needs_background": "light"
          }
        }
      ]
    },
    {
      "cell_type": "markdown",
      "source": [
        "##### 1. Reason"
      ],
      "metadata": {
        "id": "t6dVpIINYklI"
      }
    },
    {
      "cell_type": "markdown",
      "source": [
        "Histograms are used to visualize the distribution of numerical data. They show the frequency of values in a dataset by binning the data into intervals and plotting the count of values that fall into each interval."
      ],
      "metadata": {
        "id": "5aaW0BYyYklI"
      }
    },
    {
      "cell_type": "markdown",
      "source": [
        "##### 2. Insight(s) found from the chart"
      ],
      "metadata": {
        "id": "ijmpgYnKYklI"
      }
    },
    {
      "cell_type": "markdown",
      "source": [
        "The \"Rating\" histogram is roughly bell-shaped, with the majority of the ratings between 4.0 and 4.5 while the mean is 4.19. The histogram plot is skewed to the left indicating that the majority of the apps are highly rated with only a few exceptions in the low-rated apps.\n",
        "\n",
        "The \"Reviews\" histogram is right-skewed, meaning that there are more apps with lower numbers of reviews and fewer apps with very high numbers of reviews.\n",
        "\n",
        "The \"Size\" histogram showed that the size of most of the apps was below 50MB, with a few larger apps.\n",
        "\n",
        "The \"Installs\" histogram is also right-skewed, indicating that there are more apps with lower numbers of installs and fewer apps with very high numbers of installs.\n",
        "\n",
        "The \"Price\" histogram is also right-skewed, with most apps priced at 0 (i.e. free) and a smaller number of apps priced higher."
      ],
      "metadata": {
        "id": "PSx9atu2YklI"
      }
    },
    {
      "cell_type": "markdown",
      "source": [
        "##### 3. Business impact"
      ],
      "metadata": {
        "id": "-JiQyfWJYklI"
      }
    },
    {
      "cell_type": "markdown",
      "source": [
        "People tend install free apps more and most of the installed apps are having size below 50 Mb."
      ],
      "metadata": {
        "id": "BcBbebzrYklV"
      }
    },
    {
      "cell_type": "markdown",
      "source": [
        "#### Chart - 3\n",
        "**Scatter PLots**"
      ],
      "metadata": {
        "id": "EM7whBJCYoAo"
      }
    },
    {
      "cell_type": "code",
      "source": [
        "# Chart - 3 visualization code\n",
        "# Scatter plots to visualize the relationships between each numerical column to every other numerical columns.\n",
        "sns.pairplot(num_columns)"
      ],
      "metadata": {
        "id": "t6GMdE67YoAp",
        "colab": {
          "base_uri": "https://localhost:8080/",
          "height": 0
        },
        "outputId": "5291ce43-f32e-4b1a-a9e2-3fcfd676b4c9"
      },
      "execution_count": 44,
      "outputs": [
        {
          "output_type": "execute_result",
          "data": {
            "text/plain": [
              "<seaborn.axisgrid.PairGrid at 0x7f1529b56580>"
            ]
          },
          "metadata": {},
          "execution_count": 44
        },
        {
          "output_type": "display_data",
          "data": {
            "text/plain": [
              "<Figure size 900x900 with 30 Axes>"
            ],
            "image/png": "[encoded data removed]"
          },
          "metadata": {
            "needs_background": "light"
          }
        }
      ]
    },
    {
      "cell_type": "markdown",
      "source": [
        "##### 1. Reason"
      ],
      "metadata": {
        "id": "fge-S5ZAYoAp"
      }
    },
    {
      "cell_type": "markdown",
      "source": [
        "Scatter plot is used to visualize the relationship between two numerical columns. It helps to identify if there is any correlation between them, the strength of the correlation, and the direction of the relationship (positive or negative)."
      ],
      "metadata": {
        "id": "5dBItgRVYoAp"
      }
    },
    {
      "cell_type": "markdown",
      "source": [
        "##### 2. Insight(s) found from the chart"
      ],
      "metadata": {
        "id": "85gYPyotYoAp"
      }
    },
    {
      "cell_type": "markdown",
      "source": [
        "**Reviews and Installs** show a strong positive relationship, indicating that as the number of installs increases, the number of reviews also increase.\n",
        "\n",
        "**Rating and Installs**  show a slightly positive relationship, indicating that as the number of installs increase, the ratings tend to be higher.\n",
        "\n",
        "**Rating and Reviews** columns have no obvious correlation between them. The data points are scattered and there is no clear linear trend as the number of reviews increases, the ratings are distributed widely and not necessarily higher. \n",
        "\n",
        "**Rating and Size** columns also have no obvious correlation between them. The data points are scattered and there is no clear linear trend.\n",
        "\n",
        "**Price and Rating** columns have slightly positive correlation between the . As the price of the app increases, the ratings tend to be slightly higher. However, the data points are scattered and there is no clear linear trend. \n",
        "\n",
        "**Price and Reviews**columns also do not show correlation between them. \n",
        "\n",
        "**Reviews and Price** show the price of the apps doesn't depend much on the number of reviews.\n",
        "\n",
        "**Price and Size**columns have no obvious correlation between them. The data points are scattered and there is no clear linear trend.\n",
        "\n",
        "**Installs and Price** finally show that most of the apps with higher prices have lower installations."
      ],
      "metadata": {
        "id": "4jstXR6OYoAp"
      }
    },
    {
      "cell_type": "markdown",
      "source": [
        "##### 3. Business impact"
      ],
      "metadata": {
        "id": "RoGjAbkUYoAp"
      }
    },
    {
      "cell_type": "markdown",
      "source": [
        "There are more reviews for particular range of rating. Also, the majority of the apps with higher prices have ratings in the range of 4 to 5 but few installations."
      ],
      "metadata": {
        "id": "zfJ8IqMcYoAp"
      }
    },
    {
      "cell_type": "markdown",
      "source": [
        "#### Chart - 4\n",
        "**Correlation Heatmap**"
      ],
      "metadata": {
        "id": "4Of9eVA-YrdM"
      }
    },
    {
      "cell_type": "code",
      "source": [
        "# Chart - 4 visualization code\n",
        "#Heat Map\n",
        "corr_matrix = num_columns.corr() #correaltional matrix between numerical columns \n",
        "sns.heatmap(corr_matrix, annot=True, cmap='coolwarm')"
      ],
      "metadata": {
        "id": "irlUoxc8YrdO",
        "colab": {
          "base_uri": "https://localhost:8080/",
          "height": 0
        },
        "outputId": "8e875f30-ff32-4cf7-b698-a173decc9d20"
      },
      "execution_count": 45,
      "outputs": [
        {
          "output_type": "execute_result",
          "data": {
            "text/plain": [
              "<AxesSubplot:>"
            ]
          },
          "metadata": {},
          "execution_count": 45
        },
        {
          "output_type": "display_data",
          "data": {
            "text/plain": [
              "<Figure size 432x288 with 2 Axes>"
            ],
            "image/png": "[encoded data removed]"
          },
          "metadata": {
            "needs_background": "light"
          }
        }
      ]
    },
    {
      "cell_type": "markdown",
      "source": [
        "##### 1. Reason"
      ],
      "metadata": {
        "id": "iky9q4vBYrdO"
      }
    },
    {
      "cell_type": "markdown",
      "source": [
        "We check correlations between columns to understand the strength and direction of the relationship between them. Correlation analysis helps to identify which columnss are positively or negatively related to each other, and how strong or weak the relationship is. In exploratory data analysis (EDA), this information can be used to visualize the relationships between different columns, which can be useful in understanding the data and identifying patterns.\n",
        "\n",
        "Heatmap  is used to show the correlation matrix among the numerical columns in our data.The values in the cells of the heatmap represent the correlation coefficients. A value of 1 indicates a perfect positive correlation, while a value of -1 indicates a perfect negative correlation. A value of 0 indicates no correlation."
      ],
      "metadata": {
        "id": "aJRCwT6DYrdO"
      }
    },
    {
      "cell_type": "markdown",
      "source": [
        "##### 2. The insight(s) found from the chart"
      ],
      "metadata": {
        "id": "F6T5p64dYrdO"
      }
    },
    {
      "cell_type": "markdown",
      "source": [
        "Looking at heatmap, we can see that the highest correlation coefficient is between 'Reviews' and 'Installs', with a value of 0.635. This indicates a moderate positive correlation between the number of reviews and the number of installs of an app.\n",
        "\n",
        "There is a positive correlation between ratings and reviews, although the correlation coefficient (0.068) is not very strong. This means that apps with higher ratings tend to have more reviews, but there are many exceptions to this trend.\n",
        "\n",
        "The correlation between ratings and installs is positive but weak (0.050).\n",
        "\n",
        "The Size column has a positive but weak correlation with the Reviews and Installs columns, with correlation coefficients of 0.106811 and 0.051761, respectively. It has a weak correlation with the Rating column as well with a correlation coefficient of 0.061696. However, there seems to be no significant correlation between the Size column and the Price column, as the correlation coefficient is very close to zero (-0.020482).\n",
        "\n",
        "The correlation between price and the other columnss is weak or negative. There is a weak negative correlation between price and ratings, which suggests that higher priced apps tend to have slightly lower ratings. \n",
        "\n",
        "There is also a weak negative correlation between price and installs, which means that higher priced apps tend to have slightly fewer installs.\n",
        "However, these correlations are not very strong, so the effect of price on ratings and installs may not be very significant."
      ],
      "metadata": {
        "id": "Xx8WAJvtYrdO"
      }
    },
    {
      "cell_type": "markdown",
      "source": [
        "##### 3. Business impact"
      ],
      "metadata": {
        "id": "y-Ehk30pYrdP"
      }
    },
    {
      "cell_type": "markdown",
      "source": [
        "Apps with more reviews tend to have more installs, which is expected as more popular apps are likely to attract more reviews."
      ],
      "metadata": {
        "id": "jLNxxz7MYrdP"
      }
    },
    {
      "cell_type": "markdown",
      "source": [
        "#### Chart - 5\n",
        "**Bar Graphs**"
      ],
      "metadata": {
        "id": "bamQiAODYuh1"
      }
    },
    {
      "cell_type": "code",
      "source": [
        "# Chart - 5 visualization code\n",
        "# list of columns to create bar graphs for\n",
        "cat_columns = ['Category', 'Type', 'Content Rating', 'Genres']\n",
        "# loop through the columns and create bar graphs\n",
        "for column in cat_columns:\n",
        "  if column=='Genres':\n",
        "    plt.figure(figsize=(20,6)) #Generes has large number unique values so we need larger graph\n",
        "    df[column].value_counts().plot(kind='bar')\n",
        "    plt.title(column)\n",
        "    plt.show()\n",
        "  else:\n",
        "    plt.figure(figsize=(12,6))\n",
        "    df[column].value_counts().plot(kind='bar')\n",
        "    plt.title(column)\n",
        "    plt.show()"
      ],
      "metadata": {
        "id": "TIJwrbroYuh3",
        "colab": {
          "base_uri": "https://localhost:8080/",
          "height": 0
        },
        "outputId": "1b8ae0fe-215d-4bce-936f-125697b812e8"
      },
      "execution_count": 46,
      "outputs": [
        {
          "output_type": "display_data",
          "data": {
            "text/plain": [
              "<Figure size 864x432 with 1 Axes>"
            ],
            "image/png": "[encoded data removed]"
          },
          "metadata": {
            "needs_background": "light"
          }
        },
        {
          "output_type": "display_data",
          "data": {
            "text/plain": [
              "<Figure size 864x432 with 1 Axes>"
            ],
            "image/png": "[encoded data removed]"
          },
          "metadata": {
            "needs_background": "light"
          }
        },
        {
          "output_type": "display_data",
          "data": {
            "text/plain": [
              "<Figure size 864x432 with 1 Axes>"
            ],
            "image/png": "[encoded data removed]"
          },
          "metadata": {
            "needs_background": "light"
          }
        },
        {
          "output_type": "display_data",
          "data": {
            "text/plain": [
              "<Figure size 1440x432 with 1 Axes>"
            ],
            "image/png": "[encoded data removed]"
          },
          "metadata": {
            "needs_background": "light"
          }
        }
      ]
    },
    {
      "cell_type": "markdown",
      "source": [
        "##### 1. Reason"
      ],
      "metadata": {
        "id": "QHF8YVU7Yuh3"
      }
    },
    {
      "cell_type": "markdown",
      "source": [
        "Bar Graphs are used for visualizaing categorical columns across a range of values through graphs using rectangular bars."
      ],
      "metadata": {
        "id": "dcxuIMRPYuh3"
      }
    },
    {
      "cell_type": "markdown",
      "source": [
        "##### 2. The insight(s) found from the chart"
      ],
      "metadata": {
        "id": "GwzvFGzlYuh3"
      }
    },
    {
      "cell_type": "markdown",
      "source": [
        "Based on the bar graphs in our colab notebook, we can make the following observations:\n",
        "\n",
        "Category: The most common category of apps is \"Family\", followed by \"Game\" and \"Tools\".\n",
        "\n",
        "Type: The majority of apps are free, while only a small percentage are paid.\n",
        "\n",
        "Content Rating: The majority of apps are rated \"Everyone\", followed by \"Teen\" and \"Mature 17+\".\n",
        "\n",
        "Genres: The most common genres are \"Tools\", \"Entertainment\", and \"Education\"."
      ],
      "metadata": {
        "id": "uyqkiB8YYuh3"
      }
    },
    {
      "cell_type": "markdown",
      "source": [
        "##### 3. Business impact"
      ],
      "metadata": {
        "id": "qYpmQ266Yuh3"
      }
    },
    {
      "cell_type": "markdown",
      "source": [
        "These observations can provide insights into the distribution of apps in the Google Play Store and can help in making informed decisions about app development and marketing"
      ],
      "metadata": {
        "id": "_WtzZ_hCYuh4"
      }
    },
    {
      "cell_type": "markdown",
      "source": [
        "#### Chart - 6\n",
        "**Joint Plots**"
      ],
      "metadata": {
        "id": "OH-pJp9IphqM"
      }
    },
    {
      "cell_type": "code",
      "source": [
        "# Chart - 6 visualization code\n",
        "# jointplot Size vs Rating\n",
        "sns.set_style('whitegrid')\n",
        "sns.jointplot(x='Size', y='Rating', data=df_copy, height=8)\n"
      ],
      "metadata": {
        "id": "kuRf4wtuphqN",
        "colab": {
          "base_uri": "https://localhost:8080/",
          "height": 0
        },
        "outputId": "9d7b7469-cd05-46f0-ee56-eba22e457b38"
      },
      "execution_count": 47,
      "outputs": [
        {
          "output_type": "execute_result",
          "data": {
            "text/plain": [
              "<seaborn.axisgrid.JointGrid at 0x7f151670bf40>"
            ]
          },
          "metadata": {},
          "execution_count": 47
        },
        {
          "output_type": "display_data",
          "data": {
            "text/plain": [
              "<Figure size 576x576 with 3 Axes>"
            ],
            "image/png": "[encoded data removed]"
          },
          "metadata": {}
        }
      ]
    },
    {
      "cell_type": "code",
      "source": [
        "#joint plot Paid Apps vs Rating\n",
        "paid_apps = df_copy[df_copy['Type'] == 'Paid']\n",
        "\n",
        "sns.jointplot(x='Price', y='Rating', data=paid_apps)\n"
      ],
      "metadata": {
        "id": "wxDXFkvBnScq",
        "colab": {
          "base_uri": "https://localhost:8080/",
          "height": 0
        },
        "outputId": "0e777e54-b175-48ef-d0dc-d6ab2d421d2f"
      },
      "execution_count": 48,
      "outputs": [
        {
          "output_type": "execute_result",
          "data": {
            "text/plain": [
              "<seaborn.axisgrid.JointGrid at 0x7f151729ba00>"
            ]
          },
          "metadata": {},
          "execution_count": 48
        },
        {
          "output_type": "display_data",
          "data": {
            "text/plain": [
              "<Figure size 432x432 with 3 Axes>"
            ],
            "image/png": "[encoded data removed]"
          },
          "metadata": {}
        }
      ]
    },
    {
      "cell_type": "markdown",
      "source": [
        "##### 1. Reason"
      ],
      "metadata": {
        "id": "bbFf2-_FphqN"
      }
    },
    {
      "cell_type": "markdown",
      "source": [
        "Joint plots are used to visualize the relationship between two columns, typically a pair of numerical columns. It combines two different plots in one figure: a scatter plot that shows the joint distribution of the values of two columns and two univariate plots that show the distribution of each column separately. The joint plot allows us to see how the columns are related to each other, as well as their individual distributions. This can be useful for exploring the relationship between columns, identifying patterns and insights into patterns or trends in our data that may not be immediately apparent from just looking at the numbers."
      ],
      "metadata": {
        "id": "loh7H2nzphqN"
      }
    },
    {
      "cell_type": "markdown",
      "source": [
        "##### 2. The insight(s) found from the chart"
      ],
      "metadata": {
        "id": "_ouA3fa0phqN"
      }
    },
    {
      "cell_type": "markdown",
      "source": [
        "Based on the jointplot of size and rating, we can observe that:\n",
        "\n",
        "There is a slight positive correlation between app size and app rating, as we can see a slight trend upwards and to the right in the plot. This means that larger apps tend to have slightly higher ratings compared to smaller apps.\n",
        "The majority of apps in the dataset are small in size (less than 50 MB) and have ratings between 3.5 and 4.5. However, we can see that there are some apps that are large in size (greater than 100 MB) and have high ratings of 4.5 and above.We can see that both size and rating are approximately normally distributed, with some skewness towards larger sizes and higher ratings.\n",
        "\n",
        "The jointplot of price of paid apps and rating shows the distribution of the rating and price columns for the subset of the dataset where the Type column equals 'Paid'.\n",
        "From the plot, we can see that most of the paid apps have a rating of 4 or higher, and there is a wide range of prices for apps with high ratings. We can also see that there are a few outliers with high prices and high ratings\n",
        "\n"
      ],
      "metadata": {
        "id": "VECbqPI7phqN"
      }
    },
    {
      "cell_type": "markdown",
      "source": [
        "##### 3. Business impact "
      ],
      "metadata": {
        "id": "Seke61FWphqN"
      }
    },
    {
      "cell_type": "markdown",
      "source": [
        "There is some relationship between app size and app rating, but it is not a strong or definitive relationship. The size of the app is only one of many factors that may contribute to the overall rating.\n",
        "However,The jointplot between the price of paid apps and their rating suggests that there is not a clear correlation between these two variables. The plot shows a scattered distribution of points, indicating that the price does not have a significant impact on the rating of the paid apps. This could mean that users are willing to pay more for apps with a high rating, or that price is not a significant factor in the users' decision to rate an app highly. "
      ],
      "metadata": {
        "id": "DW4_bGpfphqN"
      }
    },
    {
      "cell_type": "markdown",
      "source": [
        "#### Chart - 7\n",
        "**Strip Plots**"
      ],
      "metadata": {
        "id": "PIIx-8_IphqN"
      }
    },
    {
      "cell_type": "code",
      "source": [
        "# Chart - 7 visualization code\n",
        "#strip plot for popular app categories vs price\n",
        "fig, ax = plt.subplots() # initialized a figure object fig and axes object ax.\n",
        "fig.set_size_inches(8, 6)\n",
        "popular_app_cats = df_copy[df_copy.Category.isin(['GAME', 'FAMILY', 'PHOTOGRAPHY',\n",
        "                                            'MEDICAL', 'TOOLS', 'FINANCE',\n",
        "                                            'LIFESTYLE','BUSINESS'])]\n",
        "sns.stripplot(x=popular_app_cats['Category'], y=popular_app_cats['Price'], data=df)\n",
        "plt.show()"
      ],
      "metadata": {
        "id": "lqAIGUfyphqO",
        "colab": {
          "base_uri": "https://localhost:8080/",
          "height": 0
        },
        "outputId": "e27ffe84-a92e-425f-996a-f4293fce95d2"
      },
      "execution_count": 49,
      "outputs": [
        {
          "output_type": "display_data",
          "data": {
            "text/plain": [
              "<Figure size 576x432 with 1 Axes>"
            ],
            "image/png": "[encoded data removed]"
          },
          "metadata": {}
        }
      ]
    },
    {
      "cell_type": "markdown",
      "source": [
        "The above strip plot chart shows the some of the categories are having very expensive apps. So, we need to further investigate what are those expensive apps really are."
      ],
      "metadata": {
        "id": "-qCsgIpF6h1l"
      }
    },
    {
      "cell_type": "code",
      "source": [
        "# Apps whose Price is greater than 200\n",
        "apps_above_200 = popular_app_cats[popular_app_cats.Price > 200]\n",
        "apps_above_200[['Category', 'App', 'Price']]"
      ],
      "metadata": {
        "id": "BDjXXVhH7QuQ",
        "colab": {
          "base_uri": "https://localhost:8080/",
          "height": 0
        },
        "outputId": "25bb63fd-ae41-4034-92ac-7103bbcdaf8f"
      },
      "execution_count": 50,
      "outputs": [
        {
          "output_type": "execute_result",
          "data": {
            "text/plain": [
              "       Category                                App   Price\n",
              "4197     FAMILY             most expensive app (H)  399.99\n",
              "4362  LIFESTYLE                         💎 I'm rich  399.99\n",
              "4367  LIFESTYLE           I'm Rich - Trump Edition  400.00\n",
              "5351  LIFESTYLE                          I am rich  399.99\n",
              "5354     FAMILY                     I am Rich Plus  399.99\n",
              "5355  LIFESTYLE                      I am rich VIP  299.99\n",
              "5356    FINANCE                  I Am Rich Premium  399.99\n",
              "5357  LIFESTYLE                I am extremely Rich  379.99\n",
              "5358    FINANCE                         I am Rich!  399.99\n",
              "5359    FINANCE                 I am rich(premium)  399.99\n",
              "5362     FAMILY                      I Am Rich Pro  399.99\n",
              "5364    FINANCE     I am rich (Most expensive app)  399.99\n",
              "5366     FAMILY                          I Am Rich  389.99\n",
              "5369    FINANCE                          I am Rich  399.99\n",
              "5373    FINANCE                 I AM RICH PRO PLUS  399.99\n",
              "9917    FINANCE                        Eu Sou Rico  394.99\n",
              "9934  LIFESTYLE  I'm Rich/Eu sou Rico/أنا غني/我很有錢  399.99"
            ],
            "text/html": [
              "\n",
              "  <div id=\"df-905cdd6c-40a9-4e58-bfee-cf7df46aa323\">\n",
              "    <div class=\"colab-df-container\">\n",
              "      <div>\n",
              "<style scoped>\n",
              "    .dataframe tbody tr th:only-of-type {\n",
              "        vertical-align: middle;\n",
              "    }\n",
              "\n",
              "    .dataframe tbody tr th {\n",
              "        vertical-align: top;\n",
              "    }\n",
              "\n",
              "    .dataframe thead th {\n",
              "        text-align: right;\n",
              "    }\n",
              "</style>\n",
              "<table border=\"1\" class=\"dataframe\">\n",
              "  <thead>\n",
              "    <tr style=\"text-align: right;\">\n",
              "      <th></th>\n",
              "      <th>Category</th>\n",
              "      <th>App</th>\n",
              "      <th>Price</th>\n",
              "    </tr>\n",
              "  </thead>\n",
              "  <tbody>\n",
              "    <tr>\n",
              "      <th>4197</th>\n",
              "      <td>FAMILY</td>\n",
              "      <td>most expensive app (H)</td>\n",
              "      <td>399.99</td>\n",
              "    </tr>\n",
              "    <tr>\n",
              "      <th>4362</th>\n",
              "      <td>LIFESTYLE</td>\n",
              "      <td>💎 I'm rich</td>\n",
              "      <td>399.99</td>\n",
              "    </tr>\n",
              "    <tr>\n",
              "      <th>4367</th>\n",
              "      <td>LIFESTYLE</td>\n",
              "      <td>I'm Rich - Trump Edition</td>\n",
              "      <td>400.00</td>\n",
              "    </tr>\n",
              "    <tr>\n",
              "      <th>5351</th>\n",
              "      <td>LIFESTYLE</td>\n",
              "      <td>I am rich</td>\n",
              "      <td>399.99</td>\n",
              "    </tr>\n",
              "    <tr>\n",
              "      <th>5354</th>\n",
              "      <td>FAMILY</td>\n",
              "      <td>I am Rich Plus</td>\n",
              "      <td>399.99</td>\n",
              "    </tr>\n",
              "    <tr>\n",
              "      <th>5355</th>\n",
              "      <td>LIFESTYLE</td>\n",
              "      <td>I am rich VIP</td>\n",
              "      <td>299.99</td>\n",
              "    </tr>\n",
              "    <tr>\n",
              "      <th>5356</th>\n",
              "      <td>FINANCE</td>\n",
              "      <td>I Am Rich Premium</td>\n",
              "      <td>399.99</td>\n",
              "    </tr>\n",
              "    <tr>\n",
              "      <th>5357</th>\n",
              "      <td>LIFESTYLE</td>\n",
              "      <td>I am extremely Rich</td>\n",
              "      <td>379.99</td>\n",
              "    </tr>\n",
              "    <tr>\n",
              "      <th>5358</th>\n",
              "      <td>FINANCE</td>\n",
              "      <td>I am Rich!</td>\n",
              "      <td>399.99</td>\n",
              "    </tr>\n",
              "    <tr>\n",
              "      <th>5359</th>\n",
              "      <td>FINANCE</td>\n",
              "      <td>I am rich(premium)</td>\n",
              "      <td>399.99</td>\n",
              "    </tr>\n",
              "    <tr>\n",
              "      <th>5362</th>\n",
              "      <td>FAMILY</td>\n",
              "      <td>I Am Rich Pro</td>\n",
              "      <td>399.99</td>\n",
              "    </tr>\n",
              "    <tr>\n",
              "      <th>5364</th>\n",
              "      <td>FINANCE</td>\n",
              "      <td>I am rich (Most expensive app)</td>\n",
              "      <td>399.99</td>\n",
              "    </tr>\n",
              "    <tr>\n",
              "      <th>5366</th>\n",
              "      <td>FAMILY</td>\n",
              "      <td>I Am Rich</td>\n",
              "      <td>389.99</td>\n",
              "    </tr>\n",
              "    <tr>\n",
              "      <th>5369</th>\n",
              "      <td>FINANCE</td>\n",
              "      <td>I am Rich</td>\n",
              "      <td>399.99</td>\n",
              "    </tr>\n",
              "    <tr>\n",
              "      <th>5373</th>\n",
              "      <td>FINANCE</td>\n",
              "      <td>I AM RICH PRO PLUS</td>\n",
              "      <td>399.99</td>\n",
              "    </tr>\n",
              "    <tr>\n",
              "      <th>9917</th>\n",
              "      <td>FINANCE</td>\n",
              "      <td>Eu Sou Rico</td>\n",
              "      <td>394.99</td>\n",
              "    </tr>\n",
              "    <tr>\n",
              "      <th>9934</th>\n",
              "      <td>LIFESTYLE</td>\n",
              "      <td>I'm Rich/Eu sou Rico/أنا غني/我很有錢</td>\n",
              "      <td>399.99</td>\n",
              "    </tr>\n",
              "  </tbody>\n",
              "</table>\n",
              "</div>\n",
              "      <button class=\"colab-df-convert\" onclick=\"convertToInteractive('df-905cdd6c-40a9-4e58-bfee-cf7df46aa323')\"\n",
              "              title=\"Convert this dataframe to an interactive table.\"\n",
              "              style=\"display:none;\">\n",
              "        \n",
              "  <svg xmlns=\"http://www.w3.org/2000/svg\" height=\"24px\"viewBox=\"0 0 24 24\"\n",
              "       width=\"24px\">\n",
              "    <path d=\"M0 0h24v24H0V0z\" fill=\"none\"/>\n",
              "    <path d=\"M18.56 5.44l.94 2.06.94-2.06 2.06-.94-2.06-.94-.94-2.06-.94 2.06-2.06.94zm-11 1L8.5 8.5l.94-2.06 2.06-.94-2.06-.94L8.5 2.5l-.94 2.06-2.06.94zm10 10l.94 2.06.94-2.06 2.06-.94-2.06-.94-.94-2.06-.94 2.06-2.06.94z\"/><path d=\"M17.41 7.96l-1.37-1.37c-.4-.4-.92-.59-1.43-.59-.52 0-1.04.2-1.43.59L10.3 9.45l-7.72 7.72c-.78.78-.78 2.05 0 2.83L4 21.41c.39.39.9.59 1.41.59.51 0 1.02-.2 1.41-.59l7.78-7.78 2.81-2.81c.8-.78.8-2.07 0-2.86zM5.41 20L4 18.59l7.72-7.72 1.47 1.35L5.41 20z\"/>\n",
              "  </svg>\n",
              "      </button>\n",
              "      \n",
              "  <style>\n",
              "    .colab-df-container {\n",
              "      display:flex;\n",
              "      flex-wrap:wrap;\n",
              "      gap: 12px;\n",
              "    }\n",
              "\n",
              "    .colab-df-convert {\n",
              "      background-color: #E8F0FE;\n",
              "      border: none;\n",
              "      border-radius: 50%;\n",
              "      cursor: pointer;\n",
              "      display: none;\n",
              "      fill: #1967D2;\n",
              "      height: 32px;\n",
              "      padding: 0 0 0 0;\n",
              "      width: 32px;\n",
              "    }\n",
              "\n",
              "    .colab-df-convert:hover {\n",
              "      background-color: #E2EBFA;\n",
              "      box-shadow: 0px 1px 2px rgba(60, 64, 67, 0.3), 0px 1px 3px 1px rgba(60, 64, 67, 0.15);\n",
              "      fill: #174EA6;\n",
              "    }\n",
              "\n",
              "    [theme=dark] .colab-df-convert {\n",
              "      background-color: #3B4455;\n",
              "      fill: #D2E3FC;\n",
              "    }\n",
              "\n",
              "    [theme=dark] .colab-df-convert:hover {\n",
              "      background-color: #434B5C;\n",
              "      box-shadow: 0px 1px 3px 1px rgba(0, 0, 0, 0.15);\n",
              "      filter: drop-shadow(0px 1px 2px rgba(0, 0, 0, 0.3));\n",
              "      fill: #FFFFFF;\n",
              "    }\n",
              "  </style>\n",
              "\n",
              "      <script>\n",
              "        const buttonEl =\n",
              "          document.querySelector('#df-905cdd6c-40a9-4e58-bfee-cf7df46aa323 button.colab-df-convert');\n",
              "        buttonEl.style.display =\n",
              "          google.colab.kernel.accessAllowed ? 'block' : 'none';\n",
              "\n",
              "        async function convertToInteractive(key) {\n",
              "          const element = document.querySelector('#df-905cdd6c-40a9-4e58-bfee-cf7df46aa323');\n",
              "          const dataTable =\n",
              "            await google.colab.kernel.invokeFunction('convertToInteractive',\n",
              "                                                     [key], {});\n",
              "          if (!dataTable) return;\n",
              "\n",
              "          const docLinkHtml = 'Like what you see? Visit the ' +\n",
              "            '<a target=\"_blank\" href=https://colab.research.google.com/notebooks/data_table.ipynb>data table notebook</a>'\n",
              "            + ' to learn more about interactive tables.';\n",
              "          element.innerHTML = '';\n",
              "          dataTable['output_type'] = 'display_data';\n",
              "          await google.colab.output.renderOutput(dataTable, element);\n",
              "          const docLink = document.createElement('div');\n",
              "          docLink.innerHTML = docLinkHtml;\n",
              "          element.appendChild(docLink);\n",
              "        }\n",
              "      </script>\n",
              "    </div>\n",
              "  </div>\n",
              "  "
            ]
          },
          "metadata": {},
          "execution_count": 50
        }
      ]
    },
    {
      "cell_type": "markdown",
      "source": [
        "Now, what we can infer from the above output that some expensive apps are actually are junk apps that don't really have a purpose. Sometimes app developers create apps like above apps 'I Am Rich Premium' or 'most expensive app (H)' to test their app development skills. Some  even do this to scam people who might ccidentally purchase their apps in the store.\n",
        "\n",
        "So, let's remove these junk apps and check the chart again."
      ],
      "metadata": {
        "id": "MewcTM8V7O-N"
      }
    },
    {
      "cell_type": "code",
      "source": [
        "# Select apps priced below $100\n",
        "#strip plot for popular app categories under the price 100\n",
        "apps_under_100 = popular_app_cats[popular_app_cats.Price<100]\n",
        "\n",
        "fig, ax = plt.subplots()\n",
        "fig.set_size_inches(8, 6)\n",
        "\n",
        "# Examine price vs category with the authentic apps (apps_under_100)\n",
        "ax = sns.stripplot(x = apps_under_100['Category'], y = popular_app_cats['Price'], data = apps_under_100)"
      ],
      "metadata": {
        "id": "4ywTzXv9iYRL",
        "colab": {
          "base_uri": "https://localhost:8080/",
          "height": 0
        },
        "outputId": "736eb3b8-afb3-4811-d193-f053f0d8e484"
      },
      "execution_count": 51,
      "outputs": [
        {
          "output_type": "display_data",
          "data": {
            "text/plain": [
              "<Figure size 576x432 with 1 Axes>"
            ],
            "image/png": "[encoded data removed]"
          },
          "metadata": {}
        }
      ]
    },
    {
      "cell_type": "markdown",
      "source": [
        "##### 1. Reason"
      ],
      "metadata": {
        "id": "t27r6nlMphqO"
      }
    },
    {
      "cell_type": "markdown",
      "source": [
        "Strip plot are used to visualize the distribution of a numerical column against a categorical variable. It is similar to a scatter plot, but with no lines connecting the points. Instead, individual data points are plotted as dots, one for each observation.\n",
        "\n",
        "The advantage of using a strip plot over a scatter plot is that it can handle larger datasets more efficiently. In a scatter plot, overlapping data points can make it difficult to see the true distribution of the data. With a strip plot, the individual points are more clearly visible and can give a better sense of the distribution of the data.\n",
        "\n",
        "Additionally, strip plots are particularly useful for categorical data, where the number of unique values is relatively small. In this case, strip plots can provide a clear view of the distribution of the data across the categories."
      ],
      "metadata": {
        "id": "iv6ro40sphqO"
      }
    },
    {
      "cell_type": "markdown",
      "source": [
        "##### 2. The insight(s) found from the chart"
      ],
      "metadata": {
        "id": "r2jJGEOYphqO"
      }
    },
    {
      "cell_type": "markdown",
      "source": [
        "Different categories demand different price ranges. Like the above chart shows that Medical and Family apps are the most expensive ones. Some medical apps extend even up to up to 80 dollars. All game and business apps are priced below 20 dollars. While most of the apps in photography and tools are below 20 dollars but there are some apps that are expensive in these categories as well."
      ],
      "metadata": {
        "id": "Po6ZPi4hphqO"
      }
    },
    {
      "cell_type": "markdown",
      "source": [
        "##### 3. Business impact "
      ],
      "metadata": {
        "id": "b0JNsNcRphqO"
      }
    },
    {
      "cell_type": "markdown",
      "source": [
        "The costs of apps are largely based on features, complexity, and platform.\n",
        "There are many factors to consider when selecting the right pricing strategy for mobile apps. It is important to consider the willingness of your customer to pay for your app. A wrong price could break the deal before the download even happens. Like for example, some apps that are simple and are of daily usge like photo editor should free but for a highly-specialized medical app that diagnoses diabetic patients would be expensive inevitably."
      ],
      "metadata": {
        "id": "xvSq8iUTphqO"
      }
    },
    {
      "cell_type": "markdown",
      "source": [
        "#### Chart - 8\n",
        "**Interactive Box Plot**"
      ],
      "metadata": {
        "id": "BZR9WyysphqO"
      }
    },
    {
      "cell_type": "code",
      "source": [
        "# Chart - 8 visualization code\n",
        "#Interactive Boxplot\n",
        "import plotly.graph_objs as go #provide a way to create interactive(plotly) graph objects \n",
        "import plotly.offline as pyo #allows to create and save Plotly charts offline, without the need for an internet connection.\n",
        "\n",
        "# Filter the data for paid apps\n",
        "paid_apps = df_copy[df_copy[\"Type\"] == \"Paid\"] # filtering the dataframe based on the \"Type\" column\n",
        "\n",
        "# Create the trace for paid apps\n",
        "paid_trace = go.Box(\n",
        "    y=paid_apps[\"Installs\"],\n",
        "    name=\"Paid\",\n",
        "    boxpoints=\"all\",\n",
        "    jitter=0.3,\n",
        "    pointpos=-1.8\n",
        ")\n",
        "\n",
        "# Filter the data for free apps\n",
        "free_apps = df_copy[df_copy[\"Type\"] == \"Free\"]\n",
        "\n",
        "# Create the trace for free apps\n",
        "free_trace = go.Box(\n",
        "    y=free_apps[\"Installs\"],\n",
        "    name=\"Free\",\n",
        "    boxpoints=\"all\",\n",
        "    jitter=0.3, # jitter is used to add random noise or displacement to data points\n",
        "    pointpos=-1.8 # pointpos controls the position of the points in a box plot\n",
        ")\n",
        "\n",
        "# Create the layout \n",
        "layout = go.Layout(\n",
        "    title=\"Number of Installs of Paid Apps vs. Free Apps\",\n",
        "    yaxis=dict(\n",
        "        title=\"Number of Installs (Log Scale)\",\n",
        "        type=\"log\", #A logarithmic scale is used when values spans a large range\n",
        "        autorange=True # automatically adjusted to fit the range of the data in the plot\n",
        "    )\n",
        ")\n",
        "\n",
        "# Add the traces to the data list\n",
        "data = [paid_trace, free_trace]\n",
        "\n",
        "# Create the figure\n",
        "fig = go.Figure(data=data, layout=layout)\n",
        "\n",
        "# Show the figure\n",
        "pyo.iplot(fig)"
      ],
      "metadata": {
        "id": "TdPTWpAVphqO",
        "colab": {
          "base_uri": "https://localhost:8080/",
          "height": 0
        },
        "outputId": "4c383ccc-fb5d-4e12-9578-e88d2f85a4f6"
      },
      "execution_count": 52,
      "outputs": [
        {
          "output_type": "display_data",
          "data": {
            "text/html": [
              "<html>\n",
              "<head><meta charset=\"utf-8\" /></head>\n",
              "<body>\n",
              "    <div>            <script src=\"https://cdnjs.cloudflare.com/ajax/libs/mathjax/2.7.5/MathJax.js?config=TeX-AMS-MML_SVG\"></script><script type=\"text/javascript\">if (window.MathJax) {MathJax.Hub.Config({SVG: {font: \"STIX-Web\"}});}</script>                <script type=\"text/javascript\">window.PlotlyConfig = {MathJaxConfig: 'local'};</script>\n",
              "        <script src=\"https://cdn.plot.ly/plotly-2.8.3.min.js\"></script>                <div id=\"5881611d-6ba4-42e9-bb48-42cad07cb074\" class=\"plotly-graph-div\" style=\"height:525px; width:100%;\"></div>            <script type=\"text/javascript\">                                    window.PLOTLYENV=window.PLOTLYENV || {};                                    if (document.getElementById(\"5881611d-6ba4-42e9-bb48-42cad07cb074\")) {                    Plotly.newPlot(                        \"5881611d-6ba4-42e9-bb48-42cad07cb074\",                        [{\"boxpoints\":\"all\",\"jitter\":0.3,\"name\":\"Paid\",\"pointpos\":-1.8,\"y\":[100000.0,100000.0,100000.0,10000.0,1000.0,50.0,100.0,100.0,100.0,10000.0,1000.0,1000.0,500000.0,100000.0,100000.0,100000.0,10000.0,50000.0,100000.0,10000.0,100000.0,100000.0,100000.0,100000.0,100000.0,100000.0,100000.0,100000.0,100000.0,100000.0,5000.0,5000.0,1000.0,500.0,100000.0,500000.0,10000.0,10000.0,1000.0,1000.0,1000.0,100.0,100.0,1000.0,5000.0,5000.0,1000.0,10000.0,10000.0,5000.0,1000.0,10000.0,10000.0,50000.0,10000000.0,1000000.0,100000.0,10000.0,10000.0,10000.0,10000.0,10000.0,5000.0,5000.0,100000.0,50000.0,1000.0,10000.0,50000.0,1000.0,1000.0,10000.0,1000.0,1000.0,1000.0,100.0,5000.0,5000.0,500.0,1000.0,10000.0,1000.0,100.0,1000.0,500.0,5000.0,1000.0,500.0,1000.0,5000.0,10000.0,1000.0,10000.0,100.0,1000.0,5000.0,10000.0,1000.0,1000.0,100.0,50000.0,1000.0,1000.0,5000.0,5000.0,1000.0,10000.0,50.0,1000.0,10000.0,1000.0,1000.0,500.0,500.0,1000.0,5000.0,1000.0,100.0,1.0,50.0,10.0,1.0,1000000.0,100000.0,100000.0,50000.0,1000000.0,1000000.0,10000.0,10000.0,100000.0,100000.0,100000.0,100.0,100.0,5000.0,1000.0,100.0,1000.0,500.0,50000.0,10000.0,10000.0,10000000.0,100000.0,100000.0,100000.0,10000.0,10.0,100000.0,500000.0,5.0,10.0,10.0,500.0,5000.0,1000.0,1000.0,100.0,100.0,5000.0,5000.0,500.0,5000.0,10.0,500.0,100.0,5000.0,500.0,100.0,10000.0,50000.0,1.0,1000000.0,10.0,10000.0,500.0,1000.0,1000.0,100.0,10000000.0,1000.0,10000.0,10000.0,100000.0,1000.0,5000.0,100000.0,10000.0,1000.0,10000.0,1000.0,10000.0,100000.0,1000.0,5000.0,10000.0,10000.0,10000.0,10000.0,100.0,100.0,5000.0,100.0,5.0,100.0,1000.0,100.0,10.0,500.0,1.0,100.0,10000.0,10.0,0.0,100.0,100.0,1.0,100.0,5000.0,500.0,10.0,5000.0,100.0,50.0,1000.0,50000.0,100000.0,100000.0,50000.0,100.0,1000.0,1000.0,100.0,10000.0,100000.0,10000.0,5000.0,5000.0,10000.0,1000.0,10000.0,5000.0,10000.0,100000.0,50.0,50000.0,50000.0,10000.0,500.0,1000.0,10000.0,5000.0,10000.0,1000.0,10000.0,5000.0,50.0,10000.0,1000.0,100000.0,10000.0,50000.0,1000.0,1000000.0,10000.0,100.0,10.0,50000.0,10000.0,500000.0,1000.0,10000.0,10000.0,50000.0,10000.0,10000.0,100000.0,1000.0,10000.0,5000.0,100.0,1000.0,10000.0,1000.0,10.0,100000.0,1000.0,5000.0,100.0,500.0,5000.0,1.0,100.0,5000.0,1000.0,100.0,500.0,50000.0,100.0,10.0,100.0,50.0,10.0,50.0,10.0,10.0,0.0,10000.0,100000.0,10000.0,10000.0,50000.0,1000.0,1000.0,5000.0,1000.0,10000.0,5000.0,1000.0,10000.0,10000.0,5000.0,5000.0,1000.0,100000.0,100000.0,1000.0,1000.0,10.0,100.0,500.0,100.0,5.0,10.0,0.0,10.0,1000000.0,1.0,1000.0,1000000.0,50000.0,500000.0,1000000.0,100000.0,100000.0,100000.0,10000.0,1000.0,5000.0,100.0,1000.0,100.0,10000.0,100000.0,1000.0,10.0,1.0,1.0,10.0,1.0,1000.0,1000.0,1000.0,500.0,1000.0,1.0,5.0,100.0,10.0,0.0,5000.0,1000.0,1000.0,100.0,50.0,50000.0,10.0,50.0,100000.0,100000.0,1000.0,1000.0,1000.0,5000.0,50000.0,500.0,5000.0,10.0,100000.0,50000.0,10000.0,100.0,100000.0,50000.0,100000.0,50000.0,1.0,10.0,500.0,100.0,100.0,10000.0,50.0,5.0,10.0,100.0,50.0,100.0,500.0,10000.0,500.0,1000.0,500.0,1000.0,1000.0,10.0,5000.0,1000.0,100000.0,1000.0,1000.0,100.0,10.0,1000.0,1000.0,100.0,1000.0,50.0,1000.0,1.0,100000.0,1000000.0,100000.0,5000.0,0.0,50000.0,10.0,50.0,1000.0,1000.0,10000.0,10.0,5.0,500.0,100000.0,1000.0,1000.0,1000000.0,100000.0,1000.0,500000.0,10000.0,100.0,1000.0,1000.0,1000.0,100.0,100.0,100.0,500.0,500.0,10000.0,100.0,1000.0,10000.0,10000.0,100.0,50.0,1000.0,1.0,1000.0,1000.0,1000.0,10.0,5000.0,500.0,50000.0,5.0,1000.0,50.0,10.0,10.0,1000.0,1000000.0,100000.0,10000.0,10000.0,50000.0,1000.0,10000.0,10.0,10.0,5.0,1000000.0,100.0,10.0,10.0,10.0,100000.0,10000.0,10000.0,100.0,10000.0,100000.0,100000.0,100000.0,10000.0,10000.0,50000.0,10000.0,10000.0,5000.0,100.0,100.0,1000.0,10.0,100.0,10.0,500.0,100.0,100.0,100.0,500000.0,100.0,10.0,10.0,100.0,100.0,1000.0,50.0,100.0,100.0,50000.0,1000.0,1000.0,100.0,100.0,5000.0,100.0,100.0,10000.0,5000.0,5000.0,100.0,10.0,10.0,1.0,1000.0,500.0,10000.0,1000.0,100000.0,10.0,10.0,10.0,1000.0,10.0,1000.0,1.0,5.0,10.0,100000.0,100000.0,10000.0,10000.0,500.0,50.0,500.0,10.0,10.0,1.0,50000.0,50.0,5000.0,10.0,10000.0,10.0,10.0,10.0,100.0,100.0,10000.0,50.0,1000.0,100.0,10.0,500000.0,1000.0,1.0,50000.0,10.0,1000.0,5.0,50.0,5000.0,10000.0,10.0,5000.0,1000.0,50000.0,50000.0,10000.0,10000.0,100000.0,10000.0,100000.0,100000.0,100000.0,1000.0,10000.0,500.0,50000.0,100000.0,50000.0,100.0,1000.0,10000.0,50000.0,100000.0,50000.0,1000000.0,100.0,50.0,10000.0,10.0,50.0,1000000.0,100000.0,1000.0,10000.0,100000.0,5000.0,10000.0,1000.0,100.0,10000.0,5000.0,100000.0,100.0,10.0,500.0,50.0,50.0,50.0,10.0,100.0,50.0,500.0,10000.0,10000.0,10.0,1.0,1.0,1000000.0,500000.0,1000000.0,1000000.0,5.0,1000.0,1000.0,500.0,100.0,10000.0,1000.0,50.0,0.0,50000.0,50.0,10000.0,1000.0,500000.0,1000.0,100000.0,10000.0,1000.0,10000.0,100000.0,100000.0,1000.0,5000.0,1000.0,100000.0,10000.0,1000.0,100.0,100.0,1000000.0,500.0,50000.0,1000.0,50.0,100.0,100000.0,50.0,500.0,0.0,100000.0,10.0,500000.0,500.0,50000.0,1000.0,10000.0,0.0,10.0,0.0,100.0,10000.0,0.0,1000000.0,10000.0,100000.0,100000.0,500000.0,10000.0,50000.0,5000.0,5000.0,1000.0,5000.0,5000.0,5000.0,5000.0,50.0,100.0,500.0,100000.0,100.0,50000.0,100.0,10000.0,10000.0,10000.0,1000.0,1000.0,1000.0,100.0,5000.0,100.0,100000.0,10000.0,1000.0,1000.0,5000.0,5000.0,100000.0,10.0,10.0,10.0,10.0,10.0,10.0,5.0,10.0,50.0,100000.0,1000000.0,100.0,1.0,100.0,1000.0,10000.0,10000.0,50.0],\"type\":\"box\"},{\"boxpoints\":\"all\",\"jitter\":0.3,\"name\":\"Free\",\"pointpos\":-1.8,\"y\":[10000.0,500000.0,5000000.0,50000000.0,100000.0,50000.0,50000.0,1000000.0,1000000.0,10000.0,1000000.0,1000000.0,10000000.0,100000.0,100000.0,5000.0,500000.0,10000.0,5000000.0,10000000.0,100000.0,100000.0,500000.0,100000.0,50000.0,10000.0,500000.0,100000.0,10000.0,100000.0,100000.0,50000.0,100000.0,100000.0,10000.0,100000.0,500000.0,5000000.0,10000.0,500000.0,10000.0,100000.0,10000000.0,100000.0,10000.0,10000000.0,100000.0,100000.0,100000.0,100000.0,1000000.0,100000.0,1000000.0,100000.0,100000.0,100000.0,50000.0,100000.0,100000.0,100000.0,10000.0,100000.0,1000000.0,100000.0,100000.0,10000.0,50000.0,5000000.0,100000.0,5000000.0,5000000.0,500000.0,10000000.0,100000.0,500000.0,50000.0,100000.0,1000000.0,100000.0,1000000.0,50000.0,1000000.0,500000.0,100000.0,1000000.0,1000000.0,100000.0,100000.0,1000000.0,100000.0,100000.0,1000000.0,1000000.0,1000000.0,1000000.0,500000.0,500000.0,100000.0,500000.0,1000000.0,100000.0,500000.0,1000000.0,500000.0,100000.0,1000000.0,50000.0,1000000.0,10000.0,1000000.0,100000.0,10000.0,50000.0,100000.0,10000.0,10000.0,10000.0,10000000.0,500000.0,1000000.0,50000.0,10000.0,1000000.0,50000.0,500000.0,500000.0,100000.0,10000.0,5000.0,10000.0,10000.0,100000.0,5000.0,100000.0,10000.0,10000.0,1000000.0,50000.0,10000.0,100000000.0,50000.0,100000.0,10000000.0,100000000.0,10000000.0,10000000.0,10000000.0,100000.0,1000000.0,10000000.0,500000.0,1000000.0,1000000000.0,5000000.0,100000.0,10000000.0,500000.0,10000000.0,1000000.0,1000000.0,500000.0,1000000.0,500000.0,10000.0,5000000.0,100000.0,5000000.0,500000.0,1000000.0,500000.0,500000.0,1000000.0,5000000.0,10000000.0,100000.0,100000.0,100000.0,50000.0,500000.0,10000000.0,50000.0,1000000.0,1000000.0,1000000.0,500000.0,100000.0,10000000.0,10000000.0,50000000.0,10000000.0,5000000.0,1000000.0,50000000.0,5000000.0,100000000.0,1000000.0,1000000.0,500000.0,10000000.0,5000000.0,1000000.0,50000000.0,10000000.0,1000000.0,10000000.0,5000000.0,5000000.0,5000000.0,5000000.0,100000.0,1000000.0,1000000.0,1000000.0,10000000.0,5000000.0,1000000.0,5000000.0,100000.0,10000000.0,1000000.0,1000000.0,100000.0,5000000.0,1000000.0,100000.0,50000000.0,5000000.0,100000.0,1000000.0,1000000.0,10000000.0,10000000.0,1000000.0,50000.0,5000000.0,5000000.0,100000.0,100000.0,1000000.0,500000.0,100000.0,500000.0,500000.0,1000000.0,1000000.0,1000000.0,100000.0,100000.0,1000000.0,1000000.0,10000000.0,100000.0,100000.0,5000000.0,50000.0,1000000.0,500000.0,10000000.0,5000000.0,100000000.0,5000000.0,10000.0,10000000.0,500000.0,1000000.0,500000.0,50000.0,50000.0,50000.0,1000000.0,10000.0,10000.0,10000.0,10000.0,10000.0,100000.0,5000000.0,100000.0,1000000.0,100000.0,1000000.0,1000000.0,1000000.0,1000000.0,100000.0,5000000.0,50000.0,100000.0,10000.0,10000.0,5000.0,500000.0,1000000.0,5000.0,1000.0,5000000.0,10000.0,50000.0,1000000.0,100000.0,1000000000.0,1000000000.0,10000000.0,1000000000.0,100000000.0,1000000000.0,1000000000.0,500000000.0,5000000.0,100000000.0,100000000.0,100000000.0,500000000.0,50000000.0,5000000.0,5000000.0,100000000.0,10000000.0,10000000.0,10000000.0,10000000.0,100000000.0,1000000.0,1000000.0,10000000.0,5000000.0,10000000.0,10000000.0,100000000.0,5000000.0,100000000.0,100000000.0,10000000.0,1000000.0,100000000.0,100000000.0,500000000.0,10000000.0,1000000.0,100000.0,10000000.0,10000000.0,10000000.0,500000000.0,5000000.0,5000000.0,1000000000.0,500000000.0,10000000.0,500000000.0,1000000000.0,10000000.0,5000000.0,50000000.0,100000000.0,1000000000.0,100000000.0,100000000.0,100000000.0,1000000.0,10000000.0,10000000.0,10000000.0,10000000.0,10000000.0,500000000.0,10000000.0,1000000.0,100000000.0,100000000.0,1000000.0,1000000.0,10000000.0,1000000000.0,100000000.0,50000000.0,100000000.0,1000000.0,100000000.0,50000000.0,100000000.0,500000000.0,1000000.0,1000000.0,1000000.0,10000000.0,500000.0,500000.0,10000000.0,10000000.0,1000000.0,1000000.0,5000000.0,10000000.0,1000000.0,10000000.0,1000000.0,1000000.0,10000000.0,10000000.0,5000000.0,10000000.0,5000000.0,1000000.0,1000000.0,5000000.0,1000000.0,100000000.0,1000000.0,1000000000.0,100000000.0,5000000.0,10000000.0,1000000.0,1000000.0,1000000.0,10000000.0,50000000.0,10000.0,5000000.0,1000000.0,500000.0,1000000000.0,500000000.0,1000000.0,5000000.0,10000000.0,10000000.0,10000000.0,100000.0,500000.0,5000000.0,1000000.0,10000000.0,1000000.0,10000000.0,5000000.0,5000000.0,100000.0,500000.0,1000000.0,1000000.0,10000.0,1000000.0,1000000.0,100000.0,10000000.0,1000000.0,100000.0,500000.0,5000.0,500000.0,5000000.0,1000000.0,100000.0,1000000.0,1000000.0,100000.0,100000.0,500000.0,500000.0,500000.0,100000.0,500000.0,500000.0,100000.0,50000.0,1000000.0,1000000.0,100000.0,100000.0,100000.0,10000.0,100000.0,1000000.0,100000.0,10000000.0,500000.0,100000.0,1000000.0,50000.0,5000000.0,500000.0,100000.0,100000.0,500000.0,100000.0,10000.0,100000.0,1000000.0,50000.0,500000.0,1000000.0,100000.0,10000.0,500000.0,1000000.0,100000.0,10000.0,10000.0,10000000.0,1000000.0,500000.0,500000.0,500000.0,1000000.0,100000.0,500000.0,10000.0,100000.0,100000.0,500000.0,1000000.0,10000.0,1000000.0,10000000.0,10000.0,100000.0,10000.0,1000000.0,1000000.0,50000.0,10000.0,500000.0,5000000.0,1000000.0,1000.0,5000.0,1000.0,500.0,5000.0,10000.0,100.0,10000.0,1000.0,100.0,1000.0,1000.0,1000.0,100.0,500.0,500.0,5000.0,100.0,100.0,50.0,5000.0,50.0,500.0,10.0,500.0,500.0,100.0,1000.0,10.0,100.0,10.0,500.0,500.0,10.0,100.0,100.0,10.0,10.0,100.0,50.0,100.0,100.0,10.0,500.0,1000.0,500.0,50.0,1.0,10.0,1000.0,1.0,50.0,100.0,10000.0,500.0,1000.0,10.0,5.0,10.0,100.0,1000000.0,100000.0,100000.0,1000.0,5000000.0,100000.0,1000000.0,500000.0,500000.0,500.0,10000.0,50000.0,10000.0,5000.0,10000.0,1000.0,10000.0,1000000.0,5000.0,100000000.0,10000000.0,100000.0,5000000.0,10000000.0,100000.0,5000000.0,1000000.0,500000.0,500000.0,1000000.0,1000000.0,5000000.0,1000000.0,500000.0,5000000.0,500000.0,1000000.0,10000000.0,10000000.0,1000000.0,5000000.0,50000.0,1000000.0,1000000.0,1000000.0,1000000.0,1000000.0,500000.0,1000000.0,5000000.0,1000000.0,500000.0,500000.0,100000.0,10000000.0,100000.0,5000000.0,10000000.0,10000000.0,1000000.0,5000000.0,1000000.0,5000000.0,5000000.0,10000000.0,1000000.0,1000000.0,1000000.0,1000000.0,10000.0,50000.0,1000000.0,1000000.0,1000000.0,1000000.0,1000000.0,1000000.0,1000000.0,1000000.0,1000000.0,1000000.0,100000.0,1000000.0,100000.0,10000.0,10000.0,50000.0,500000.0,100000.0,100000.0,100000.0,10000.0,100000.0,100000.0,50000.0,50000.0,100000.0,100000.0,100000000.0,1000000.0,5000000.0,10000000.0,10000000.0,1000000.0,10000000.0,1000000.0,5000000.0,5000000.0,5000000.0,1000000.0,500000.0,1000000.0,1000000.0,10000000.0,10000000.0,1000000.0,500000.0,1000000.0,1000000.0,50000.0,1000000.0,100000.0,100000.0,100000.0,100000.0,10000000.0,100000.0,10000.0,10000000.0,10000000.0,10000000.0,500000.0,5000000.0,10000000.0,500000.0,10000000.0,1000000.0,1000000.0,1000000.0,100000.0,10000000.0,5000000.0,1000000.0,100000.0,1000000.0,100000000.0,1000000.0,1000000.0,10000000.0,50000000.0,10000000.0,5000000.0,5000000.0,10000000.0,5000000.0,1000000000.0,100000000.0,5000000.0,1000000.0,5000000.0,5000000.0,1000000.0,1000000.0,10000000.0,100000000.0,5000000.0,10000000.0,1000000.0,10000000.0,50000000.0,5000000.0,10000000.0,1000000.0,10000000.0,1000000.0,10000000.0,50000000.0,1000000.0,100000000.0,50000000.0,1000000.0,5000000.0,50000000.0,100000000.0,1000000.0,100000.0,1000000.0,1000000.0,10000000.0,100000.0,100000.0,1000000.0,100000000.0,500000.0,100000.0,100000.0,1000000.0,1000000.0,10000000.0,1000000.0,10000000.0,10000000.0,10000000.0,50000.0,1000000.0,10000000.0,1000000.0,5000000.0,1000000.0,5000000.0,1000000.0,10000000.0,10000000.0,1000000.0,1000000.0,1000000.0,1000000.0,1000000.0,100000000.0,10000000.0,10000000.0,10000000.0,500000.0,5000000.0,10000000.0,500000.0,1000000.0,1000000.0,1000000.0,10000000.0,1000000.0,10000000.0,10000000.0,1000000.0,100000000.0,10000000.0,1000000.0,10000000.0,10000000.0,1000000.0,100000.0,1000000.0,10000.0,100000.0,100000.0,5000000.0,100000.0,1000000.0,1000000.0,1000000.0,1000000.0,10000000.0,10000000.0,10000000.0,100000.0,5000000.0,500000.0,50000.0,5000000.0,1000000.0,10000.0,1000000.0,100000.0,10000.0,1000000.0,100000.0,100000.0,100000.0,50000.0,1000.0,1000000.0,10000.0,500.0,50000.0,100.0,100.0,100000.0,100000.0,500.0,100000.0,100.0,100000.0,100.0,1000.0,5000.0,100000.0,1000.0,100000.0,100.0,1000.0,50000.0,5000.0,100000.0,100.0,1000.0,1000.0,100.0,500.0,10000000.0,1000000.0,5000000.0,5000000.0,5000000.0,10000000.0,500000.0,5000000.0,10000000.0,1000000.0,1000000.0,10000000.0,5000000.0,1000000.0,1000000.0,10000000.0,1000000.0,5000000.0,1000000.0,1000000.0,5000000.0,1000000.0,5000000.0,1000000.0,1000000.0,10000000.0,10000000.0,1000000.0,50000000.0,10000000.0,1000000.0,1000000.0,1000000.0,10000000.0,1000000.0,100000000.0,5000000.0,1000000.0,5000000.0,1000000.0,10000000.0,10000.0,1000000.0,100000.0,100000.0,100000.0,1000000.0,1000000.0,1000000.0,1000000.0,5000000.0,500000.0,1000000.0,100000.0,500000.0,1000000.0,1000000.0,100000.0,100000.0,1000000.0,1000000.0,50000.0,1000000.0,100000.0,10000000.0,100000.0,1000000.0,5000000.0,1000000.0,100000.0,1000000.0,100000.0,1000000.0,1000000.0,50000.0,1000000.0,5000000.0,500000.0,1000000.0,1000000.0,1000000.0,5000000.0,1000000.0,100000.0,500000.0,1000000.0,1000000.0,500000.0,1000000.0,5000000.0,500000.0,1000000.0,1000000.0,5000000.0,5000000.0,50000.0,1000000.0,100000.0,1000000.0,500000.0,1000000.0,500000.0,50000000.0,1000000.0,100000.0,100000.0,1000000.0,1000000.0,5000000.0,100000000.0,50000.0,10000000.0,10000.0,5000000.0,10000000.0,10000000.0,1000000.0,5000000.0,1000000.0,10000000.0,10000000.0,1000000.0,10000000.0,50000.0,10000000.0,1000000.0,10000.0,100000.0,1000000.0,10000000.0,1000000.0,500000.0,10000000.0,500000.0,50000.0,1000000.0,1000000.0,1000000.0,500000.0,5000000.0,1000000.0,5000000.0,1000000.0,10000000.0,100000.0,10000000.0,5000000.0,5000000.0,1000000.0,10000000.0,5000000.0,1000000.0,1000000.0,1000000.0,1000000.0,100000.0,100000.0,1000000.0,50000.0,500000.0,500000.0,100000.0,1000000.0,1000000.0,100000.0,100000.0,5000000.0,500000.0,100000.0,1000000.0,10000.0,50000.0,5000000.0,1000000.0,1000000.0,10000000.0,1000000.0,1000000.0,1000000.0,5000000.0,10000000.0,10000000.0,50000.0,100000.0,1000000.0,1000000.0,100000.0,10000000.0,100000.0,1000000.0,5000000.0,10000000.0,1000000.0,5000000.0,5000000.0,10000000.0,10000000.0,10000000.0,500000.0,5000000.0,1000000.0,10000000.0,10000000.0,10000000.0,10000000.0,10000000.0,10000000.0,1000000.0,10000000.0,1000000.0,100000.0,500000.0,100000.0,500000.0,5000000.0,1000000.0,10000000.0,50000.0,10000000.0,500000.0,100000.0,1000000.0,10000000.0,500000.0,10000000.0,5000000.0,1000000.0,50000000.0,100000.0,5000000.0,10000000.0,1000000.0,100000.0,10000000.0,1000000.0,500000.0,100000.0,10000000.0,1000000.0,5000000.0,1000000.0,500000.0,1000000.0,1000000.0,1000000.0,10000000.0,10000000.0,5000000.0,1000000.0,5000000.0,10000000.0,500000.0,10000000.0,10000000.0,1000000.0,5000000.0,1000000.0,10000000.0,10000000.0,1000000.0,10000000.0,5000000.0,1000000.0,5000000.0,10000000.0,1000000.0,5000000.0,1000000.0,100000.0,1000000.0,500000.0,500000.0,100000.0,1000000.0,500000.0,100000.0,100000.0,1000000.0,5000000.0,5000000.0,500000.0,10000000.0,100000.0,1000000.0,1000000.0,1000000.0,1000000.0,5000000.0,1000000.0,1000000.0,1000000.0,500000.0,10000000.0,500000.0,1000000.0,100000000.0,10000000.0,50000000.0,5000000.0,5000000.0,500000.0,1000000.0,1000000.0,1000000.0,10000000.0,50000.0,50000.0,5000000.0,5000000.0,1000000.0,1000000.0,5000000.0,5000000.0,10000000.0,50000000.0,10000000.0,10000000.0,10000000.0,10000000.0,1000000.0,500000.0,1000000.0,1000000.0,100000.0,10000000.0,1000000.0,100000.0,50000.0,500000.0,1000000.0,100000.0,5000000.0,10000000.0,100000.0,500000.0,100000.0,1000000.0,500000.0,100000.0,500000.0,1000000.0,500000.0,500000.0,1000000.0,500000.0,5000000.0,5000000.0,1000000.0,1000000.0,10000000.0,100000.0,1000000.0,10000000.0,5000000.0,1000000.0,1000000.0,1000000.0,10000000.0,10000.0,10000000.0,500000.0,100000.0,1000000.0,1000000.0,1000000.0,1000000.0,1000000.0,100000.0,5000000.0,1000000.0,1000000.0,1000000.0,5000.0,5000000.0,10000.0,100000.0,500000.0,1000000.0,100000.0,1000000.0,100000.0,100000.0,1000000.0,500000.0,500000.0,5000000.0,500000.0,5000.0,100000.0,10000.0,50000.0,100000.0,10000.0,100000.0,1000000.0,100000.0,500000.0,1000000.0,50000.0,10000000.0,1000000.0,500000.0,1000000.0,1000000.0,500000.0,500000.0,1000000.0,5000000.0,10000000.0,50000.0,50000.0,10000.0,100000.0,1000.0,100000.0,10000.0,100000.0,5000000.0,50000.0,10000000.0,1000.0,100000.0,50000.0,100000.0,50000.0,100000.0,10000.0,50000.0,50000.0,100000.0,100000.0,10000000.0,10000.0,100000.0,10000.0,10000.0,5000.0,500000.0,5000000.0,100000.0,1000000.0,10000.0,1000000.0,1000.0,500000.0,1000000.0,100000.0,1000000.0,10000.0,1000000.0,500000.0,500000.0,100000.0,50000.0,500000.0,500000.0,1000000.0,100000.0,5000000.0,10000000.0,100000.0,10000000.0,5000000.0,1000000.0,5000000.0,1000000.0,10000000.0,1000000.0,1000000.0,5000000.0,10000000.0,500000.0,5000000.0,10000000.0,1000000.0,1000000.0,10000000.0,5000000.0,1000000.0,10000000.0,50000000.0,1000000.0,500000.0,500000.0,1000000.0,5000000.0,1000000.0,1000000.0,100000.0,1000000.0,1000000.0,10000000.0,1000000.0,1000000.0,10000000.0,500000.0,10000000.0,1000000.0,1000000.0,100000.0,100000.0,10000000.0,500000.0,1000000.0,1000000.0,1000000.0,100000.0,1000000.0,1000000.0,10000000.0,100000.0,500000.0,10000.0,100000.0,5000000.0,1000000.0,500000.0,500000.0,10000.0,1000000.0,10000000.0,10000000.0,100000.0,50000.0,5000.0,100000.0,1000000.0,100000.0,50000.0,1000000.0,100000.0,1000000.0,5000000.0,500000.0,500000.0,1000000.0,500000.0,1000000.0,100000.0,1000000.0,100000.0,100000000.0,1000000000.0,500000000.0,10000000.0,10000000.0,50000000.0,100000000.0,100000000.0,500000000.0,500000000.0,100000000.0,5000000.0,100000000.0,100000000.0,100000000.0,100000000.0,1000000.0,100000000.0,50000000.0,5000000.0,100000000.0,1000000.0,100000000.0,50000000.0,50000000.0,10000000.0,50000000.0,100000000.0,100000000.0,10000000.0,10000000.0,10000000.0,100000000.0,5000000.0,10000000.0,50000000.0,100000000.0,50000000.0,10000000.0,10000000.0,10000000.0,100000000.0,100000000.0,10000000.0,100000000.0,100000000.0,100000000.0,1000000000.0,100000000.0,500000000.0,100000000.0,500000000.0,100000000.0,100000000.0,10000000.0,100000000.0,100000000.0,10000000.0,50000000.0,10000000.0,10000000.0,10000000.0,100000000.0,100000000.0,5000000.0,50000000.0,100000000.0,500000000.0,100000000.0,50000000.0,100000000.0,10000000.0,1000000.0,500000000.0,100000000.0,5000000.0,10000000.0,100000000.0,1000000.0,100000000.0,100000000.0,100000000.0,10000000.0,100000000.0,100000000.0,10000000.0,100000000.0,100000000.0,100000000.0,10000000.0,50000000.0,1000000.0,100000000.0,100000000.0,1000000000.0,10000000.0,50000000.0,50000000.0,100000000.0,100000000.0,100000000.0,50000000.0,50000000.0,100000000.0,100000000.0,10000000.0,10000000.0,50000000.0,10000000.0,1000000.0,10000000.0,5000000.0,5000000.0,100000000.0,1000000.0,1000000.0,10000000.0,10000000.0,500000.0,1000000.0,100000000.0,5000000.0,5000000.0,10000000.0,50000000.0,50000000.0,10000000.0,10000000.0,10000000.0,50000000.0,10000000.0,100000000.0,5000000.0,50000000.0,10000000.0,1000000.0,1000000.0,10000000.0,10000000.0,5000000.0,10000000.0,10000000.0,1000000.0,5000000.0,5000000.0,5000000.0,10000000.0,5000000.0,5000000.0,1000000.0,5000000.0,10000000.0,1000000.0,1000000.0,5000000.0,1000000.0,10000000.0,10000000.0,10000000.0,1000000.0,1000000.0,5000000.0,10000000.0,5000000.0,10000000.0,100000.0,1000000.0,1000000.0,100000.0,5000000.0,100000000.0,500000000.0,100000000.0,100000000.0,10000000.0,10000000.0,50000000.0,10000000.0,5000000.0,10000000.0,50000000.0,5000000.0,10000000.0,10000000.0,5000000.0,10000000.0,10000000.0,500000.0,1000000.0,5000000.0,50000000.0,5000000.0,10000000.0,500000.0,50000000.0,5000000.0,1000000.0,500000000.0,100000000.0,100000000.0,1000000000.0,100000000.0,1000000.0,10000000.0,10000000.0,50000000.0,100000000.0,100000000.0,100000000.0,100000000.0,10000000.0,5000000.0,1000000.0,500000000.0,500000000.0,100000000.0,10000000.0,10000000.0,100000000.0,100000000.0,100000000.0,100000000.0,50000000.0,10000000.0,10000000.0,100000000.0,10000000.0,50000000.0,1000000.0,50000000.0,100000000.0,10000000.0,10000000.0,100000000.0,100000000.0,50000000.0,500000000.0,100000000.0,100000000.0,10000000.0,5000000.0,10000000.0,100000000.0,100000000.0,50000000.0,100000000.0,100000000.0,500000000.0,100000000.0,10000000.0,50000000.0,50000000.0,10000000.0,50000000.0,50000000.0,10000000.0,100000000.0,10000000.0,10000000.0,50000000.0,10000000.0,50000000.0,50000000.0,10000000.0,10000000.0,10000000.0,10000000.0,100000.0,10000000.0,10000000.0,100000000.0,1000000.0,1000000.0,1000000.0,5000000.0,10000000.0,10000000.0,10000000.0,10000000.0,100000000.0,5000000.0,5000000.0,10000000.0,100000.0,50000000.0,5000000.0,50000000.0,10000000.0,100000000.0,100000000.0,10000000.0,10000000.0,10000000.0,5000000.0,10000000.0,100000000.0,100000000.0,50000000.0,5000000.0,10000000.0,10000000.0,10000000.0,100000000.0,50000000.0,100000000.0,100000000.0,10000000.0,100000000.0,10000000.0,100000000.0,5000000.0,10000000.0,1000000.0,50000000.0,10000000.0,10000000.0,50000000.0,5000000.0,10000000.0,10000000.0,5000000.0,10000000.0,100000000.0,100000000.0,50000000.0,50000000.0,100000000.0,50000000.0,10000000.0,50000000.0,10000000.0,100000000.0,1000000.0,5000000.0,5000000.0,1000000.0,1000000.0,5000000.0,1000000.0,100000.0,5000000.0,50000000.0,1000000.0,500000.0,10000000.0,500000.0,5000000.0,1000000.0,500000.0,10000000.0,500000.0,1000000.0,50000000.0,10000000.0,1000000.0,10000000.0,5000000.0,1000000.0,5000000.0,500000.0,10000000.0,1000000.0,1000000.0,10000000.0,10000000.0,100000000.0,10000000.0,10000000.0,1000000.0,10000000.0,1000000.0,100000000.0,10000000.0,100000.0,5000000.0,100000.0,10000.0,5000000.0,100000.0,1000000.0,5000000.0,1000000.0,1000000.0,1000000.0,1000000.0,5000000.0,500000.0,500000.0,1000000.0,1000000.0,50000.0,1000000.0,1000000.0,10000000.0,100000.0,100000.0,500000.0,500000.0,100000000.0,10000000.0,1000000.0,10000000.0,100000.0,10000000.0,1000000.0,5000000.0,500000.0,10000000.0,1000000.0,1000000.0,100000.0,50000.0,50000000.0,500000.0,10000000.0,500000.0,1000000.0,10000000.0,1000000.0,100000.0,5000000.0,1000000.0,1000000.0,10000000.0,1000000.0,10000000.0,10000000.0,50000000.0,10000000.0,5000000.0,100000.0,10000000.0,5000000.0,10000000.0,1000000.0,50000000.0,1000000.0,10000000.0,1000000.0,10000000.0,10000000.0,5000000.0,1000000.0,50000000.0,1000000.0,10000000.0,500000.0,500000.0,500000.0,100000.0,100000.0,1000000.0,10000.0,10000000.0,500000.0,10000000.0,5000000.0,1000000.0,1000000.0,1000000.0,100000.0,100000.0,50000.0,500000.0,100000.0,5000000.0,1000.0,100000.0,50000.0,10000000.0,1000000.0,1000000.0,1000000.0,100000.0,100000.0,5000000.0,100000.0,100000000.0,10000000.0,50000000.0,10000000.0,5000000.0,5000000.0,10000000.0,5000000.0,5000000.0,100000000.0,5000000.0,10000000.0,1000000.0,10000000.0,5000000.0,50000000.0,10000000.0,1000000.0,5000000.0,1000000.0,1000000.0,1000000.0,1000000.0,5000000.0,5000000.0,10000000.0,10000000.0,1000000.0,1000000.0,1000000.0,1000000.0,1000000.0,500000.0,50000.0,5000000.0,1000000.0,1000000.0,100000.0,500000.0,10000.0,1000000.0,500000.0,500000.0,5000000.0,50000.0,500000.0,1000000.0,500000.0,100000.0,100000.0,100000.0,100000.0,500000.0,100000.0,1000000.0,1000000.0,50000.0,1000000.0,100000.0,100000.0,100000.0,100000.0,1000000.0,50000.0,100000.0,100000.0,1000.0,500000.0,1000000.0,10000.0,1000000.0,1000.0,100000.0,500000.0,100000.0,50000.0,500000.0,10000.0,1000000.0,100000.0,5000.0,100000.0,100000.0,100000.0,5000.0,100000.0,100000.0,100000.0,50000.0,5000.0,10000.0,10000.0,50000.0,10000.0,100000.0,100000.0,50000.0,10000.0,50000.0,10000.0,10000.0,50000.0,100000.0,5000.0,1000.0,100000.0,100000.0,100000.0,5000.0,10000.0,1000.0,5000.0,10000.0,5000.0,1000.0,10000.0,10000.0,5000.0,50000.0,1000.0,100000.0,500.0,100.0,500.0,1000.0,50.0,100.0,100.0,10.0,10.0,100.0,100.0,10.0,100.0,50.0,10.0,100.0,1000.0,10.0,100.0,10.0,500.0,50.0,100.0,10.0,5.0,10.0,50.0,10.0,1.0,50.0,100.0,10.0,10.0,5.0,10.0,10.0,1.0,100.0,5000.0,5.0,10.0,10.0,10.0,5.0,50.0,1.0,10.0,50.0,5.0,100.0,100.0,10.0,5.0,100.0,10.0,100.0,10.0,5.0,5.0,10.0,100000.0,1000000.0,10000.0,1000.0,10000.0,50000.0,1000.0,100000.0,10000.0,500.0,10000.0,50000.0,1000.0,100000.0,5000.0,1000000.0,10000.0,1000.0,5000.0,10000.0,10000.0,10000.0,100.0,5000.0,10000.0,10000.0,50000.0,1000.0,1000.0,1000.0,50000.0,50000.0,100.0,1000.0,50000.0,10000.0,1000.0,10000.0,500.0,100000.0,5000.0,1000000000.0,1000000000.0,500000000.0,10000000.0,100000000.0,1000000.0,500000000.0,100000.0,100000000.0,10000000.0,1000000000.0,1000000.0,1000000.0,1000000.0,5000000.0,100000.0,1000000.0,5000000.0,5000000.0,1000000.0,5000000.0,10000000.0,5000000.0,1000000.0,500000.0,5000000.0,50000.0,10000000.0,1000000.0,5000000.0,1000000.0,1000000.0,10000000.0,10000000.0,10000000.0,10000000.0,10000000.0,1000000.0,100000000.0,1000000.0,10000000.0,5000000.0,5000000.0,100000000.0,10000000.0,10000000.0,10000000.0,100000000.0,50000000.0,10000000.0,50000000.0,10000000.0,5000000.0,10000000.0,100000000.0,5000000.0,500000.0,100000.0,500000000.0,1000000000.0,1000000.0,500000.0,10000000.0,10000000.0,500000.0,500000000.0,5000000.0,50000000.0,1000000.0,10000000.0,50000000.0,50000000.0,5000000.0,1000000.0,100000000.0,10000000.0,10000000.0,10000000.0,1000000.0,5000000.0,50000000.0,10000000.0,10000000.0,100000.0,50000000.0,10000000.0,10000000.0,10000000.0,100000.0,5000000.0,50000000.0,10000000.0,50000000.0,10000000.0,10000000.0,10000000.0,100000000.0,10000000.0,10000000.0,10000000.0,5000000.0,100000000.0,10000000.0,100000000.0,50000000.0,100000000.0,50000000.0,50000000.0,1000000.0,10000000.0,5000000.0,5000000.0,1000000.0,1000000.0,10000000.0,50000000.0,10000000.0,10000000.0,1000000.0,5000000.0,10000000.0,1000000.0,10000000.0,1000000.0,10000000.0,50000000.0,10000000.0,10000000.0,10000000.0,10000000.0,10000000.0,10000000.0,10000000.0,10000000.0,50000000.0,10000000.0,10000000.0,10000000.0,10000000.0,100000000.0,5000000.0,1000000.0,5000000.0,1000000.0,1000000.0,1000000.0,1000000.0,10000000.0,500000.0,500000.0,1000000.0,10000000.0,10000000.0,100000000.0,1000000.0,10000000.0,10000000.0,50000000.0,5000000.0,10000000.0,1000000.0,10000000.0,10000000.0,50000.0,1000000.0,5000000.0,1000000.0,1000000.0,1000000.0,10000000.0,100000.0,500000.0,500000.0,500000.0,5000000.0,100000.0,1000000.0,5000000.0,5000000.0,1000000.0,100000000.0,1000000.0,1000000.0,5000000.0,500000.0,10000000.0,100000000.0,10000000.0,1000000.0,1000000.0,10000000.0,10000000.0,1000000.0,500000.0,1000000.0,10000000.0,100000.0,100000000.0,1000000.0,100000.0,10000000.0,5000000.0,100000000.0,1000000.0,500000.0,10000000.0,1000000.0,5000000.0,1000000.0,500000.0,50000.0,1000000.0,1000000.0,1000000000.0,50000000.0,5000000.0,10000000.0,10000000.0,10000000.0,50000000.0,1000000.0,100000000.0,1000000.0,100000.0,5000000.0,1000000.0,5000000.0,1000000.0,1000000.0,5000000.0,50000000.0,500000.0,10000000.0,10000000.0,50000000.0,500000.0,1000000.0,1000000.0,100000000.0,1000000.0,100000000.0,50000000.0,10000000.0,1000000.0,1000000.0,5000000.0,10000000.0,1000000.0,1000000.0,5000000.0,10000000.0,10000000.0,100000000.0,10000000.0,100000000.0,10000000.0,1000000.0,5000000.0,1000000000.0,5000000.0,10000000.0,10000000.0,50000000.0,100000000.0,10000000.0,50000000.0,100000000.0,10000000.0,5000000.0,100000000.0,10000000.0,1000000.0,100000000.0,50000000.0,1000000.0,100000000.0,1000000.0,1000000.0,1000000.0,1000000.0,5000000.0,100000000.0,10000000.0,1000000.0,10000000.0,5000000.0,1000000000.0,5000000.0,10000000.0,10000000.0,10000000.0,5000000.0,1000000.0,10000000.0,10000000.0,100000000.0,10000000.0,1000000.0,50000000.0,5000000.0,10000000.0,10000000.0,100000000.0,100000000.0,50000000.0,100000000.0,50000000.0,50000000.0,50000000.0,10000000.0,5000000.0,10000000.0,10000000.0,100000000.0,100000000.0,1000000.0,5000000.0,10000000.0,1000000.0,10000000.0,50000000.0,50000000.0,50000000.0,50000000.0,10000000.0,10000000.0,100000000.0,50000000.0,100000000.0,100000000.0,100000000.0,10000000.0,50000000.0,100000000.0,100000000.0,100000000.0,100000000.0,5000000.0,10000000.0,50000000.0,100000000.0,10000000.0,1000000.0,10000000.0,5000000.0,5000000.0,10000000.0,10000000.0,10000000.0,100000.0,10000000.0,5000000.0,50000000.0,10000000.0,10000000.0,500000.0,10000000.0,1000000.0,5000000.0,5000000.0,5000000.0,10000000.0,1000000.0,10000000.0,5000000.0,5000000.0,5000000.0,5000000.0,5000000.0,1000000.0,1000000.0,10000000.0,5000000.0,10000000.0,10000000.0,5000000.0,100000.0,1000000.0,1000000.0,1000000.0,5000000.0,100000.0,500000.0,500000.0,500000.0,1000000.0,10000000.0,100000.0,5000000.0,100000.0,100000.0,500000.0,10000000.0,100000.0,1000000.0,500000.0,100000.0,5000000.0,10000000.0,1000000.0,5000000.0,100000.0,1000000.0,1000000.0,100000.0,1000000.0,100000.0,1000000.0,1000000.0,100000.0,50000.0,500000.0,100000.0,1000000.0,100000.0,1000000.0,1000000.0,1000000.0,5000000.0,1000000.0,1000000.0,5000000.0,1000000.0,10000000.0,1000000.0,5000000.0,10000.0,50000.0,100000.0,1000000.0,10000000.0,5000000.0,100000.0,1000000.0,10000.0,5000000.0,500000.0,5000000.0,10000000.0,100000.0,5000000.0,50000000.0,500000.0,500000.0,500000.0,10000.0,10000000.0,10000000.0,50000000.0,100000.0,10000000.0,1000000.0,5000000.0,1000000.0,1000000.0,5000000.0,10000000.0,10000000.0,50000000.0,5000000.0,1000000.0,500000.0,1000000.0,10000000.0,10000000.0,500000.0,10000000.0,100000000.0,1000000.0,5000000.0,100000000.0,10000000.0,1000000000.0,5000000.0,5000000.0,100000000.0,10000000.0,5000000.0,10000000.0,50000000.0,10000000.0,1000000000.0,10000000.0,10000000.0,10000000.0,1000000.0,1000000.0,1000000.0,5000000.0,500000.0,100000000.0,100000.0,5000000.0,5000000.0,1000000.0,1000000.0,10000000.0,10000000.0,10000000.0,10000000.0,5000000.0,5000000.0,10000000.0,10000000.0,1000000.0,50000000.0,5000000.0,1000000.0,5000000.0,1000000.0,100000000.0,1000000.0,5000000.0,1000000.0,5000000.0,10000000.0,10000000.0,10000000.0,1000000.0,100000.0,1000.0,100000.0,5000000.0,10000000.0,1000000.0,1000000.0,1000000.0,100000.0,1000000.0,5000000.0,1000000.0,1000000.0,5000000.0,1000000.0,1000000.0,5000000.0,1000000.0,1000000.0,1000000.0,10000000.0,5000000.0,1000000.0,1000000.0,1000000.0,1000000.0,100000.0,5000000.0,1000000.0,1000000.0,10000000.0,5000000.0,10000000.0,5000000.0,10000000.0,1000000.0,100000.0,1000000.0,1000000000.0,10000000.0,1000000.0,5000000.0,1000000.0,1000000.0,500000.0,500000.0,1000000.0,1000000000.0,10000000.0,1000000000.0,500000000.0,10000000.0,50000000.0,50000000.0,100000000.0,1000000.0,10000000.0,100000000.0,100000000.0,100000000.0,10000000.0,50000000.0,50000000.0,10000000.0,10000000.0,5000000.0,10000000.0,1000000.0,10000000.0,100000.0,500000000.0,10000000.0,10000000.0,1000000.0,5000000.0,10000000.0,100000000.0,10000000.0,10000000.0,10000000.0,500000000.0,100000000.0,10000000.0,10000000.0,10000000.0,10000000.0,10000000.0,100000000.0,10000000.0,1000000.0,500000.0,10000000.0,10000000.0,50000.0,100000.0,100000.0,10000000.0,10000000.0,1000000.0,5000000.0,1000000.0,10000000.0,50000000.0,10000000.0,100000000.0,10000000.0,50000000.0,10000000.0,5000000.0,50000000.0,10000000.0,5000000.0,5000000.0,50000000.0,5000000.0,10000000.0,5000000.0,5000000.0,1000000.0,1000000.0,1000000.0,1000000.0,10000000.0,10000000.0,1000000.0,5000000.0,1000000.0,100000.0,1000000.0,100000.0,50000000.0,5000000.0,1000000.0,1000000.0,50000000.0,10000000.0,1000000.0,1000000.0,5000000.0,5000000.0,10000000.0,500000000.0,10000000.0,50000000.0,100000000.0,10000000.0,10000000.0,1000000.0,100000000.0,10000000.0,1000000.0,1000000.0,10000000.0,5000000.0,1000000.0,1000000.0,10000000.0,10000000.0,100000000.0,10000000.0,1000000.0,1000000.0,10000000.0,100000000.0,10000000.0,10000000.0,1000000.0,50000000.0,1000000.0,100000000.0,5000000.0,100000.0,5000000.0,5000000.0,1000000.0,100000000.0,500000.0,1000000.0,1000000.0,1000000.0,50000000.0,1000000.0,10000000.0,10000000.0,10000000.0,10000000.0,10000000.0,10000000.0,10000000.0,100000000.0,10000000.0,10000000.0,500000.0,10000000.0,10000000.0,1000000.0,1000000.0,50000000.0,1000000.0,10000000.0,100000000.0,500000.0,1000000.0,1000000.0,10000000.0,5000000.0,5000000.0,500000.0,500000.0,5000000.0,100000.0,500000.0,100000.0,10000000.0,50000000.0,5000000.0,1000000.0,1000000.0,1000000.0,5000000.0,10000000.0,5000000.0,10000000.0,5000000.0,10000000.0,5000000.0,1000000.0,10000000.0,10000000.0,10000000.0,10000000.0,10000000.0,10000000.0,10000000.0,5000000.0,100000000.0,1000000.0,5000000.0,50000000.0,1000000.0,1000000.0,1000000.0,1000000.0,5000000.0,1000000.0,10000000.0,10000000.0,10000000.0,1000000.0,10000000.0,10000000.0,10000000.0,10000000.0,100000000.0,1000000.0,10000000.0,1000000.0,500000000.0,10000000.0,100000000.0,10000000.0,1000000000.0,10000000.0,10000000.0,100000000.0,10000000.0,100000000.0,5000000.0,1000000.0,10000000.0,100000000.0,50000000.0,100000000.0,10000000.0,100000000.0,5000000.0,100000000.0,10000000.0,10000000.0,1000000.0,500000000.0,10000000.0,10000000.0,500000000.0,100000000.0,10000000.0,5000000.0,5000000.0,5000000.0,100000000.0,10000000.0,50000000.0,10000000.0,100000000.0,5000000.0,50000000.0,100000000.0,50000000.0,50000000.0,50000000.0,100000000.0,1000000.0,50000000.0,1000000.0,500000.0,1000000.0,1000000.0,10000000.0,1000000.0,10000000.0,1000000.0,10000000.0,1000000.0,1000000.0,10000000.0,5000000.0,10000000.0,1000000.0,10000000.0,100000000.0,1000000.0,50000000.0,100000.0,5000000.0,10000000.0,1000000.0,1000000.0,500000000.0,1000000000.0,100000000.0,100000000.0,100000000.0,100000000.0,10000000.0,100000000.0,100000000.0,100000000.0,500000000.0,100000000.0,100000000.0,5000000.0,1000000.0,5000000.0,1000000.0,10000000.0,1000000.0,5000000.0,10000000.0,1000000.0,10000000.0,100000000.0,10000000.0,100000000.0,500000.0,1000000.0,1000000.0,1000000.0,1000000.0,5000000.0,5000000.0,1000000.0,10000000.0,5000000.0,500000000.0,10000000.0,5000000.0,100000000.0,100000.0,500000000.0,1000000.0,1000000.0,1000000.0,5000000.0,500000000.0,10000.0,5000000.0,10000.0,1000000.0,10000.0,10000.0,100000.0,10000.0,5000.0,1000000.0,50000.0,50000.0,100000.0,1000000.0,100000.0,10000.0,1000000.0,1000000.0,10000.0,50000.0,10000.0,50000.0,1000000.0,500000.0,100000.0,100000.0,100000.0,100000.0,10000.0,100000.0,1000000.0,5000.0,500000.0,100000.0,10000.0,500000.0,10000.0,100000.0,1000000.0,100000.0,100000.0,10000.0,100000.0,1000000.0,1000000.0,100000.0,100000.0,1000000.0,100000.0,10000.0,1000000.0,50000000.0,1000000.0,50000000.0,10000.0,10000000.0,1000000.0,10000000.0,1000000.0,1000000.0,1000000.0,10000000.0,5000000.0,500000.0,10000000.0,1000000.0,5000000.0,5000000.0,1000000.0,10000000.0,5000000.0,1000000.0,5000000.0,1000000.0,50000000.0,1000000.0,100000.0,10000000.0,1000000.0,10000000.0,500000.0,1000000.0,10000000.0,1000000.0,500000.0,500000.0,5000000.0,100000.0,1000000.0,1000000000.0,1000000.0,10000000.0,1000000.0,1000000.0,100000000.0,10000000.0,100000000.0,100000.0,500000.0,100000000.0,10000000.0,50000000.0,1000000.0,1000000.0,10000000.0,1000000.0,5000000.0,1000000.0,10000000.0,10000000.0,50000000.0,1000000000.0,10000000.0,1000000.0,50000000.0,50000000.0,1000000.0,50000000.0,5000000.0,1000000.0,5000000.0,1000000.0,1000000.0,1000000.0,10000000.0,10000000.0,10000000.0,500000000.0,1000000.0,500.0,1000000.0,1000000.0,1000000.0,10000.0,100000.0,500000000.0,5000000.0,10000000.0,1000000.0,10000000.0,10000000.0,1000000.0,1000000.0,10000000.0,1000000.0,1000000.0,5000000.0,1000000.0,10000000.0,5000000.0,10000000.0,1000000.0,10000000.0,50000000.0,1000000.0,500000.0,1000000.0,10000000.0,10000000.0,100000.0,1000000000.0,10000000.0,10000000.0,500000000.0,10000000.0,500000.0,500000.0,1000000.0,1000000.0,1000000.0,1000000.0,5000000.0,5000000.0,50000.0,1000000.0,1000000.0,1000000.0,1000000.0,5000000.0,500000000.0,1000000.0,1000000.0,5000000.0,1000000.0,1000000.0,500000.0,1000000.0,10000.0,1000000.0,5000000.0,1000000.0,100000.0,1000000.0,100000.0,5000000.0,1000000.0,1000000.0,1000000.0,5000000.0,10000000.0,100000.0,1000000.0,1000000.0,1000000.0,1000000.0,10000000.0,100000.0,1000000.0,5000000.0,500000.0,1000000.0,1000000.0,10000000.0,10000000.0,10000000.0,10000000.0,1000000.0,1000000.0,1000000.0,1000000.0,10000000.0,5000000.0,1000000000.0,1000000.0,500000000.0,100000000.0,5000000.0,10000000.0,10000000.0,5000000.0,5000000.0,1000000.0,100000000.0,50000000.0,500000.0,10000000.0,1000000.0,1000000.0,1000000.0,10000000.0,1000000.0,100000.0,5000000.0,5000000.0,5000000.0,5000000.0,1000000.0,1000000.0,1000000.0,1000000.0,100000.0,100000.0,1000000.0,1000000.0,5000000.0,1000000.0,1000000.0,5000000.0,1000000.0,1000000.0,5000000.0,1000000.0,5000000.0,1000000.0,1000000.0,10000000.0,100000.0,5000000.0,1000000.0,1000000.0,10000000.0,50000.0,1000000.0,1000000.0,5000000.0,500000000.0,10000000.0,50000000.0,1000000.0,1000000.0,500000.0,10000000.0,50000000.0,5000000.0,500000000.0,100000000.0,1000000.0,10000.0,100000000.0,10000000.0,50000000.0,500000.0,10000.0,500000000.0,100000000.0,10000.0,500000.0,50000000.0,500000.0,5000000.0,100000000.0,1000000000.0,100000000.0,1000000.0,500000.0,10000000.0,50000000.0,50000000.0,50000.0,1000000000.0,10000000.0,100000000.0,500000000.0,100000000.0,1000000000.0,100000000.0,50000000.0,100000000.0,100000000.0,10000000.0,10000000.0,100000000.0,500000.0,500000.0,10000000.0,50000000.0,50000000.0,100000000.0,10000000.0,10000000.0,1000000.0,5000000.0,5000000.0,1000000000.0,5000000.0,100000000.0,500000.0,10000000.0,500000.0,500000000.0,5000000.0,10000000.0,500000.0,1000000.0,1000000.0,100000000.0,100000000.0,5000000.0,1000000000.0,1000000.0,100000000.0,100000000.0,1000000.0,1000000.0,10000000.0,50000.0,100000000.0,50000000.0,100000000.0,10000.0,10000.0,10000000.0,10000000.0,50000000.0,10000.0,500000.0,1000000.0,50000000.0,50000.0,50000.0,50000.0,100000000.0,50000000.0,100000000.0,10000000.0,1000.0,5000.0,50000000.0,100000.0,50000.0,1000.0,500.0,100000000.0,100000000.0,1000000.0,1000000.0,50000.0,100000.0,10000000.0,500000000.0,1000000.0,1000000000.0,50000.0,1000000.0,10000000.0,50000.0,1000.0,100000.0,500000000.0,10000.0,1000000.0,10000.0,100000.0,1000.0,5000.0,50000.0,5000.0,10000.0,100000.0,5000.0,100000000.0,10000.0,100000.0,100000.0,50000.0,1000.0,100000.0,5000.0,5000.0,50000.0,5000.0,10000.0,10000.0,5000.0,100000000.0,100000000.0,10000000.0,10000000.0,100000000.0,100000000.0,50000000.0,100000000.0,500000000.0,50000000.0,100000000.0,100000000.0,100000.0,50000000.0,500000000.0,50000000.0,10000000.0,100000000.0,100000000.0,1000000.0,100000000.0,100000000.0,100000000.0,500000.0,100000000.0,50000000.0,100000000.0,1000000.0,10000000.0,10000000.0,5000000.0,100000.0,1000000.0,100000000.0,10000000.0,10000000.0,5000000.0,100000000.0,10000000.0,100000000.0,1000000.0,10000000.0,500000.0,500000.0,10000000.0,100000000.0,100000.0,500000.0,100000000.0,100000000.0,5000000.0,100000000.0,100000000.0,10000000.0,10000000.0,500000.0,1000000.0,100000.0,5000000.0,500000.0,1000000000.0,100000000.0,10000000.0,100000000.0,100000000.0,1000000.0,500000000.0,100000000.0,50000000.0,500000.0,1000000.0,100000000.0,100000.0,5000.0,50000.0,500000000.0,100000.0,50000.0,50000.0,500000.0,1000.0,50000.0,500000000.0,500000.0,5000.0,50000000.0,100000.0,5000.0,500.0,500000.0,10000.0,50000.0,500000.0,10000000.0,5000.0,10000.0,1000000000.0,50000000.0,50000000.0,500000000.0,50000000.0,5000000.0,1000000000.0,100000000.0,100000.0,1000000000.0,1000000.0,100000.0,10000.0,50000000.0,5000000.0,100000.0,500000.0,100000.0,10000.0,50000.0,1000000000.0,50000.0,50000.0,50000.0,1000.0,10000.0,100000000.0,5000000.0,100000.0,10000000.0,10000000.0,100000.0,100000000.0,5000.0,1000000.0,1000.0,500000.0,10000.0,5000.0,1000000.0,5000.0,5000000.0,1000.0,10000.0,10000.0,10000000.0,50000.0,1000000.0,100.0,1000.0,10000.0,100000000.0,50000.0,50000.0,10000.0,1000000.0,100000000.0,10000000.0,500000.0,5000000.0,500000.0,50000000.0,1000000.0,1000000.0,100000000.0,1000000.0,100000000.0,500000.0,10000000.0,50000000.0,10000000.0,100000000.0,1000000.0,5000000.0,5000000.0,10000000.0,5000000.0,10000000.0,5000000.0,10000000.0,10000000.0,1000000.0,1000000.0,100000000.0,10000000.0,100000000.0,100000.0,10000.0,50000000.0,10000.0,10000000.0,50000000.0,1000.0,100000000.0,10000.0,100000.0,50000000.0,10000000.0,1000.0,50000.0,1000.0,10000000.0,1000.0,500.0,1000.0,10000.0,1000.0,100.0,1000.0,10000.0,10000.0,10000.0,500.0,100000000.0,50000.0,500000.0,100000.0,50000000.0,10000000.0,100000.0,10000000.0,1000.0,100000.0,100000.0,100000.0,100000.0,5000.0,1000000.0,500000.0,100000.0,1000.0,10000000.0,100000000.0,1000.0,1000.0,100000.0,10000.0,5000.0,100.0,5000.0,1000.0,10000.0,5000.0,1000000.0,100000.0,10000.0,10000.0,10000.0,10000.0,10000000.0,100000000.0,50000000.0,50000000.0,5000000.0,50000000.0,50000000.0,10000000.0,500000.0,100000000.0,1000000.0,50000.0,50000.0,100000.0,10000000.0,1000000.0,500000.0,1000000.0,100000000.0,10000000.0,100000.0,100000.0,50000.0,10000000.0,10000000.0,100000.0,50000000.0,10000000.0,1000000.0,10000.0,1000000.0,1000000.0,50000000.0,100000.0,50000000.0,10000.0,100000.0,10000.0,100000.0,5000.0,50000.0,5000.0,500000000.0,100000.0,1000000.0,10000000.0,100000.0,10000.0,10000.0,10000.0,100000.0,10000.0,10000.0,10000000.0,10000.0,1000000.0,5000000.0,1000000.0,1000000.0,500000.0,1000000.0,10000.0,10000000.0,10000.0,50000.0,1000000.0,100000.0,100000.0,10000.0,1000000.0,5000000.0,5000000.0,1000000.0,1000000.0,500000.0,50000.0,1000000.0,50000.0,100000.0,100000.0,10000.0,50000.0,10000.0,1000000.0,100000000.0,100000000.0,100000.0,1000000.0,10000000.0,50000.0,100000.0,50000.0,50000.0,1000000.0,500000.0,1000000.0,100000.0,100000.0,500000.0,10000000.0,100000.0,50000.0,10000000.0,10000000.0,100000000.0,1000.0,100000.0,1000000.0,5000.0,10000000.0,10000.0,50000.0,500.0,5000.0,10000.0,100000000.0,1000.0,100000.0,1000.0,10000.0,100000.0,10000.0,500.0,1000.0,10000.0,1000.0,10000.0,10000.0,100000.0,500000.0,1000000.0,500000.0,500000.0,10000.0,50000.0,1000000.0,1000000.0,10000000.0,1000000.0,10000000.0,500.0,500000.0,100000.0,1000.0,5000.0,10000.0,100000.0,10000.0,500000.0,10000.0,100000.0,100000.0,50000000.0,10000000.0,1000.0,1000.0,10000.0,10000.0,5000.0,5000.0,100000.0,100000000.0,100000.0,10000.0,1000.0,1000.0,1000.0,500000.0,100000.0,1000000.0,5000.0,1000.0,1000.0,10000.0,10000.0,5.0,10000.0,1000.0,10.0,100000.0,1000.0,50.0,1.0,10.0,5000.0,50.0,5000.0,1000.0,5000.0,100000.0,100.0,100000.0,500.0,10.0,500000000.0,1000000.0,100000000.0,1000000.0,1000000.0,100000.0,10000000.0,100000000.0,10000000.0,1000000.0,100000000.0,1000000.0,50000000.0,500000.0,50000.0,50000.0,1000000.0,100000000.0,100000000.0,10000000.0,50000000.0,10000000.0,10000000.0,100000000.0,50000000.0,1000000.0,1000000.0,10000.0,100000.0,1000000.0,1000000.0,10000000.0,5000000.0,100000000.0,10000000.0,500000.0,50000000.0,10000000.0,10000.0,10000000.0,1000000.0,5000000.0,10000000.0,1000.0,5000000.0,100000.0,1000000.0,5000.0,50000.0,1000000.0,1000000.0,1000000.0,500000.0,5000000.0,10000000.0,10000000.0,100000000.0,100000000.0,500000.0,10000.0,100000.0,10000.0,50000.0,50000.0,50000.0,100000.0,1000.0,500000.0,10000.0,100000.0,500000.0,5000.0,10000.0,10000.0,100000.0,10000.0,100000.0,50000.0,10000000.0,10000.0,500000.0,5000.0,10000.0,100000.0,100000.0,100000.0,100000.0,100000.0,500000.0,100000.0,5000.0,10000.0,10000000.0,1000000.0,50000000.0,100000.0,5000000.0,500000000.0,1000000.0,100000.0,500000.0,10000000.0,100000000.0,10000000.0,50000000.0,1000000.0,50000000.0,50000000.0,100000.0,100000000.0,500000.0,5000.0,100000.0,1000000.0,100000.0,100000.0,100000000.0,1000000.0,10000.0,10000.0,1000.0,100000.0,500000.0,5000.0,5000.0,10000.0,100000.0,100000.0,100000000.0,5000.0,5000.0,100000000.0,100000000.0,10000000.0,5000.0,100000000.0,50000000.0,50000.0,10000000.0,50000000.0,10000.0,10000000.0,5000.0,100000.0,10000000.0,10000.0,1000000.0,10000.0,1000000.0,5000.0,5000000.0,50000.0,10000000.0,10000000.0,5000000.0,10000.0,10000000.0,100000000.0,50000000.0,5000000.0,5000000.0,100000000.0,100000.0,5000000.0,100000.0,5000000.0,100000.0,50000.0,10000000.0,1000000.0,1000000.0,100000.0,1000000.0,5000000.0,10000000.0,500000.0,10000.0,1000000.0,100000.0,1000000.0,1000000.0,500000.0,50000.0,100000.0,500000.0,1000000.0,100000.0,1000000.0,1000000.0,1000000.0,100000.0,100000.0,500000.0,100000.0,100000.0,1000000.0,50000000.0,500000.0,10000000.0,10000000.0,100000000.0,50000000.0,10000000.0,100000000.0,10000000.0,10000000.0,1000000.0,5000000.0,5000000.0,5000000.0,5000000.0,100000000.0,100000000.0,10000000.0,1000000.0,100000000.0,10000000.0,10000000.0,10000000.0,5000000.0,50000000.0,1000000.0,1000000.0,50000000.0,10000000.0,1000000.0,100000000.0,5000000.0,100000.0,10000000.0,1000000.0,1000000.0,5000000.0,50000.0,10000.0,100000.0,100000.0,500000.0,1000000.0,10000.0,1000000.0,10000.0,5000000.0,10000.0,1000000.0,500000.0,100000.0,5000.0,1000000.0,10000.0,5000000.0,10000000.0,500000.0,10000000.0,1000.0,1000000.0,10000000.0,5000000.0,10000000.0,10000000.0,1000000.0,100000000.0,100000.0,100000.0,100000.0,100000000.0,10000000.0,5000.0,10000000.0,1000000.0,50000000.0,1000000.0,10000.0,100000.0,500000.0,10000.0,100000.0,1000.0,100000.0,500.0,50000.0,50000000.0,10000.0,1000000.0,1000.0,100000000.0,10000.0,1000000.0,1000.0,1000.0,1000000.0,1000000.0,10000.0,1000000.0,100000.0,500000.0,100000.0,1000000.0,500000.0,100000.0,5000.0,10000.0,1000000.0,50000.0,100000.0,10000.0,10000.0,10000.0,100000.0,5000.0,50000.0,5000.0,50000.0,1000000.0,100000.0,10000.0,100000.0,100000.0,50000.0,10000.0,10000.0,10000.0,1000000.0,100000.0,10000000.0,1000000.0,100000.0,100000.0,50000.0,1000.0,50000.0,100000.0,10000.0,1000000.0,500000.0,10000000.0,500000.0,1000000.0,1000000.0,500000.0,10000000.0,50000000.0,1000000.0,50000.0,1000000.0,50000.0,1000000.0,50000.0,1000000.0,10000.0,1000000.0,10000.0,100000.0,100000.0,1000.0,100000.0,1000000.0,5000000.0,500000.0,50000.0,50000.0,5000000.0,100000.0,100000.0,100000.0,100000.0,100000.0,5000000.0,10000000.0,1000000.0,1000000.0,5000000.0,50000.0,100000.0,5000.0,10000.0,100000.0,1000000.0,500000.0,50000.0,500000.0,1000000.0,100000.0,1000000.0,1000000.0,50000.0,50000.0,500000.0,100000.0,1000000.0,1000.0,10000.0,5000000.0,1000.0,1000.0,100000.0,100000.0,10000.0,10000.0,10000.0,10000.0,10.0,10000000.0,10000.0,10000.0,1000000.0,500000.0,100.0,50000.0,10000.0,1000.0,5000000.0,1000.0,10000.0,10000000.0,10000.0,10000.0,100.0,10000000.0,1000.0,100000.0,10000.0,10000.0,1000.0,5000000.0,10000000.0,5000.0,100.0,500.0,10000.0,5000.0,50.0,100000000.0,10000000.0,100.0,500000.0,100.0,10000000.0,5000000.0,1000.0,1000000.0,1000.0,1000000.0,100.0,5000000.0,1000.0,10000000.0,100.0,10000000.0,10000000.0,10000000.0,5000000.0,100000000.0,10000000.0,1000000.0,1000000.0,500000.0,1000000.0,10000.0,10000.0,1000.0,5000.0,500.0,10000.0,1000.0,10000.0,1000.0,1000.0,100000.0,100.0,5000.0,1000.0,100.0,10.0,100.0,1000.0,10000.0,1000.0,100.0,1000.0,100.0,50.0,100.0,1000.0,10.0,50.0,50.0,50.0,100.0,500.0,10000.0,100.0,100.0,100.0,10000.0,100.0,1000.0,5.0,500.0,10.0,50000.0,100.0,100000.0,100.0,100.0,1000.0,50.0,100.0,50.0,10000.0,50000.0,100.0,50.0,100.0,100.0,10000.0,100.0,100000.0,100.0,5000.0,100.0,50.0,100.0,100.0,100.0,100.0,500.0,50.0,100000.0,50.0,1.0,50.0,100.0,100.0,100.0,100.0,10.0,100000.0,100.0,100.0,50.0,1.0,50.0,100.0,10.0,50000.0,50.0,100.0,1000000.0,100000.0,50000.0,1000000.0,1000.0,50000.0,1000000.0,10000.0,100000.0,10000.0,50000.0,50000.0,1000000.0,10000.0,1000000.0,10000.0,5000.0,100.0,1000.0,1000.0,100.0,1000.0,100000.0,100000.0,500.0,1000000.0,1000.0,100000.0,5000.0,10000.0,5000000.0,10000000.0,100.0,100000.0,100.0,100.0,5000.0,500.0,1000.0,10000.0,10000.0,5000000.0,50000.0,100000.0,10000.0,1000000.0,1000.0,100.0,10.0,100.0,1000000.0,10.0,500.0,10000.0,500.0,500.0,10.0,1000.0,1000.0,100.0,100.0,10.0,10.0,10000.0,100.0,100.0,100.0,50.0,5000.0,100.0,5.0,1000.0,50.0,100000.0,5.0,5.0,10.0,500000.0,10.0,100.0,500.0,100000.0,100000.0,100.0,500000.0,50000.0,1000.0,10000.0,1000.0,5000.0,100.0,10000.0,10000000.0,50000.0,10000.0,500.0,1000000.0,500.0,500.0,100.0,1000.0,100.0,10000000.0,10000000.0,10000.0,10.0,5000.0,10.0,500.0,1000.0,1000.0,10.0,100.0,5000.0,10000.0,5000000.0,100.0,5000000.0,1000.0,50000.0,10000000.0,50000.0,50000.0,1000.0,10000.0,10000.0,10000.0,10000000.0,50000.0,500000.0,10000000.0,10000000.0,10000000.0,1000000.0,100000.0,1000000.0,50000.0,1000000.0,100000.0,1000000.0,5000000.0,100000.0,5000000.0,500000.0,10000.0,50000.0,500000.0,1000000.0,1000000.0,1000000.0,100000.0,50000.0,10000000.0,50000.0,50000.0,100000.0,10000000.0,100000.0,10000.0,10000000.0,1000000.0,1000.0,10000.0,10000.0,100000.0,100000.0,100000.0,100000.0,500000.0,10000.0,1000000.0,1000000.0,10000000.0,100000.0,10000000.0,10000000.0,10000000.0,5000000.0,10000000.0,10000000.0,10000000.0,1000000.0,5000000.0,10000000.0,5000000.0,5000000.0,1000000000.0,10000000.0,5000000.0,1000000.0,10000000.0,1000000.0,100000.0,1000000.0,5000.0,1000.0,1000000.0,10000.0,100.0,10000000.0,100000.0,1000000.0,1000000.0,10000000.0,10000000.0,100000000.0,10000000.0,10000000.0,5000000.0,1000000.0,5000000.0,5000000.0,10000000.0,5000000.0,100000.0,10000000.0,1000000.0,10000000.0,10000000.0,100000.0,10000000.0,10000000.0,5000000.0,1000000.0,1000000.0,10000000.0,50000000.0,10000.0,100000.0,100000.0,10000000.0,5000000.0,10000000.0,10000.0,10000000.0,1000000.0,1000000.0,5000.0,1000.0,100000.0,10000.0,10000.0,10000.0,10000.0,5000.0,100.0,5000.0,1000.0,5000.0,1000.0,10000.0,500000.0,100000.0,100000.0,10000.0,10000.0,5000.0,10000.0,10000.0,10000.0,1000000.0,5000.0,1000.0,50000.0,1000000.0,1000.0,5000.0,5000.0,1000.0,1000.0,1000000.0,100000.0,50000.0,500000.0,100000.0,10.0,100.0,10.0,500.0,500.0,10000.0,1000.0,10000000.0,50.0,1000.0,10.0,10.0,5.0,10.0,50000000.0,5000.0,10000.0,1000000.0,10000000.0,10000000.0,50000000.0,10000000.0,5000000.0,1000000.0,10000000.0,5000000.0,10000000.0,1000000.0,5000000.0,5000000.0,10000.0,100000.0,1000000.0,5000000.0,1000000.0,50000.0,10000000.0,1000000.0,5000000.0,100000.0,1000.0,10000000.0,100000.0,50000.0,5000000.0,10000000.0,1000000.0,100000.0,100000.0,50000000.0,10000.0,100000.0,10000.0,10000.0,10000.0,1000000.0,5000.0,10000.0,5000.0,10000.0,1000000.0,1000000.0,5000.0,10000.0,50000.0,1000.0,100000.0,1000.0,5000.0,1000000.0,10000.0,50000.0,10000.0,1000000.0,5000000.0,50.0,100000.0,100000.0,100000.0,10000.0,10000000.0,10000000.0,100000.0,50000.0,500000.0,1000.0,5000000.0,10000000.0,10000000.0,5000000.0,5000000.0,10000000.0,10000000.0,10000000.0,500000000.0,5000000.0,10000000.0,5000000.0,5000000.0,100000000.0,5000000.0,5000000.0,1000000.0,50000000.0,50000000.0,5000000.0,1000000.0,10000000.0,10000000.0,10000000.0,50000000.0,5000000.0,500000.0,1000000.0,1000000.0,10000000.0,10000000.0,1000000.0,5000000.0,5000000.0,5000000.0,5000000.0,1000000.0,5000000.0,1000000.0,100000.0,5000000.0,1000000.0,1000000.0,1000000.0,100000.0,10000000.0,100000.0,1000000.0,500000.0,100000.0,5000000.0,100000.0,100000.0,500000.0,10000.0,100000.0,50000.0,1000000.0,100000000.0,1000000.0,1000000.0,10000.0,1000.0,1000000.0,100000.0,50000.0,100000.0,10000.0,1000.0,100000.0,1000000.0,100000.0,100000.0,1000.0,10000.0,100.0,100000.0,10000.0,1000.0,50000.0,10000.0,1000.0,100.0,1000.0,1000000.0,500000.0,1000.0,10000.0,5000.0,5000.0,100000.0,1000.0,10000.0,10000.0,100.0,1000000.0,1000.0,1000000.0,10000.0,50000.0,10000.0,100000000.0,100000.0,100000.0,10000.0,5000.0,1000.0,10000000.0,1000.0,10000000.0,10000.0,100000.0,5000.0,100000.0,1000000.0,50000.0,1000.0,1000.0,10000000.0,50000.0,50000.0,10000.0,1000.0,50000000.0,10000000.0,50000.0,10000.0,10000.0,5000.0,1000.0,10000.0,1000000.0,10000000.0,5000.0,50.0,10000000.0,1000000.0,100.0,100000.0,100000.0,1000.0,1000000.0,5000.0,100000.0,100000.0,500.0,100000.0,50000.0,500.0,1000000.0,1000.0,100000.0,50000.0,10.0,100000.0,5.0,100.0,500.0,100.0,5000.0,50000.0,1000000.0,5000000.0,1000.0,1000.0,100000.0,5000.0,10000000.0,10000000.0,100000.0,1000000.0,10.0,100000.0,100000.0,1000.0,100.0,1000000.0,100000.0,10000.0,100000.0,500000.0,10000.0,1000000.0,10000.0,10000.0,100000.0,100.0,5000.0,100000.0,50000.0,100.0,1000.0,1000.0,50.0,500.0,5000.0,10.0,5000.0,5.0,10000.0,1000000.0,10.0,50000.0,50000.0,50.0,10000.0,100.0,100.0,1000.0,100000.0,10000.0,1000.0,1000.0,50.0,500000.0,500.0,1000.0,1000.0,100.0,500000.0,50.0,100.0,5000.0,5000.0,100.0,5000.0,100.0,500.0,1000.0,10.0,500000.0,1.0,1000.0,100.0,10000.0,100.0,10000.0,10.0,10000.0,10.0,10000.0,100000.0,10000.0,10.0,1000.0,1000.0,10.0,5.0,1000000000.0,1.0,10000.0,1000000.0,10000000.0,5000000.0,10000000.0,10000000.0,10000000.0,10000000.0,10000000.0,5000000.0,5000000.0,10000000.0,100000.0,10000.0,1000000.0,1000000.0,100000.0,500000.0,5000.0,10000.0,10000.0,10000.0,10000.0,1000.0,500.0,500.0,100000.0,10000.0,1000.0,10000.0,500.0,10000.0,50000.0,1000.0,10000.0,10000.0,1000.0,100.0,1000.0,10000.0,10000.0,1000000.0,100000.0,1000.0,5000.0,10000.0,100000.0,5000.0,10000.0,10000.0,50000.0,1000000.0,5000.0,5000.0,500000.0,100.0,10000.0,10000.0,1.0,10000.0,100.0,1000.0,10000.0,100000.0,10000.0,10000.0,10000.0,50000.0,1000.0,100000.0,10000.0,50000.0,50000.0,50000.0,10000.0,100.0,1000.0,500.0,5000.0,1000000.0,100000.0,10000000.0,100000.0,100000000.0,10.0,5000000.0,100000.0,10000000.0,500000.0,1000.0,1000.0,5000.0,5000000.0,50000.0,100.0,500.0,100.0,500.0,1000000.0,1000.0,5000.0,10000.0,50.0,10000.0,500.0,1000.0,1000.0,1000.0,100.0,1000.0,500.0,100.0,1000.0,100.0,50.0,500.0,500.0,100.0,1000.0,100.0,5000000.0,1000000.0,10000.0,5000.0,1000000.0,500000.0,500000.0,10000.0,10000.0,5000.0,500000.0,50000.0,10.0,1000.0,5000.0,10000.0,100000.0,1000.0,10000.0,1000.0,1000.0,10000.0,500.0,500.0,100.0,1000.0,100000.0,50000.0,5000.0,50000.0,10000.0,500.0,10000.0,500000.0,100000.0,5000.0,100.0,100000.0,100000.0,5000.0,500000.0,10000.0,1000000.0,100000.0,500.0,5000.0,100.0,10.0,500.0,100.0,100000.0,100000.0,10000000.0,500000.0,100000.0,100000000.0,100.0,50000.0,100000.0,10000000.0,100000.0,1000.0,10000.0,5000000.0,100000.0,1000000.0,1000.0,50000000.0,50000000.0,100000.0,50000000.0,5000000.0,5000.0,5000.0,100000.0,10000000.0,10000.0,50000000.0,100000.0,10000000.0,10000000.0,1000000.0,5000000.0,1000000.0,10000000.0,100.0,10000000.0,10000000.0,10000.0,10000.0,10000.0,50000.0,1000000.0,50000.0,100000.0,5000000.0,10000000.0,10000.0,1000.0,100000.0,50000.0,5000000.0,100000.0,1000000.0,500000.0,1000.0,1000.0,1000.0,1000.0,100000.0,5000.0,1000000.0,1000.0,10000.0,50.0,10.0,50.0,50000.0,100.0,100000.0,1000000.0,100000.0,1000.0,10000.0,1000.0,500.0,1000.0,10000.0,100000.0,1000.0,100.0,1000.0,10000.0,5.0,1000.0,10000.0,10000000.0,1000.0,1000.0,500.0,1000.0,100.0,5000.0,100.0,1000.0,10.0,100.0,100.0,10.0,100.0,1000.0,10.0,1000.0,1000.0,100000.0,50000.0,100.0,500.0,500.0,1000.0,1000000.0,1000000.0,500.0,1000.0,500.0,100.0,1000.0,100.0,10.0,1000.0,100.0,1000000.0,5000000.0,1000.0,10.0,10000000.0,100000.0,100.0,5000000.0,1000.0,10000.0,10.0,500000.0,50.0,1000000.0,1000000.0,5000000.0,100000.0,10000.0,10.0,100000.0,100000000.0,100000.0,10000000.0,50000.0,50.0,100000.0,1000000.0,500000.0,10000000.0,1000000.0,5000000.0,10000.0,100000.0,500.0,100000.0,1000000.0,10000.0,1000.0,1000.0,10000.0,10.0,500.0,1000.0,100000.0,10.0,10.0,1000.0,10.0,100.0,500.0,1000.0,100000.0,100.0,10.0,1.0,10.0,1000.0,1000.0,10.0,5000.0,10000.0,5000.0,1000.0,50000.0,50000.0,100.0,1000000.0,1000.0,10000.0,500.0,5000.0,1.0,10.0,50.0,100.0,500.0,100000.0,500000.0,100000.0,10000.0,1000.0,5000.0,10000.0,100000000.0,1000.0,10000.0,100.0,10000.0,10000.0,100.0,10000.0,1000.0,1000.0,10000.0,10000000.0,5000.0,5000.0,1000000.0,1000000.0,10000000.0,50.0,10000000.0,10000000.0,10000000.0,10.0,50000000.0,10000000.0,10000000.0,10000000.0,50000000.0,5000000.0,5000000.0,10000000.0,1000000.0,10000000.0,10000000.0,5000000.0,5000000.0,100000.0,500000.0,10000.0,10000.0,50000.0,10000.0,100.0,500.0,1000.0,5000.0,50000.0,100.0,1000.0,100.0,10000.0,500000.0,10000.0,5000000.0,100.0,50000.0,10000000.0,10.0,500.0,100.0,1000000.0,500.0,100.0,100000.0,500.0,10.0,5.0,10000000.0,10.0,10000000.0,10.0,1000000.0,1000000.0,5.0,100000.0,10000.0,100000.0,100000.0,100000.0,500000.0,100000.0,100000.0,5000000.0,5000000.0,1000.0,100000.0,5000.0,5000.0,5000.0,50.0,100.0,50.0,100.0,100000.0,1000.0,10000.0,500.0,100.0,100000000.0,100000.0,1000.0,1000.0,10.0,10000.0,1000.0,10000.0,1000.0,1000.0,10000.0,5000.0,10000.0,50000.0,10000.0,10000.0,10000.0,100.0,5000.0,100.0,100.0,10000.0,1000.0,10000.0,50.0,5.0,500000.0,10000.0,10000.0,100000.0,10000.0,10000.0,100000.0,1000000.0,1000000.0,5000.0,10000.0,100000.0,100000.0,100000.0,50000.0,10000.0,100000.0,100000.0,1000.0,10000.0,1000.0,100.0,10000.0,500000.0,50000.0,5000.0,10.0,10000.0,100.0,1000.0,100.0,100.0,5.0,10000.0,1000.0,1000.0,100.0,50.0,10.0,10.0,10000.0,100000.0,100000000.0,1000000.0,50000.0,1000000.0,50000.0,100000.0,100.0,100.0,10000.0,100.0,10000.0,10000.0,50000.0,100.0,100000.0,1000.0,1000.0,100.0,1000.0,10.0,10000.0,100000.0,5.0,500.0,100.0,100000.0,1000.0,500.0,1.0,500.0,10.0,500.0,10.0,100.0,1000000.0,1000000.0,1000.0,50.0,10000.0,100.0,100.0,10.0,10.0,500.0,10000000.0,500000.0,5000.0,100000.0,500000.0,100.0,100000.0,100000.0,10000.0,100.0,10000.0,500000.0,5000.0,10000.0,1000.0,100.0,10000.0,10000.0,5000.0,1000.0,100.0,10.0,5000.0,50000.0,10000.0,5000.0,5000.0,10000.0,1000.0,5000.0,1000.0,1000.0,50.0,5000.0,50000.0,1000.0,10000.0,1000.0,10000.0,10000.0,10000.0,5000.0,1000.0,1000.0,50.0,10.0,100000000.0,1000000.0,10000.0,50000000.0,50000000.0,100000000.0,10000.0,500.0,100000.0,5000000.0,10000000.0,10000.0,1000000.0,1000000.0,1000000.0,1000.0,10000000.0,5000000.0,10000000.0,10000.0,5000000.0,5000.0,10000000.0,50000000.0,50000000.0,1000000.0,10000.0,10000.0,10000.0,1000000.0,500000.0,1000.0,1000.0,100000.0,10000000.0,10000.0,10000.0,10000.0,1000.0,500.0,1000.0,100.0,50.0,100.0,1000.0,500000.0,5000.0,1000.0,1000.0,1000.0,10.0,1000.0,100000.0,50000.0,1000.0,1000.0,1000.0,10000.0,50.0,100.0,500000.0,10000.0,1000000.0,1000000.0,5000.0,1000000.0,100.0,5000.0,1000.0,100.0,1000000.0,1000.0,1000.0,5000.0,50.0,1000.0,1000.0,50.0,5000000.0,100.0,100.0,50.0,10000.0,5000.0,50000.0,5000.0,100000.0,50.0,10000000.0,1000.0,500000.0,5000.0,1000000.0,100.0,10000.0,10000000.0,1000000.0,50000.0,50.0,100.0,5000000.0,100.0,50.0,100.0,5.0,10.0,1000.0,5000000.0,100000.0,1000000.0,100000.0,50000.0,10000000.0,5000.0,5000.0,100.0,10000.0,1000.0,500.0,100000.0,100.0,10000.0,100000.0,5000.0,10000.0,50.0,10.0,100000.0,100.0,1000.0,5.0,100.0,50000.0,50.0,5000.0,10000.0,1000.0,10000000.0,100000.0,10000.0,10.0,500.0,100000.0,5000000.0,1000000.0,1000000.0,10000.0,10000000.0,10000.0,10000000.0,100000.0,1000000.0,1000.0,1000000.0,500000.0,50.0,50.0,1000.0,50000.0,5000.0,100.0,100.0,100.0,10000.0,1000.0,100.0,100.0,5000.0,1000.0,50000.0,500.0,100.0,50.0,100000.0,50.0,10000.0,50000.0,10000.0,10.0,1000.0,100000.0,100000.0,10.0,1000000.0,100000.0,10000.0,10000.0,1000000.0,1000.0,5000000.0,100000.0,1000000.0,500000.0,5000.0,10000.0,10000.0,10000.0,5000.0,500000.0,50000.0,10000.0,10000000.0,1000000.0,1000.0,100000.0,500.0,500.0,5000000.0,500.0,500.0,1000000.0,1000.0,1000000.0,500000.0,1000.0,10000.0,10000.0,100000.0,500.0,10000.0,100.0,5000.0,1000000.0,50000.0,100.0,10.0,500.0,100.0,1000.0,1000.0,50000.0,100.0,5000.0,1000000.0,1000.0,10000.0,10000.0,1000.0,10.0,100.0,10.0,100.0,1000.0,10.0,10000.0,1000.0,1000000.0,500.0,10.0,1000.0,50.0,100.0,1000.0,10.0,50.0,100.0,1000.0,100.0,1000.0,100.0,50.0,500.0,1000.0,10.0,100.0,10.0,50000000.0,1000.0,10000.0,1000.0,100000000.0,100.0,100.0,100.0,100.0,500.0,500.0,1000000.0,500.0,1000.0,100.0,100000.0,100.0,100.0,500.0,100.0,50.0,100.0,100.0,100.0,10.0,10.0,100.0,10.0,10.0,500000.0,100.0,500.0,100000.0,10.0,50.0,50.0,10000000.0,5000000.0,100000.0,10000.0,5000000.0,50000.0,1.0,1000.0,5.0,1000000.0,1000000.0,50.0,100000.0,5000.0,10000.0,50000.0,100000.0,10000.0,1000.0,5000.0,500.0,100000.0,10000.0,100000.0,1000.0,5000.0,5000.0,100.0,100.0,1000000.0,500.0,100.0,10.0,100.0,50.0,10.0,10000.0,1000.0,10000.0,1000.0,50000.0,500.0,5000.0,10000.0,10.0,100.0,1000.0,1000000.0,100.0,10.0,50000.0,10.0,50.0,5000.0,1000000.0,10000.0,100.0,5000.0,10000.0,100.0,100.0,100.0,50.0,100.0,1000.0,1000.0,5000.0,5000.0,100.0,1000.0,1000.0,1.0,10000.0,500.0,1000.0,100000.0,100.0,5000000.0,1000000.0,500.0,10000000.0,5000000.0,1000000.0,10000.0,1000000.0,10000000.0,10000000.0,5000.0,1000000.0,10000.0,500000.0,500000.0,500000.0,1000000.0,500000.0,50000.0,5000000.0,1000000.0,500000.0,500000.0,10000000.0,1000000.0,100000.0,100000.0,1000000.0,1000000.0,10000000.0,1000000.0,1000000.0,100000.0,50000000.0,5000000.0,1000000.0,100000.0,500000.0,100000.0,100000.0,500000.0,1000000.0,1000000.0,100000.0,100000.0,500000.0,500000.0,5000000.0,50000.0,500000.0,100000.0,5000000.0,100000.0,1000000.0,100000.0,100000.0,1000000.0,500000.0,100000.0,100000.0,1000000.0,1000000.0,1000000.0,10000.0,100000.0,100.0,100.0,1000.0,10000.0,1000.0,1000.0,10.0,50000.0,50.0,10.0,1000.0,10.0,100000.0,500.0,10000.0,1000.0,5000.0,1000000.0,500.0,1000.0,100.0,1000.0,1000.0,5000.0,50000.0,500.0,1000.0,10000.0,100.0,500000.0,100.0,1000.0,1000.0,5000.0,1000.0,50.0,500.0,10000.0,10000.0,10000000.0,1000.0,100000.0,5000000.0,5000.0,10000.0,1000.0,10.0,100000.0,1000000.0,100.0,500.0,1000.0,10000.0,10000.0,10.0,5000.0,1000.0,1000000.0,100000.0,5000.0,10000.0,100.0,1000000.0,10000.0,100000.0,100000.0,50000000.0,1000000.0,1000.0,1000.0,100000.0,10000.0,50000.0,500.0,100000.0,10.0,100.0,500.0,1000000.0,50.0,1000.0,10.0,50.0,100000.0,1000.0,1000.0,100.0,500.0,10.0,100.0,100.0,1000.0,100.0,1000.0,10.0,50.0,10000.0,100.0,10.0,10.0,100.0,50.0,5000.0,500.0,50000.0,5.0,5000000.0,10000.0,1000000.0,500000.0,10.0,500.0,50000.0,100.0,100.0,100.0,1000.0,5.0,500.0,10000.0,10.0,500.0,100.0,500.0,10.0,100.0,500.0,500.0,100.0,500.0,5000.0,10000.0,5.0,1000.0,100000.0,100.0,1000.0,500.0,5.0,5.0,50.0,1000.0,5000.0,50.0,50.0,5.0,10000.0,10000.0,10000.0,100.0,1000.0,100.0,5000.0,10000.0,1000.0,500.0,1000.0,50000.0,50000.0,1000.0,1000.0,100000.0,1000.0,500.0,100.0,100.0,100.0,5000.0,50000000.0,500.0,100.0,100.0,10000000.0,50.0,50.0,50.0,1000.0,10000000.0,10.0,1.0,100.0,5.0,5000000.0,100000.0,10000.0,100.0,5000000.0,100000.0,1000.0,100.0,100.0,100.0,100.0,500.0,100.0,500.0,100.0,100.0,1000.0,100.0,100.0,10.0,100.0,1000.0,10000.0,1000.0,100.0,100.0,100.0,50.0,100.0,10000000.0,100.0,100.0,100.0,50.0,100.0,100.0,10.0,100.0,100.0,500.0,100.0,100.0,500.0,50000.0,10000.0,5000000.0,10000.0,5000.0,1000.0,1000.0,10000.0,5000.0,100000.0,100.0,10000.0,1000.0,100.0,10000.0,100.0,1000.0,500.0,500.0,1000.0,1000.0,5000.0,5000.0,50000.0,100.0,100.0,500.0,100.0,100.0,10000.0,10.0,500.0,1000.0,1000.0,10000.0,10000.0,100.0,50.0,500.0,1000.0,10.0,50.0,1000.0,100000.0,1000.0,5000.0,1000.0,10000000.0,1000000.0,100000.0,5000.0,1000.0,1000000.0,500.0,10000.0,10000.0,5000.0,1000000.0,100.0,500000.0,100000.0,500000.0,100000.0,5000000.0,1000.0,50000.0,1000.0,1000.0,10000.0,500000.0,100000.0,100.0,500000.0,100.0,1.0,500.0,100.0,5000.0,5000.0,10.0,100.0,100000.0,10.0,100000.0,500.0,100.0,1000.0,50.0,100.0,100.0,50.0,1000.0,1000.0,1000.0,10.0,5000.0,10000.0,100000.0,50.0,5000000.0,10.0,500.0,10.0,1000.0,50000000.0,1000.0,5000.0,10000.0,5000000.0,100.0,1000.0,100.0,10000.0,10000.0,1000000.0,1000000.0,5000.0,100.0,1000.0,500.0,500000.0,100.0,100.0,100000.0,100000.0,500000.0,100.0,100000.0,10000000.0,50000.0,1000.0,10.0,100.0,0.0,500.0,50000.0,50000.0,1000000.0,500.0,10.0,10000000.0,100.0,1000000.0,10.0,10.0,10000000.0,10.0,50.0,100000.0,10000.0,5000000.0,1000000.0,1000000.0,500000.0,10000000.0,10000.0,50000.0,100000.0,10000000.0,500.0,10000.0,50000.0,10000.0,100.0,5000000.0,5000.0,1000.0,5000.0,500.0,50.0,5000.0,1000000.0,10.0,100.0,1000.0,100000.0,5000.0,1000.0,10.0,100.0,50000.0,10.0,10.0,5000000.0,1000.0,10000.0,10000000.0,1000000.0,10000.0,10.0,5.0,10000.0,100000.0,100000.0,100000.0,1000.0,10000.0,50000000.0,100.0,10.0,10.0,1000.0,5000.0,500000.0,100000.0,500000.0,1000.0,1000.0,10000.0,5000.0,50000000.0,10000.0,100.0,1000.0,10000000.0,5000000.0,1.0,1.0,100.0,500.0,10000000.0,5.0,5000.0,10.0,10.0,10000.0,10.0,100.0,100.0,50.0,100.0,500000000.0,100000000.0,100000000.0,50000000.0,1000000.0,10000000.0,5000000.0,5000000.0,100000.0,100000.0,500000.0,5000000.0,100000.0,100000000.0,100000.0,1000000.0,50000000.0,1000000.0,100000.0,100000.0,100000.0,10000.0,100000.0,50000.0,100000.0,100000.0,500000.0,500.0,10000.0,500000.0,10000.0,10000.0,1000000.0,10000.0,10000000.0,10000.0,100000.0,100000.0,500000.0,1000000.0,5000.0,10.0,10000000.0,100000.0,10000.0,1000000.0,10000000.0,100000.0,500000.0,1000000.0,10000000.0,5000000.0,1000000.0,5000000.0,1000000.0,10000000.0,5000000.0,500000.0,1000000.0,1000000.0,5000000.0,10000000.0,1000000.0,1000000.0,1000000.0,1000000.0,1000000.0,500000.0,100000.0,5000000.0,5000000.0,1000000.0,1000000.0,1000.0,100.0,1000000.0,10000.0,10000.0,1000000.0,10000.0,100000.0,1000.0,10000.0,5000.0,1000.0,5000.0,1000.0,10000.0,1000000.0,10000.0,1000.0,100000.0,10000.0,10000.0,1000.0,50000.0,50000.0,1000.0,500000.0,1000.0,500.0,10000.0,1000000.0,5000.0,1000.0,10000.0,500.0,5000000.0,10000.0,1000000.0,100.0,1000.0,1000.0,1000.0,1000000.0,100000.0,50000.0,10000.0,100000.0,500.0,10000.0,500000.0,10000.0,1000.0,1000.0,1000.0,100000.0,10.0,1000.0,5000.0,5000.0,1000000.0,10000.0,50000.0,10000.0,100000.0,1000000.0,500.0,500.0,1000000.0,10.0,1000.0,100.0,100.0,100.0,1000.0,100000.0,10000.0,100.0,100.0,1000000.0,500.0,100.0,500.0,1000000.0,500.0,100.0,10000.0,5.0,5000.0,100.0,5000000.0,10000.0,1000.0,1000000.0,1000.0,100.0,100000.0,1000.0,100000.0,500.0,500.0,10.0,10.0,500.0,5000.0,5.0,5.0,100000.0,100000.0,10.0,10000.0,1.0,100000.0,500000.0,10000.0,1000.0,10000.0,10000000.0,10000.0,100.0,10.0,100000.0,50000.0,5000000.0,5000000.0,100000.0,50.0,1000.0,100.0,50.0,100000.0,100.0,100000.0,1000.0,10000.0,1000000.0,5000000.0,10000000.0,500000.0,100000.0,100000.0,500.0,100000.0,10000.0,1000000.0,500000.0,100.0,1000000.0,5000.0,10000.0,1000000.0,500000.0,50000.0,10000.0,500000.0,5000.0,10000.0,100.0,1000.0,1000.0,5.0,5000.0,10000.0,100000.0,50000.0,5000.0,5000000.0,100.0,100.0,500.0,50000.0,5000.0,1000.0,50.0,100.0,1000000.0,100000000.0,1000000.0,1000000.0,10000000.0,5000000.0,1000.0,100000.0,10000.0,100000.0,100000.0,50000.0,10000.0,50000.0,5000.0,100000.0,500000.0,10000.0,100.0,1000.0,100000.0,10000.0,10000.0,1000000.0,500000.0,1000.0,1000000.0,100.0,10000.0,5000.0,10000.0,50000.0,1000.0,50.0,50000.0,10000.0,500000.0,5000.0,100000.0,10000.0,50000.0,10000.0,5000.0,50000.0,100.0,50000.0,50000.0,1000.0,5000.0,10000.0,1000.0,1000.0,1000.0,1000.0,500.0,1000.0,5000.0,10000.0,10000.0,100000.0,5000.0,1000.0,100.0,100.0,5000.0,50000.0,10000.0,100.0,1000.0,10000.0,1000.0,1000.0,10000.0,100.0,1000000.0,50.0,100000.0,10000.0,100.0,5000.0,1000.0,50.0,10000.0,50.0,100000.0,10000.0,10000.0,1000.0,100000.0,50000.0,10000.0,10000.0,10000.0,10000.0,10000.0,10000.0,10000.0,10000.0,50000.0,50000.0,50000.0,10000.0,10000.0,10000.0,50000.0,100000.0,50000.0,10000.0,1000.0,50000.0,10000.0,5000.0,100.0,5000000.0,1000000.0,5000000.0,10000000.0,10000000.0,100000000.0,10000000.0,500000.0,1000000.0,10000.0,100000.0,1000000.0,1000000.0,100000.0,10000.0,500000.0,5000.0,100000.0,100000.0,10000.0,10000.0,50000.0,100000.0,100000.0,100000.0,1000.0,1000000.0,50000.0,1000000.0,100000.0,5000.0,1000000.0,10000.0,10000.0,100000.0,5000.0,10000.0,5000.0,100000.0,10000.0,10000.0,10000.0,10000.0,50000.0,1000.0,100000.0,10000.0,5000.0,50000.0,10000.0,100000.0,5000.0,5000.0,5000000.0,500000.0,5000.0,50000.0,10000.0,100000.0,10.0,5000000.0,100000.0,50000.0,100.0,1000000.0,500.0,100.0,10.0,100.0,50.0,1000000.0,500.0,1000000.0,100.0,500000.0,100000.0,1000.0,100000.0,1000.0,500000.0,50000.0,50000.0,10000000.0,5000.0,500000.0,1000.0,1000000.0,5000000.0,5000000.0,5000.0,100000.0,1000.0,10000.0,10000.0,1000000.0,10000.0,10000.0,10000.0,1000.0,50000.0,500.0,1000.0,1000.0,1000.0,100000.0,500.0,5000.0,500.0,10000.0,10.0,5000.0,100.0,100.0,10000.0,500.0,50.0,500.0,10.0,100.0,50.0,50.0,100.0,500.0,1000.0,50.0,500000.0,100000.0,50.0,1000.0,5.0,50.0,0.0,100000000.0,1000000.0,50000.0,100.0,5000.0,5000000.0,500.0,1000.0,100.0,10000.0,100.0,1000.0,1000.0,100.0,100.0,50000.0,1000.0,5000.0,100.0,100.0,100.0,100.0,10.0,10.0,1000000.0,500.0,5.0,100.0,1000000.0,100.0,10.0,10.0,10000000.0,1000000.0,5000.0,1000000.0,5.0,100000.0,500000.0,10000.0,10000.0,10000.0,1000000.0,10000000.0,100000.0,10000.0,10000.0,1000.0,1000000.0,10000.0,10000.0,500000.0,100000.0,100000.0,1000000.0,50000.0,50000.0,50000.0,5.0,10.0,1000.0,10000.0,100000.0,10.0,1000.0,100000.0,100.0,100000.0,10.0,500.0,5000.0,500.0,100.0,10000.0,500000.0,1000000.0,1000.0,10000.0,10000000.0,5000000.0,10000000.0,50000000.0,5000000.0,1000000.0,5000000.0,10000000.0,1000000.0,10000000.0,1000000.0,5000000.0,10000000.0,10000000.0,10000000.0,50000.0,10000000.0,5000000.0,10000000.0,10000000.0,10000000.0,10000000.0,5000000.0,10000000.0,10000000.0,50000.0,50000.0,10000000.0,5000000.0,5000.0,500000.0,5000.0,1000.0,10000.0,10000.0,10000.0,100.0,500000.0,1000.0,10000.0,500.0,500.0,1000.0,10000.0,10000.0,1000.0,1000.0,10000.0,10000.0,10000.0,5000.0,5000.0,100.0,10000.0,10.0,10000.0,100.0,100000.0,5000.0,1000.0,1000.0,1000.0,100.0,1000.0,10000.0,10000000.0,1000000.0,5000000.0,10000000.0,500000.0,5000000.0,10000.0,10000000.0,1000000.0,10000.0,1000.0,5000000.0,1000.0,1000000.0,5000.0,50000000.0,100.0,10000000.0,500.0,5000.0,50000.0,1000.0,5000000.0,1000.0,10000.0,50000.0,10000000.0,50000000.0,500000.0,100.0,5000.0,100000.0,50.0,5000.0,500.0,500.0,1000.0,10000.0,5000.0,5000.0,10000000.0,10000000.0,10000000.0,5000000.0,10000000.0,10000000.0,5000000.0,1000000.0,10000000.0,10000000.0,50000000.0,1000000.0,10000000.0,1000000.0,10000000.0,5000000.0,10000000.0,1000000.0,100000000.0,50000000.0,50000000.0,5000000.0,50000000.0,10000000.0,10000000.0,5000000.0,10000000.0,10000000.0,100000.0,1000.0,100.0,10000000.0,500.0,1000.0,10000.0,100.0,50000.0,1000.0,500.0,100.0,100.0,100.0,1000.0,1000.0,10.0,100.0,100.0,500.0,500.0,10000.0,100.0,10.0,500000.0,50.0,5.0,10000000.0,10.0,100.0,500000.0,1000.0,5.0,1.0,10.0,5000000.0,500.0,5000000.0,100000.0,10000.0,1000.0,1000000.0,10000.0,1000.0,1000.0,10000000.0,500.0,10000.0,10000.0,1000.0,1000000.0,500.0,10000.0,1000.0,100.0,500000.0,100.0,100.0,100.0,10000.0,100.0,10.0,100.0,10.0,10000.0,100.0,10000.0,100.0,10000000.0,5000000.0,10000000.0,50000000.0,5000000.0,100000.0,1000.0,5000000.0,10000000.0,1000000.0,1000000.0,10000000.0,100000.0,10000.0,50000.0,100.0,1000000.0,500000.0,1000.0,1000000.0,10000.0,1000.0,5000000.0,100000.0,500000.0,10000000.0,10000.0,5000000.0,1000000.0,50.0,1000000.0,100000.0,10000000.0,100000.0,100000.0,1000.0,10000000.0,10000000.0,1000.0,100.0,10000000.0,1000000.0,1000000.0,100000000.0,10000000.0,50000000.0,10000000.0,10000000.0,500000.0,100000000.0,10000000.0,100000.0,5000000.0,10000000.0,10000000.0,100000000.0,1000000.0,50000000.0,10000000.0,50000000.0,10000000.0,100000000.0,10000000.0,10000000.0,5000000.0,10000000.0,10000000.0,1000000.0,100000.0,100000.0,100000.0,1000000.0,1000.0,1000.0,1000.0,50000.0,1000.0,5000.0,10000.0,10000.0,100000.0,1000.0,10000.0,50000.0,10000.0,100000.0,500.0,1000000.0,50000.0,100000.0,1000.0,100.0,50000.0,10000.0,100.0,10.0,10.0,10000.0,10.0,1000000.0,1000.0,10000.0,500.0,1000.0,500.0,50.0,100.0,100.0,100.0,100000.0,1.0,10.0,10000000.0,5000000.0,50000000.0,10000000.0,100000.0,1000000.0,10000000.0,1000000.0,1000000.0,1000.0,5000000.0,10000.0,5000.0,5000000.0,100000.0,10000000.0,5000000.0,10000.0,1000000.0,1000000.0,1000000.0,50000.0,10000000.0,10000.0,10000000.0,1000000.0,100000.0,1000000.0,1000000.0,1000000.0,10000.0,10000.0,5000.0,5000.0,100000.0,5000.0,1000.0,1000.0,1000.0,5000.0,10000.0,1000.0,10.0,1000.0,5000.0,1000.0,1000.0,100.0,10000.0,1000.0,5000.0,10.0,100.0,100.0,5000.0,500000.0,500.0,100.0,100.0,100.0,50.0,5.0,10.0,10.0,100.0,100.0,10.0,10000.0,10000.0,1000.0,100.0,50.0,50000.0,10.0,100000.0,500.0,5000.0,100000.0,10.0,10.0,50.0,500.0,100.0,100.0,100.0,5.0,10.0,10.0,50000.0,100000.0,100000.0,1000000.0,1.0,1000000.0,0.0,100000.0,500000.0,50000.0,1000000.0,50000.0,50000.0,10000.0,5000000.0,5000000.0,1000000.0,1000000.0,1000000.0,10000000.0,5000000.0,1000000.0,100000.0,5000000.0,10000000.0,1000000.0,1000000.0,100000.0,10000000.0,500000.0,1000000.0,100000.0,1000000.0,1000000.0,500000.0,100000.0,1000000.0,500000.0,100000.0,1000000.0,100000.0,100000.0,50000.0,1000000.0,100000.0,100000.0,1000000.0,10000000.0,1000000.0,100000.0,10000000.0,500000.0,10000.0,100000.0,500000.0,1000000.0,100000.0,5000.0,500000.0,50000.0,100000.0,100000.0,10000.0,500000.0,100000.0,5000.0,100000.0,100000.0,1000.0,1000000.0,1000.0,5000.0,1000.0,10000.0,10000.0,100000.0,100000.0,50000.0,100.0,5000.0,100000.0,10000.0,10000.0,10000.0,5000.0,5000.0,1000.0,10000.0,500000.0,5000.0,1000.0,5000.0,10000.0,50000.0,100000.0,100000.0,10000.0,500000.0,100.0,1000.0,1000000.0,10000000.0,500.0,1.0,100000.0,1000000.0,1000000.0,10000.0,500000.0,100000.0,100000.0,100000.0,100000.0,10000000.0,10000.0,100000.0,1000000.0,1000000.0,1000000.0,1000000.0,1000000.0,1000000.0,1000.0,1000000.0,100.0,100000.0,10000000.0,50000000.0,10000000.0,100000000.0,5000000.0,100000.0,500000.0,1000000.0,1000000.0,1000000.0,1000000.0,10000000.0,500000.0,1000000.0,10000000.0,1000000.0,10000.0,500000.0,500000.0,10000000.0,1000000.0,5000000.0,100000.0,1000000.0,1000000.0,10000.0,100000.0,1000000.0,100000.0,10000.0,10000.0,10000000.0,1000000.0,1000000.0,1000.0,500000.0,1000000.0,5000.0,1000000.0,1000000.0,10000000.0,500000.0,1000000.0,500000.0,5000000.0,500000.0,1000000.0,1000000.0,100000.0,500000.0,50000.0,50000.0,100000.0,500.0,1000.0,50000.0,100.0,500.0,100000.0,50.0,1000.0,100000.0,10.0,1000.0,100.0,500.0,1000000.0,1000000.0,10000000.0,1000.0,5.0,500.0,10.0,100.0,100000.0,1000000.0,5000000.0,10000.0,100.0,1000.0,100.0,500.0,1000.0,500.0,10000.0,1000.0,5000.0,500.0,500.0,1000.0,1000000.0,10000000.0,1000.0,100.0,1000.0,10.0,10.0,1.0,0.0,10.0,500.0,100.0,50.0,1.0,1000.0,10000000.0,5000000.0,1000.0,10.0,1000.0,500.0,100.0,10000000.0,100.0,100000.0,50000.0,10000.0,500000.0,100000000.0,1000000.0,100000000.0,10000000.0,10000000.0,1000000.0,100000.0,10000000.0,1000000.0,1000000.0,5000000.0,100000.0,50000.0,500000.0,500000.0,5000000.0,1000000.0,50000.0,50000.0,100000.0,100000.0,50000.0,100000.0,50000.0,50000.0,50000.0,5000.0,5000000.0,100000.0,50000.0,10000000.0,10000000.0,10000.0,10000000.0,1000000.0,50000.0,10000.0,1000.0,5000.0,10000.0,10000.0,10000.0,1000.0,1000.0,10000.0,50.0,1000.0,50000.0,10000.0,1000000.0,100000.0,100.0,5000.0,50000.0,100.0,50000.0,10000.0,1000.0,100.0,100000.0,1000.0,1000.0,100.0,1000.0,10000.0,5000.0,500000.0,100000.0,50.0,100.0,100.0,500.0,10.0,10000.0,5000.0,1000.0,1000.0,100000.0,100000.0,100000.0,1000000.0,100000.0,10000.0,10000.0,10000.0,100000.0,1000.0,1000000.0,10000.0,50000.0,100.0,10.0,5000.0,1000.0,10000.0,1000.0,1000.0,500000.0,10000.0,1000.0,500.0,1000.0,10000.0,100.0,100.0,1000.0,10.0,5000.0,100000.0,10000.0,100.0,1000.0,1000.0,100.0,10000.0,10.0,10.0,500.0,5000.0,10000.0,100.0,500.0,10.0,500000.0,500000.0,5000.0,500000.0,5000.0,1000.0,5000.0,1000000.0,1000.0,10000.0,100000.0,1000.0,100000.0,10000.0,50000.0,500.0,1000.0,10000.0,5000.0,5000.0,10000.0,5000.0,5000.0,5000.0,10.0,100.0,500.0,500.0,100.0,5000.0,10000.0,50000.0,100.0,1000.0,10000.0,100.0,5000.0,100.0,10.0,50.0,1000.0,100.0,10.0,10000.0,50000.0,50000.0,50.0,10000.0,100000.0,10000.0,100.0,10000000.0,50.0,1000000.0,100000.0,100000.0,100000.0,10000.0,10000.0,10000.0,50000.0,100000.0,10000.0,1000.0,50000.0,100000.0,5000.0,50000.0,10000.0,100.0,1000.0,1000000.0,100000.0,10.0,100000.0,1000.0,5000.0,10000.0,100.0,100.0,1000.0,5000.0,500.0,1000.0,100000.0,500.0,10000.0,10000.0,1000.0,10000.0,10000.0,500.0,10000.0,1000.0,10000.0,5000.0,10.0,10.0,10000.0,1.0,50000000.0,50000000.0,50000000.0,10000000.0,10000000.0,10000000.0,10000000.0,10000000.0,0.0,10000000.0,500000.0,10000000.0,5000000.0,1000.0,5000000.0,1000000.0,1000000.0,10000000.0,5000000.0,1000000.0,5000000.0,10000000.0,10000000.0,100000000.0,1000000.0,100000.0,100000.0,1000000.0,1000000.0,1000000.0,10000000.0,100.0,10000.0,10000.0,10.0,100.0,50.0,1000.0,500000.0,1000.0,100000.0,100.0,1000000.0,5000.0,50.0,5000.0,10.0,10000000.0,100000.0,1000.0,50.0,1000.0,100000.0,5000.0,10.0,10.0,100000.0,1.0,10000.0,100000.0,1000.0,100.0,1000.0,10000.0,10.0,10.0,10000.0,5000.0,10000.0,50000.0,100000.0,100000.0,5.0,10000.0,1000000.0,1000000.0,5000.0,1000.0,100000.0,100000.0,1000.0,10000.0,10000.0,10.0,50000.0,100000.0,100.0,50.0,1000.0,100.0,1000.0,1000.0,50.0,10000.0,1000.0,100.0,10000.0,100.0,500.0,10.0,50000.0,50.0,100.0,100.0,10.0,500.0,500.0,100.0,1000.0,10000.0,100.0,1000.0,100.0,10.0,1.0,1000.0,1.0,10.0,100.0,100000.0,50000.0,10000.0,10000.0,5000.0,100000.0,50000.0,100000.0,5000.0,10000.0,50000.0,50000.0,1000.0,10000.0,1000.0,100.0,1000.0,100.0,5000.0,1000.0,500.0,10000.0,500.0,50.0,100.0,5000.0,100.0,500.0,1000.0,50.0,100.0,500.0,100.0,50.0,1.0,50000.0,1000.0,5.0,10000.0,5000.0,1000.0,100.0,1000.0,100.0,1000000.0,10000000.0,100.0,10000.0,50000.0,1000.0,50.0,1000.0,1000.0,100.0,100000.0,100.0,10000.0,500.0,1000.0,10.0,50.0,100.0,1000.0,10.0,100000.0,1000000.0,1000000.0,100000.0,10000.0,100.0,10000.0,1000000.0,1000000.0,50000000.0,1000.0,100000.0,1000000.0,500000.0,500000.0,50000.0,100000.0,1000000.0,1000000.0,1000000.0,100000.0,1000000.0,10000000.0,10000.0,10000000.0,1000000.0,100000.0,10000.0,100.0,1000.0,100.0,1000.0,100000.0,50.0,100.0,500000.0,100.0,5000.0,5000000.0,10000.0,1000000.0,1000000.0,10000000.0,50000.0,10000.0,500000.0,5000000.0,500000.0,10000000.0,1000000.0,500000.0,1000000.0,100000.0,5000000.0,10000000.0,5000000.0,5000000.0,500000.0,500000.0,10000000.0,100000.0,10000000.0,100000.0,100000.0,10000000.0,10000000.0,10000.0,1000000.0,100000.0,5000000.0,10000.0,1000000.0,100.0,100.0,10.0,10000.0,100.0,1000.0,10000.0,5.0,10.0,10.0,100.0,50.0,5000.0,10000.0,500000.0,1000000.0,5000.0,10.0,1000000.0,1000000.0,5000000.0,10.0,10000000.0,10000.0,50000.0,5000.0,1000000.0,1000.0,5000000.0,10000000.0,10000000.0,1000000.0,1000.0,50000.0,100.0,1000000.0,100.0,1000000.0,500.0,1000.0,1000000.0,1000.0,1000000.0,1.0,10000000.0,10.0,1000000.0,1000000.0,50.0,100.0,5.0,1000000.0,1000000.0,5000000.0,1000000.0,100.0,100000.0,1000000.0,50000.0,1000000.0,500000.0,1000000.0,10000.0,1000000.0,5000000.0,500000.0,1000000.0,10000.0,50000.0,5000.0,500000.0,10000.0,100000.0,100000.0,500000.0,1000000.0,1000000.0,50000.0,100000.0,1000000.0,10000.0,1000.0,10000.0,500.0,10000.0,10000.0,50000000.0,100.0,50.0,5000.0,5000.0,5000.0,500.0,1000.0,10.0,1000.0,10000.0,10.0,100.0,10.0,500.0,1000.0,500.0,100.0,1000.0,10000000.0,1000.0,50000.0,10000000.0,1000000.0,1000000.0,1000.0,1000.0,5000.0,1000000.0,100.0,500.0,1.0,1000000.0,1000.0,1000000.0,100.0,5000000.0,10000000.0,1000000.0,100000.0,100000.0,100000.0,100000.0,100000.0,500000.0,100000.0,50000.0,1000000.0,1000000.0,1000000.0,100000.0,10000.0,100000.0,5000000.0,100000.0,10000.0,100000.0,1000000.0,10000000.0,10000000.0,100000.0,5000000.0,100000.0,100000.0,5000000.0,10000000.0,1000000.0,5000000.0,10000000.0,10000000.0,5000000.0,500000.0,500000.0,10000000.0,500000.0,1000000.0,100000.0,500000.0,500000.0,1000000.0,5000000.0,500000.0,1000000.0,1000000.0,500000.0,100000.0,5000000.0,500000.0,100000.0,1000000.0,500000.0,50000000.0,1000000.0,10000000.0,500000.0,5000000.0,5000000.0,100000.0,500000.0,500000.0,100000.0,10000000.0,10000000.0,10000000.0,100000.0,10000000.0,10000000.0,5000000.0,10000000.0,1000000.0,1000000.0,10000000.0,10000000.0,1000000.0,10000000.0,5000000.0,10000000.0,1000000.0,10000000.0,500000.0,10000000.0,10000000.0,10000000.0,1000000.0,5000000.0,10000000.0,5000000.0,5000000.0,1000000.0,1000000.0,5000000.0,50000000.0,10000000.0,10000000.0,5000000.0,10000.0,1000.0,10.0,1000.0,100.0,10.0,100.0,10.0,50.0,100.0,10.0,10.0,10.0,10.0,10000.0,10.0,50.0,1.0,50.0,10.0,1000000.0,5000000.0,100.0,10000000.0,10000000.0,500000.0,100.0,1000000.0,1000000.0,50000000.0,1000000.0,10000000.0,1000000.0,10000000.0,1000000.0,500000.0,1000000.0,1000000.0,50000000.0,100.0,100.0,100.0,500.0,50000.0,100.0,10.0,100.0,100.0,1000.0,100.0,50.0,5000.0,100.0,500000.0,1000000.0,500.0,1000.0,10.0,10.0,100.0,500000.0,10000.0,100000.0,500.0,1000000.0,1000.0,10000.0,100.0,100.0,10000000.0,10000000.0,10000.0,1000000.0,100000.0,1000000.0,100000.0,100000.0,10000000.0,500.0,5000.0,1000000.0,100000.0,100000.0,50000.0,50000.0,500000.0,10000.0,500000.0,10000.0,50000.0,1000.0,10000.0,1000.0,100000.0,1000.0,10000.0,5000.0,1000.0,5000.0,500000.0,1000000.0,100000.0,500000.0,100000.0,500000.0,10.0,50000.0,5000.0,5000.0,1000.0,10000.0,500.0,100000.0,100000.0,1000.0,50000.0,1000.0,1000.0,5000000.0,10000000.0,5000.0,500.0,1000000.0,10000000.0,10000000.0,100000.0,100000.0,1000000.0,1000000.0,1000000.0,500000.0,100000.0,1000000.0,1000000.0,1000000.0,500000.0,1000.0,100000.0,5000.0,50000.0,1000.0,10000.0,50000.0,10000.0,500.0,5000.0,1000000.0,1000.0,100.0,100.0,10000.0,50000000.0,500000.0,100.0,10000000.0,50000.0,5000000.0,10000.0,500.0,10000000.0,100000.0,100000.0,5000000.0,1000000.0,10000000.0,10000.0,5000.0,100000.0,100000.0,100000.0,50000000.0,50000.0,100000.0,100000.0,50000.0,5000000.0,5000000.0,1000000.0,100000000.0,50000000.0,50000000.0,1000000000.0,10000000.0,1000000.0,5000000.0,10000000.0,5000000.0,50000000.0,10000000.0,10000000.0,10000000.0,10000000.0,10000000.0,5000000.0,10000000.0,5000000.0,50000000.0,5000000.0,10000000.0,100000.0,50000.0,1000.0,1000.0,100000.0,50000.0,5000.0,1000.0,1000.0,1000.0,100.0,5000.0,10000.0,1000.0,50000.0,10000.0,10000.0,100.0,100.0,50.0,500.0,100000.0,10000.0,1000000.0,1000.0,1000.0,1000.0,500.0,500.0,1000.0,50000.0,1000.0,1000.0,100.0,100.0,1000.0,5000000.0,50.0,1000.0,500.0,50.0,10.0,1000.0,1000.0,50.0,100.0,100.0,100.0,10.0,100.0,100.0,1000.0,1000.0,10000.0,1000.0,10.0,10.0,50000.0,50.0,10.0,10.0,100.0,5.0,100.0,100.0,5000000.0,100.0,10.0,1000000.0,10000.0,100000.0,50000.0,100000.0,50000.0,50000.0,1000.0,10000.0,1000.0,1000.0,1000.0,5000.0,10000.0,1000.0,1000.0,10.0,100.0,1000.0,100.0,1000.0,1000.0,100.0,1000.0,5.0,5000.0,5000.0,1000.0,1000000.0,1000.0,500000.0,1000.0,500.0,100000.0,100000.0,10000000.0,1000000.0,1000000.0,1000.0,5000000.0,500.0,500000.0,1000000.0,1000000.0,1000000.0,100000.0,100000.0,100000.0,10000000.0,500.0,10.0,100000.0,100.0,5.0,50.0,100.0,100000.0,10.0,1000000.0,100.0,5.0,100.0,10.0,10000.0,10.0,10.0,100000.0,10.0,50000000.0,100000.0,10000.0,5000000.0,500.0,10000000.0,10000.0,50000.0,500000.0,100000.0,100000.0,10000000.0,5000.0,100000.0,5000000.0,50000.0,1000000.0,10000000.0,1000000.0,5000000.0,10000000.0,1000000.0,100000.0,5000000.0,10000000.0,5000000.0,500000.0,500000.0,50000.0,5000.0,100000.0,1000000.0,1000.0,100000.0,1000000.0,1000000.0,500000.0,100000.0,100000.0,5000000.0,5000.0,50000.0,5000000.0,1000.0,100.0,5000000.0,5000.0,5000.0,50000.0,10000.0,1000.0,50.0,500.0,1000.0,100.0,1000.0,1000.0,100.0,5.0,10000.0,1000.0,5000.0,100.0,5.0,500.0,1000.0,100.0,5.0,500.0,10000.0,500.0,10000.0,10.0,10000000.0,1.0,500.0,100.0,5.0,10.0,10.0,1000.0,50.0,10000.0,100.0,1000000.0,1000000.0,10000000.0,10000.0,100000.0,100000.0,500.0,1000000.0,100.0,500000.0,5000000.0,1000000.0,1000000.0,500000.0,1000000.0,100000.0,10000.0,10000.0,1000.0,50000.0,100000.0,100000.0,100000.0,1000000.0,10000.0,5000.0,500000.0,1000.0,50000.0,10000.0,10000.0,10000.0,50000.0,1000000.0,1000.0,100000.0,1000000.0,5000.0,10000.0,50000.0,10000.0,10000.0,5000.0,100000.0,5000.0,1000.0,10000.0,100000.0,1000.0,50000.0,5000.0,5000.0,1000.0,1000.0,100.0,100000.0,100000.0,5.0,10000000.0,1000000.0,1000000.0,5000.0,5000.0,1000.0,500.0,1000000.0,5000000.0,5000000.0,1000.0,1000000.0,10000000.0,1000.0,1000.0,1000.0,100000000.0,10.0,5000000.0,10000000.0,10000000.0,1000000.0,10000000.0,10000000.0,10000000.0,1000000.0,50000000.0,1000000.0,500000.0,1000000.0,50000000.0,100000.0,1000000.0,1000000.0,10000.0,500000.0,1000000.0,500000.0,100000.0,50000.0,500000.0,10000000.0,10000.0,5000000.0,500.0,100000.0,100000.0,50000.0,500000.0,5000.0,100000.0,100000.0,5000.0,5000.0,1000000.0,100000.0,100000.0,5000.0,1000.0,10000.0,100000.0,10000.0,50.0,5000.0,100000.0,10000.0,500.0,10000.0,10000.0,1000000.0,100000.0,500000.0,10000.0,10000.0,10000.0,10000.0,1000000.0,100.0,50000.0,10000.0,10000.0,50000.0,100000.0,100000000.0,100000.0,10000.0,500.0,1000000.0,5000.0,10000.0,10000.0,5000.0,10000.0,1000.0,50000.0,500.0,100.0,10000.0,10000.0,100000.0,50000.0,100000.0,1000.0,10000.0,100000.0,5000000.0,500.0,50000.0,10000.0,500.0,10000.0,100000.0,10000.0,100000.0,5000.0,10000.0,100000.0,1000.0,100000.0,100000.0,10000.0,10000.0,500.0,100000.0,1000.0,1000000.0,10.0,1000.0,1.0,1000000.0,1000.0,10000.0,5000.0,500000.0,10000.0,1000.0,10000.0,1000.0,5000.0,10000.0,100.0,100000.0,10000.0,50.0,10000.0,10000.0,50000.0,1000000.0,5000000.0,1000.0,5000.0,1000.0,50000.0,1000.0,10.0,500.0,100000000.0,100.0,10.0,500.0,100.0,100.0,1000.0,1000.0,1000.0,1000.0,100.0,100.0,100.0,1000.0,10000.0,1000.0,500.0,100.0,1000.0,500.0,10.0,100.0,50.0,100.0,1000.0,100.0,10000.0,100.0,5000.0,10.0,1000.0,100.0,500.0,5000.0,1000.0,1000000.0,1000.0,10.0,100.0,10.0,10.0,10000.0,50.0,1000000.0,5000000.0,5000000.0,1000.0,10000000.0,10000.0,10000000.0,10.0,50000000.0,5000000.0,10000.0,1000000.0,1000000.0,10000000.0,1000000.0,1000000.0,10000000.0,500000.0,100000.0,5000000.0,1000000.0,500000.0,500000.0,1000000.0,1000000.0,500000.0,5000000.0,10000.0,5000.0,10.0,100.0,10000.0,500.0,1000.0,500.0,1000.0,1000.0,1000.0,50000000.0,5000.0,1000.0,500.0,100.0,500.0,100.0,1000.0,100.0,1.0,1000.0,1000000.0,100.0,500.0,1000.0,5000000.0,10000.0,100.0,5000000.0,1000.0,10000.0,50000000.0,50000.0,100000.0,100.0,500.0,1000000.0,5000000.0,100000.0,1000000.0,500000.0,100.0,100000.0,1000000.0,10000.0,100000.0,1000000.0,500000.0,1000000.0,10000.0,1000000.0,1000.0,500000.0,5000.0,100000.0,50000.0,500000.0,5000.0,100000.0,100000.0,10000.0,10000.0,50000.0,500000.0,10000.0,100000.0,1000.0,10000000.0,1000.0,50000.0,50000.0,10000.0,1000.0,50000.0,500000.0,500000.0,10000.0,100.0,1000.0,100.0,10000.0,1000.0,5000.0,1000000.0,10000.0,500.0,1000.0,5000000.0,100.0,100.0,100.0,50.0,10000.0,100.0,100.0,100.0,10000000.0,1000000.0,10000000.0,100000.0,10000000.0,10000000.0,500000.0,10000000.0,10.0,1000000.0,100000.0,50000000.0,1000000.0,50000.0,500.0,1000000.0,10.0,10000.0,10000000.0,1000000.0,100000.0,10.0,10.0,1000000.0,10000.0,10.0,10.0,1.0,100.0,10.0,5.0,50.0,100.0,50.0,100.0,10.0,1.0,5.0,50.0,10.0,10.0,50.0,10.0,10.0,50000000.0,10.0,10.0,10000.0,5.0,5000000.0,5.0,1000.0,10.0,100.0,5.0,10.0,10.0,5.0,10.0,100.0,10.0,50000.0,5.0,5000000.0,100000.0,10000.0,50000.0,10000.0,100000.0,5000.0,1000.0,10000.0,5000.0,100000.0,50000.0,10000.0,100000.0,5000.0,1000.0,5000.0,1000.0,5000.0,1000.0,500.0,1000.0,1000.0,5000.0,50000.0,1000.0,100000.0,500.0,10000.0,10000.0,1000.0,10000.0,50000.0,10.0,100.0,5000.0,5000.0,500.0,5000.0,100.0,10.0,10000.0,5000.0,100.0,1000000.0,5000.0,100.0,10000.0,10000.0,100.0,50.0,100000.0,10000.0,10.0,50.0,1000.0,1000.0,1000.0,100000.0,1000.0,5000.0,10000.0,1000.0,5000.0,10000000.0,500.0,10000.0,10000.0,1000.0,100000.0,500000.0,10000.0,10000.0,1000000.0,100000000.0,10000.0,10000.0,100000.0,50.0,1.0,1000.0,100.0,5.0,10.0,50.0,10.0,500.0,10000.0,1000.0,5000.0,10.0,1000000.0,10.0,1000000.0,500.0,100.0,10000.0,100000.0,100000.0,5000000.0,1000000.0,10000.0,10000.0,10000000.0,100000.0,1000.0,500.0,100.0,100.0,100.0,100.0,100.0,100.0,50.0,1000.0,1.0,500.0,50.0,100.0,100.0,500.0,100000000.0,1.0,100.0,10000000.0,1000000.0,1000000.0,100000.0,5000000.0,100000.0,10000000.0,1000000.0,5000.0,1000.0,1000000.0,100.0,100000.0,10000000.0,10000.0,1000.0,1000000.0,50000.0,10000000.0,10000000.0,50000.0,5000000.0,100000.0,10000.0,100.0,100.0,1000.0,5000.0,500000.0,10000000.0,1000000.0,1000.0,500.0,100.0,1.0,1000.0,5000.0,10.0,1000.0,100000.0,1000.0,5000.0,1000000.0,10000.0,10000.0,5000.0,50000.0,1000000.0,1000.0,1000.0,10.0,50000.0,1.0,100000.0,100000.0,500.0,100.0,100000.0,1000.0,100.0,10.0,10.0,1.0,10.0,100000.0,10000.0,10000.0,1000.0,10000000.0,50000.0,10000000.0,50000.0,50000.0,500.0,50000.0,50000.0,50000.0,1000000.0,500000.0,1000.0,100000.0,1000000.0,1000000.0,100000.0,5000.0,1000.0,10000.0,1000000.0,100000.0,100.0,500.0,100.0,50000.0,1000000.0,100.0,100.0,1000.0,10000.0,50000.0,500000.0,100.0,100000.0,10000.0,5000.0,1000.0,50.0,10.0,100.0,10000.0,100.0,5000000.0,5000.0,10000.0,10000.0,100000.0,5000.0,100000.0,1000.0,500.0,10.0,5000.0,100.0,1000.0,1000.0,10000000.0],\"type\":\"box\"}],                        {\"template\":{\"data\":{\"barpolar\":[{\"marker\":{\"line\":{\"color\":\"#E5ECF6\",\"width\":0.5},\"pattern\":{\"fillmode\":\"overlay\",\"size\":10,\"solidity\":0.2}},\"type\":\"barpolar\"}],\"bar\":[{\"error_x\":{\"color\":\"#2a3f5f\"},\"error_y\":{\"color\":\"#2a3f5f\"},\"marker\":{\"line\":{\"color\":\"#E5ECF6\",\"width\":0.5},\"pattern\":{\"fillmode\":\"overlay\",\"size\":10,\"solidity\":0.2}},\"type\":\"bar\"}],\"carpet\":[{\"aaxis\":{\"endlinecolor\":\"#2a3f5f\",\"gridcolor\":\"white\",\"linecolor\":\"white\",\"minorgridcolor\":\"white\",\"startlinecolor\":\"#2a3f5f\"},\"baxis\":{\"endlinecolor\":\"#2a3f5f\",\"gridcolor\":\"white\",\"linecolor\":\"white\",\"minorgridcolor\":\"white\",\"startlinecolor\":\"#2a3f5f\"},\"type\":\"carpet\"}],\"choropleth\":[{\"colorbar\":{\"outlinewidth\":0,\"ticks\":\"\"},\"type\":\"choropleth\"}],\"contourcarpet\":[{\"colorbar\":{\"outlinewidth\":0,\"ticks\":\"\"},\"type\":\"contourcarpet\"}],\"contour\":[{\"colorbar\":{\"outlinewidth\":0,\"ticks\":\"\"},\"colorscale\":[[0.0,\"#0d0887\"],[0.1111111111111111,\"#46039f\"],[0.2222222222222222,\"#7201a8\"],[0.3333333333333333,\"#9c179e\"],[0.4444444444444444,\"#bd3786\"],[0.5555555555555556,\"#d8576b\"],[0.6666666666666666,\"#ed7953\"],[0.7777777777777778,\"#fb9f3a\"],[0.8888888888888888,\"#fdca26\"],[1.0,\"#f0f921\"]],\"type\":\"contour\"}],\"heatmapgl\":[{\"colorbar\":{\"outlinewidth\":0,\"ticks\":\"\"},\"colorscale\":[[0.0,\"#0d0887\"],[0.1111111111111111,\"#46039f\"],[0.2222222222222222,\"#7201a8\"],[0.3333333333333333,\"#9c179e\"],[0.4444444444444444,\"#bd3786\"],[0.5555555555555556,\"#d8576b\"],[0.6666666666666666,\"#ed7953\"],[0.7777777777777778,\"#fb9f3a\"],[0.8888888888888888,\"#fdca26\"],[1.0,\"#f0f921\"]],\"type\":\"heatmapgl\"}],\"heatmap\":[{\"colorbar\":{\"outlinewidth\":0,\"ticks\":\"\"},\"colorscale\":[[0.0,\"#0d0887\"],[0.1111111111111111,\"#46039f\"],[0.2222222222222222,\"#7201a8\"],[0.3333333333333333,\"#9c179e\"],[0.4444444444444444,\"#bd3786\"],[0.5555555555555556,\"#d8576b\"],[0.6666666666666666,\"#ed7953\"],[0.7777777777777778,\"#fb9f3a\"],[0.8888888888888888,\"#fdca26\"],[1.0,\"#f0f921\"]],\"type\":\"heatmap\"}],\"histogram2dcontour\":[{\"colorbar\":{\"outlinewidth\":0,\"ticks\":\"\"},\"colorscale\":[[0.0,\"#0d0887\"],[0.1111111111111111,\"#46039f\"],[0.2222222222222222,\"#7201a8\"],[0.3333333333333333,\"#9c179e\"],[0.4444444444444444,\"#bd3786\"],[0.5555555555555556,\"#d8576b\"],[0.6666666666666666,\"#ed7953\"],[0.7777777777777778,\"#fb9f3a\"],[0.8888888888888888,\"#fdca26\"],[1.0,\"#f0f921\"]],\"type\":\"histogram2dcontour\"}],\"histogram2d\":[{\"colorbar\":{\"outlinewidth\":0,\"ticks\":\"\"},\"colorscale\":[[0.0,\"#0d0887\"],[0.1111111111111111,\"#46039f\"],[0.2222222222222222,\"#7201a8\"],[0.3333333333333333,\"#9c179e\"],[0.4444444444444444,\"#bd3786\"],[0.5555555555555556,\"#d8576b\"],[0.6666666666666666,\"#ed7953\"],[0.7777777777777778,\"#fb9f3a\"],[0.8888888888888888,\"#fdca26\"],[1.0,\"#f0f921\"]],\"type\":\"histogram2d\"}],\"histogram\":[{\"marker\":{\"pattern\":{\"fillmode\":\"overlay\",\"size\":10,\"solidity\":0.2}},\"type\":\"histogram\"}],\"mesh3d\":[{\"colorbar\":{\"outlinewidth\":0,\"ticks\":\"\"},\"type\":\"mesh3d\"}],\"parcoords\":[{\"line\":{\"colorbar\":{\"outlinewidth\":0,\"ticks\":\"\"}},\"type\":\"parcoords\"}],\"pie\":[{\"automargin\":true,\"type\":\"pie\"}],\"scatter3d\":[{\"line\":{\"colorbar\":{\"outlinewidth\":0,\"ticks\":\"\"}},\"marker\":{\"colorbar\":{\"outlinewidth\":0,\"ticks\":\"\"}},\"type\":\"scatter3d\"}],\"scattercarpet\":[{\"marker\":{\"colorbar\":{\"outlinewidth\":0,\"ticks\":\"\"}},\"type\":\"scattercarpet\"}],\"scattergeo\":[{\"marker\":{\"colorbar\":{\"outlinewidth\":0,\"ticks\":\"\"}},\"type\":\"scattergeo\"}],\"scattergl\":[{\"marker\":{\"colorbar\":{\"outlinewidth\":0,\"ticks\":\"\"}},\"type\":\"scattergl\"}],\"scattermapbox\":[{\"marker\":{\"colorbar\":{\"outlinewidth\":0,\"ticks\":\"\"}},\"type\":\"scattermapbox\"}],\"scatterpolargl\":[{\"marker\":{\"colorbar\":{\"outlinewidth\":0,\"ticks\":\"\"}},\"type\":\"scatterpolargl\"}],\"scatterpolar\":[{\"marker\":{\"colorbar\":{\"outlinewidth\":0,\"ticks\":\"\"}},\"type\":\"scatterpolar\"}],\"scatter\":[{\"marker\":{\"colorbar\":{\"outlinewidth\":0,\"ticks\":\"\"}},\"type\":\"scatter\"}],\"scatterternary\":[{\"marker\":{\"colorbar\":{\"outlinewidth\":0,\"ticks\":\"\"}},\"type\":\"scatterternary\"}],\"surface\":[{\"colorbar\":{\"outlinewidth\":0,\"ticks\":\"\"},\"colorscale\":[[0.0,\"#0d0887\"],[0.1111111111111111,\"#46039f\"],[0.2222222222222222,\"#7201a8\"],[0.3333333333333333,\"#9c179e\"],[0.4444444444444444,\"#bd3786\"],[0.5555555555555556,\"#d8576b\"],[0.6666666666666666,\"#ed7953\"],[0.7777777777777778,\"#fb9f3a\"],[0.8888888888888888,\"#fdca26\"],[1.0,\"#f0f921\"]],\"type\":\"surface\"}],\"table\":[{\"cells\":{\"fill\":{\"color\":\"#EBF0F8\"},\"line\":{\"color\":\"white\"}},\"header\":{\"fill\":{\"color\":\"#C8D4E3\"},\"line\":{\"color\":\"white\"}},\"type\":\"table\"}]},\"layout\":{\"annotationdefaults\":{\"arrowcolor\":\"#2a3f5f\",\"arrowhead\":0,\"arrowwidth\":1},\"autotypenumbers\":\"strict\",\"coloraxis\":{\"colorbar\":{\"outlinewidth\":0,\"ticks\":\"\"}},\"colorscale\":{\"diverging\":[[0,\"#8e0152\"],[0.1,\"#c51b7d\"],[0.2,\"#de77ae\"],[0.3,\"#f1b6da\"],[0.4,\"#fde0ef\"],[0.5,\"#f7f7f7\"],[0.6,\"#e6f5d0\"],[0.7,\"#b8e186\"],[0.8,\"#7fbc41\"],[0.9,\"#4d9221\"],[1,\"#276419\"]],\"sequential\":[[0.0,\"#0d0887\"],[0.1111111111111111,\"#46039f\"],[0.2222222222222222,\"#7201a8\"],[0.3333333333333333,\"#9c179e\"],[0.4444444444444444,\"#bd3786\"],[0.5555555555555556,\"#d8576b\"],[0.6666666666666666,\"#ed7953\"],[0.7777777777777778,\"#fb9f3a\"],[0.8888888888888888,\"#fdca26\"],[1.0,\"#f0f921\"]],\"sequentialminus\":[[0.0,\"#0d0887\"],[0.1111111111111111,\"#46039f\"],[0.2222222222222222,\"#7201a8\"],[0.3333333333333333,\"#9c179e\"],[0.4444444444444444,\"#bd3786\"],[0.5555555555555556,\"#d8576b\"],[0.6666666666666666,\"#ed7953\"],[0.7777777777777778,\"#fb9f3a\"],[0.8888888888888888,\"#fdca26\"],[1.0,\"#f0f921\"]]},\"colorway\":[\"#636efa\",\"#EF553B\",\"#00cc96\",\"#ab63fa\",\"#FFA15A\",\"#19d3f3\",\"#FF6692\",\"#B6E880\",\"#FF97FF\",\"#FECB52\"],\"font\":{\"color\":\"#2a3f5f\"},\"geo\":{\"bgcolor\":\"white\",\"lakecolor\":\"white\",\"landcolor\":\"#E5ECF6\",\"showlakes\":true,\"showland\":true,\"subunitcolor\":\"white\"},\"hoverlabel\":{\"align\":\"left\"},\"hovermode\":\"closest\",\"mapbox\":{\"style\":\"light\"},\"paper_bgcolor\":\"white\",\"plot_bgcolor\":\"#E5ECF6\",\"polar\":{\"angularaxis\":{\"gridcolor\":\"white\",\"linecolor\":\"white\",\"ticks\":\"\"},\"bgcolor\":\"#E5ECF6\",\"radialaxis\":{\"gridcolor\":\"white\",\"linecolor\":\"white\",\"ticks\":\"\"}},\"scene\":{\"xaxis\":{\"backgroundcolor\":\"#E5ECF6\",\"gridcolor\":\"white\",\"gridwidth\":2,\"linecolor\":\"white\",\"showbackground\":true,\"ticks\":\"\",\"zerolinecolor\":\"white\"},\"yaxis\":{\"backgroundcolor\":\"#E5ECF6\",\"gridcolor\":\"white\",\"gridwidth\":2,\"linecolor\":\"white\",\"showbackground\":true,\"ticks\":\"\",\"zerolinecolor\":\"white\"},\"zaxis\":{\"backgroundcolor\":\"#E5ECF6\",\"gridcolor\":\"white\",\"gridwidth\":2,\"linecolor\":\"white\",\"showbackground\":true,\"ticks\":\"\",\"zerolinecolor\":\"white\"}},\"shapedefaults\":{\"line\":{\"color\":\"#2a3f5f\"}},\"ternary\":{\"aaxis\":{\"gridcolor\":\"white\",\"linecolor\":\"white\",\"ticks\":\"\"},\"baxis\":{\"gridcolor\":\"white\",\"linecolor\":\"white\",\"ticks\":\"\"},\"bgcolor\":\"#E5ECF6\",\"caxis\":{\"gridcolor\":\"white\",\"linecolor\":\"white\",\"ticks\":\"\"}},\"title\":{\"x\":0.05},\"xaxis\":{\"automargin\":true,\"gridcolor\":\"white\",\"linecolor\":\"white\",\"ticks\":\"\",\"title\":{\"standoff\":15},\"zerolinecolor\":\"white\",\"zerolinewidth\":2},\"yaxis\":{\"automargin\":true,\"gridcolor\":\"white\",\"linecolor\":\"white\",\"ticks\":\"\",\"title\":{\"standoff\":15},\"zerolinecolor\":\"white\",\"zerolinewidth\":2}}},\"title\":{\"text\":\"Number of Installs of Paid Apps vs. Free Apps\"},\"yaxis\":{\"autorange\":true,\"title\":{\"text\":\"Number of Installs (Log Scale)\"},\"type\":\"log\"}},                        {\"responsive\": true}                    ).then(function(){\n",
              "                            \n",
              "var gd = document.getElementById('5881611d-6ba4-42e9-bb48-42cad07cb074');\n",
              "var x = new MutationObserver(function (mutations, observer) {{\n",
              "        var display = window.getComputedStyle(gd).display;\n",
              "        if (!display || display === 'none') {{\n",
              "            console.log([gd, 'removed!']);\n",
              "            Plotly.purge(gd);\n",
              "            observer.disconnect();\n",
              "        }}\n",
              "}});\n",
              "\n",
              "// Listen for the removal of the full notebook cells\n",
              "var notebookContainer = gd.closest('#notebook-container');\n",
              "if (notebookContainer) {{\n",
              "    x.observe(notebookContainer, {childList: true});\n",
              "}}\n",
              "\n",
              "// Listen for the clearing of the current output cell\n",
              "var outputEl = gd.closest('.output');\n",
              "if (outputEl) {{\n",
              "    x.observe(outputEl, {childList: true});\n",
              "}}\n",
              "\n",
              "                        })                };                            </script>        </div>\n",
              "</body>\n",
              "</html>"
            ]
          },
          "metadata": {}
        }
      ]
    },
    {
      "cell_type": "markdown",
      "source": [
        "##### 1. Reason"
      ],
      "metadata": {
        "id": "jj7wYXLtphqO"
      }
    },
    {
      "cell_type": "markdown",
      "source": [
        "The interactive box plot is created using the Plotly library in Python which is similar to a traditional box plot that visualizes the distribution of a dataset through five summary statistics: the minimum and maximum values, the lower and upper quartiles, and the median. But, an interactive box plot allows to interact with the chart by hovering over the boxes to see additional information, such as the specific values of each summary statistic and the number of data points within the box.\n",
        "Also, an interactive box plot can be customized with various design elements, such as color, labels, and titles, to better communicate the insights from the data. "
      ],
      "metadata": {
        "id": "Ob8u6rCTphqO"
      }
    },
    {
      "cell_type": "markdown",
      "source": [
        "##### 2. The insight(s) found from the chart"
      ],
      "metadata": {
        "id": "eZrbJ2SmphqO"
      }
    },
    {
      "cell_type": "markdown",
      "source": [
        "The x-axis represents the type of app (paid or free) and the y-axis represents the number of installs (in millions). The plot also includes a legend that indicates which box corresponds to paid apps and which one corresponds to free apps.\n",
        "The box plot shows the median (the horizontal line inside the box), the interquartile range (the box), the range of the data (the whiskers), and any outliers (the circles outside the whiskers). The boxes for both paid and free apps are relatively narrow, indicating that most of the data points fall within a relatively narrow range.Additionally, the median number of installs for free apps is higher than for paid apps. The plot also shows that the number of installs for both paid and free apps is highly skewed, with a long tail of outliers."
      ],
      "metadata": {
        "id": "mZtgC_hjphqO"
      }
    },
    {
      "cell_type": "markdown",
      "source": [
        "##### 3. Business impact"
      ],
      "metadata": {
        "id": "rFu4xreNphqO"
      }
    },
    {
      "cell_type": "markdown",
      "source": [
        "The box for free apps is larger than the box for paid apps, indicating that the range of the number of installs for free apps is wider than for paid apps. This suggests that while paid apps may have a more limited audience, they can still be profitable if they are priced appropriately and provide value to their target market."
      ],
      "metadata": {
        "id": "ey_0qi68phqO"
      }
    },
    {
      "cell_type": "markdown",
      "source": [
        "#### Chart - 9\n",
        "**Pie Charts**"
      ],
      "metadata": {
        "id": "YJ55k-q6phqO"
      }
    },
    {
      "cell_type": "code",
      "source": [
        "# Load user_reviews.csv\n",
        "df_reviews = pd.read_csv('/content/drive/MyDrive/Capstone_project/EDA/User Reviews.csv')\n",
        "\n",
        "# Join the two dataframes\n",
        "merged_df = merged_df = pd.merge(df_copy, df_reviews,on='App',how='inner')\n",
        "\n",
        "# Drop NA values from Sentiment and Review columns\n",
        "merged_df = merged_df.dropna(subset = ['Sentiment', 'Translated_Review'])\n",
        "\n",
        "# separate dataframes for free and paid apps\n",
        "free_apps = merged_df[merged_df['Type'] == 'Free']\n",
        "paid_apps = merged_df[merged_df['Type'] == 'Paid']\n",
        "\n",
        "# sentiment value counts for free and paid apps\n",
        "free_sentiment_counts = free_apps['Sentiment'].value_counts()\n",
        "paid_sentiment_counts = paid_apps['Sentiment'].value_counts()\n",
        "\n",
        "# create pie chart for free apps sentiment analysis\n",
        "plt.pie(free_sentiment_counts.values, labels=free_sentiment_counts.index, autopct='%1.1f%%')\n",
        "plt.title('Free Apps')\n",
        "plt.show()\n",
        "\n",
        "# create pie chart for paid apps sentiment analysis\n",
        "plt.pie(paid_sentiment_counts.values, labels=paid_sentiment_counts.index, autopct='%1.1f%%')\n",
        "plt.title('Paid Apps')\n",
        "plt.show()"
      ],
      "metadata": {
        "id": "aMwvBLeC944k",
        "colab": {
          "base_uri": "https://localhost:8080/",
          "height": 511
        },
        "outputId": "4c978929-e91a-484f-9c8d-ab095ea6ba08"
      },
      "execution_count": 53,
      "outputs": [
        {
          "output_type": "display_data",
          "data": {
            "text/plain": [
              "<Figure size 432x288 with 1 Axes>"
            ],
            "image/png": "[encoded data removed]"
          },
          "metadata": {}
        },
        {
          "output_type": "display_data",
          "data": {
            "text/plain": [
              "<Figure size 432x288 with 1 Axes>"
            ],
            "image/png": "[encoded data removed]"
          },
          "metadata": {}
        }
      ]
    },
    {
      "cell_type": "markdown",
      "source": [
        "##### 1. Reason"
      ],
      "metadata": {
        "id": "gCFgpxoyphqP"
      }
    },
    {
      "cell_type": "markdown",
      "source": [
        "Pie charts can be used for sentiment analysis when we want to visualize the distribution of sentiments in our dataset. It is useful when there are less sentiment categories like we have only three i.e. positive, negative, and neutral sentiments, making it easy to compare the relative sizes of each sentiment category."
      ],
      "metadata": {
        "id": "TVxDimi2phqP"
      }
    },
    {
      "cell_type": "markdown",
      "source": [
        "##### 2. The insight(s) found from the chart"
      ],
      "metadata": {
        "id": "OVtJsKN_phqQ"
      }
    },
    {
      "cell_type": "markdown",
      "source": [
        "We have generated two pie charts for sentiment analysis of free and paid apps separately. The charts show the distribution of sentiment categories (positive, negative, and neutral) for each type of app.\n",
        "\n",
        "From the charts, we can see that the majority of app reviews in both free and paid categories are positive, with neutral and negative reviews having a smaller share. However, it seems that paid apps have a slightly higher percentage of positive reviews than free apps"
      ],
      "metadata": {
        "id": "ngGi97qjphqQ"
      }
    },
    {
      "cell_type": "markdown",
      "source": [
        "##### 3. Business impact"
      ],
      "metadata": {
        "id": "lssrdh5qphqQ"
      }
    },
    {
      "cell_type": "markdown",
      "source": [
        "Overall, it highlights the fact that paid apps generally receive more positive reviews compared to free apps."
      ],
      "metadata": {
        "id": "tBpY5ekJphqQ"
      }
    },
    {
      "cell_type": "markdown",
      "source": [
        "## **5. Solution to Business Objective**"
      ],
      "metadata": {
        "id": "JcMwzZxoAimU"
      }
    },
    {
      "cell_type": "markdown",
      "source": [
        "The number of free apps on the Google Play Store is significantly higher than the number of paid apps and the most popular app categories in the store are 'Family', 'Game', and 'Tools'.The distribution of app ratings is right-skewed, and ratings tend to be higher for some categories such as 'Education' and 'Books & Reference'. But, the paid apps have a slightly higher proportion of positive reviews as compared to the free apps.\n",
        "\n",
        "There is a positive relationship between the number of installs and app ratings, indicating that more popular apps tend to have higher ratings. So, the apps with higher ratings and positive reviews have a higher number of installs.\n",
        "Paid apps tend to have slightly higher ratings than free apps, but the difference is not very significant. Although, it certainly means that users do not always prefer free apps over paid apps, as there are some categories where paid apps have higher ratings than free apps. The price of the paid apps on the Google Play Store ranges from 0.99 dollar to 400 dollars, with most of the apps being priced between 1 dollar and 10 dollars.\n",
        "\n",
        "There is a weak positive correlation between app size and rating, and no significant correlation between price and rating. However, the sentiment analysis of the app reviews shows that the majority of the users have a positive sentiment towards the apps.\n",
        "\n",
        "Finally, it might be recommended that app developers focus on developing apps in the 'Family', 'Game' and 'Tools' categories, with a user-friendly interface and good ratings, to increase the number of downloads and revenue. The data showed that paid apps generally had better ratings and reviews. This could indicate that users are more willing to spend money on apps that provide value. Developers can focus on providing valuable features and incentives for in-app purchases to increase revenue. Also, it is important to maintain the app quality and respond to the user feedback in a timely manner to improve the user experience and gain more positive reviews."
      ],
      "metadata": {
        "id": "pASKb0qOza21"
      }
    },
    {
      "cell_type": "markdown",
      "source": [
        "# **Conclusion**"
      ],
      "metadata": {
        "id": "gCX9965dhzqZ"
      }
    },
    {
      "cell_type": "markdown",
      "source": [
        "Overall, it can be concluded that the Google Play Store has a diverse range of apps in various categories, with the most popular categories being Family, Game, and Tools. The ratings of the apps are generally positive, with a majority of them having a rating of 4 or higher. The app size and price do not have a significant impact on the app ratings, but there is a positive correlation between the number of installs and app ratings. Additionally, there is no significant difference between the ratings of paid and free apps. However, users tend to prefer free apps over paid apps, as they have a higher number of downloads. Overall, the analysis provides valuable insights into the Google Play Store, which can be useful for app developers and businesses."
      ],
      "metadata": {
        "id": "Fjb1IsQkh3yE"
      }
    },
    {
      "cell_type": "markdown",
      "source": [
        "### ***Hurrah! We have successfully completed EDA Capstone Project !!!***"
      ],
      "metadata": {
        "id": "gIfDvo9L0UH2"
      }
    }
  ]
}