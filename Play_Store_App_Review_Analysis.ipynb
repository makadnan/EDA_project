{
  "nbformat": 4,
  "nbformat_minor": 0,
  "metadata": {
    "colab": {
      "private_outputs": true,
      "provenance": [],
      "collapsed_sections": [
        "vncDsAP0Gaoa",
        "yQaldy8SH6Dl",
        "PH-0ReGfmX4f",
        "mDgbUHAGgjLW",
        "HhfV-JJviCcP",
        "Y3lxredqlCYt",
        "3RnN4peoiCZX",
        "x71ZqKXriCWQ",
        "7hBIi_osiCS2",
        "JlHwYmJAmNHm",
        "35m5QtbWiB9F",
        "PoPl-ycgm1ru",
        "H0kj-8xxnORC",
        "nA9Y7ga8ng1Z",
        "PBTbrJXOngz2",
        "u3PMJOP6ngxN",
        "dauF4eBmngu3",
        "bKJF3rekwFvQ",
        "MSa1f5Uengrz",
        "GF8Ens_Soomf",
        "0wOQAZs5pc--",
        "K5QZ13OEpz2H",
        "lQ7QKXXCp7Bj",
        "448CDAPjqfQr",
        "KSlN3yHqYklG",
        "t6dVpIINYklI",
        "ijmpgYnKYklI",
        "-JiQyfWJYklI",
        "EM7whBJCYoAo",
        "fge-S5ZAYoAp",
        "85gYPyotYoAp",
        "RoGjAbkUYoAp",
        "4Of9eVA-YrdM",
        "iky9q4vBYrdO",
        "F6T5p64dYrdO",
        "y-Ehk30pYrdP",
        "bamQiAODYuh1",
        "QHF8YVU7Yuh3",
        "GwzvFGzlYuh3",
        "qYpmQ266Yuh3",
        "OH-pJp9IphqM",
        "bbFf2-_FphqN",
        "_ouA3fa0phqN",
        "Seke61FWphqN",
        "PIIx-8_IphqN",
        "t27r6nlMphqO",
        "r2jJGEOYphqO",
        "b0JNsNcRphqO",
        "BZR9WyysphqO",
        "jj7wYXLtphqO",
        "eZrbJ2SmphqO",
        "rFu4xreNphqO",
        "YJ55k-q6phqO",
        "gCFgpxoyphqP",
        "OVtJsKN_phqQ",
        "lssrdh5qphqQ",
        "JcMwzZxoAimU",
        "8G2x9gOozGDZ",
        "gCX9965dhzqZ",
        "gIfDvo9L0UH2"
      ],
      "include_colab_link": true
    },
    "kernelspec": {
      "name": "python3",
      "display_name": "Python 3"
    },
    "language_info": {
      "name": "python"
    }
  },
  "cells": [
    {
      "cell_type": "markdown",
      "metadata": {
        "id": "view-in-github",
        "colab_type": "text"
      },
      "source": [
        "<a href=\"https://colab.research.google.com/github/makadnan/EDA_project/blob/main/Play_Store_App_Review_Analysis.ipynb\" target=\"_parent\"><img src=\"https://colab.research.google.com/assets/colab-badge.svg\" alt=\"Open In Colab\"/></a>"
      ]
    },
    {
      "cell_type": "markdown",
      "source": [
        "# **Project Name**    - \n",
        "**EDA on the data of Play Store Apps**\n"
      ],
      "metadata": {
        "id": "vncDsAP0Gaoa"
      }
    },
    {
      "cell_type": "markdown",
      "source": [
        "##### **Project Type**    - EDA\n",
        "##### **Contribution**    - Individual"
      ],
      "metadata": {
        "id": "beRrZCGUAJYm"
      }
    },
    {
      "cell_type": "markdown",
      "source": [
        "# **Project Summary -**"
      ],
      "metadata": {
        "id": "FJNUwmbgGyua"
      }
    },
    {
      "cell_type": "markdown",
      "source": [
        "Write the summary here within 500-600 words."
      ],
      "metadata": {
        "id": "F6v_1wHtG2nS"
      }
    },
    {
      "cell_type": "markdown",
      "source": [
        "# **GitHub Link -**\n",
        "https://github.com/makadnan/EDA_project/blob/6d2e6de54691dc98f60a4f368d4727c23a6b02f1/Play_Store_App_Review_Analysis.ipynb"
      ],
      "metadata": {
        "id": "w6K7xa23Elo4"
      }
    },
    {
      "cell_type": "markdown",
      "source": [
        "# **Problem Statement**\n"
      ],
      "metadata": {
        "id": "yQaldy8SH6Dl"
      }
    },
    {
      "cell_type": "markdown",
      "source": [
        "**We will try to gain insights into the characteristics of Google Play Store App Reviews data through EDA(Exploratory Data Ananlysis).** \n",
        "\n",
        "To get an idea and further guidance for the analysis, will try to answer the following questions.\n",
        "\n",
        "What are the most popular app categories in the store?\n",
        "\n",
        "What is the distribution of app ratings and how do they vary across categories?\n",
        "\n",
        "What is the relationship between the number of installs and app ratings?\n",
        "\n",
        "Are there any correlations between app size, price, and rating?\n",
        "\n",
        "Do paid apps have better reviews than free apps?\n",
        "\n",
        "Do users always prefer free apps over paid apps?"
      ],
      "metadata": {
        "id": "DpeJGUA3kjGy"
      }
    },
    {
      "cell_type": "markdown",
      "source": [
        "#### **Business Objective**"
      ],
      "metadata": {
        "id": "PH-0ReGfmX4f"
      }
    },
    {
      "cell_type": "markdown",
      "source": [
        "The business objective of conducting EDA on Google Play Store app review analysis is to gain insights into the user feedback for various apps available on the Google Play Store. By analyzing the app reviews, businesses can understand the strengths and weaknesses of their own apps as well as those of their competitors. This analysis can help businesses to improve their apps, identify new opportunities, and make data-driven decisions to enhance the user experience and increase customer satisfaction. \n",
        "\n",
        "Additionally, it can also help businesses to identify any emerging trends in user behavior or preferences and adapt their app development strategies accordingly.\n",
        "\n",
        "Also, to identify trends and patterns in the types of apps that are popular on the Google Play Store, in order to inform app developers' decision-making around app development and marketing.\n",
        "\n",
        "We can  compare the performance of paid vs. free apps too, in order to inform app developers' decisions around monetization and pricing strategies"
      ],
      "metadata": {
        "id": "PhDvGCAqmjP1"
      }
    },
    {
      "cell_type": "markdown",
      "source": [
        "# ***Let's Begin !***"
      ],
      "metadata": {
        "id": "O_i_v8NEhb9l"
      }
    },
    {
      "cell_type": "markdown",
      "source": [
        "## ***1. Knowing The Data***"
      ],
      "metadata": {
        "id": "HhfV-JJviCcP"
      }
    },
    {
      "cell_type": "markdown",
      "source": [
        "### Import Libraries"
      ],
      "metadata": {
        "id": "Y3lxredqlCYt"
      }
    },
    {
      "cell_type": "code",
      "source": [
        "#importing imporant libraries\n",
        "import pandas as pd               # for data manipulation and analysis\n",
        "import numpy as np                # for numerical operations\n",
        "import matplotlib.pyplot as plt   # for data visualization\n",
        "import seaborn as sns             # for statistical data visualization"
      ],
      "metadata": {
        "id": "M8Vqi-pPk-HR"
      },
      "execution_count": null,
      "outputs": []
    },
    {
      "cell_type": "markdown",
      "source": [
        "### Dataset Loading"
      ],
      "metadata": {
        "id": "3RnN4peoiCZX"
      }
    },
    {
      "cell_type": "code",
      "source": [
        "from google.colab import drive\n",
        "drive.mount('/content/drive')"
      ],
      "metadata": {
        "id": "PY6PQqxTeUh4"
      },
      "execution_count": null,
      "outputs": []
    },
    {
      "cell_type": "code",
      "source": [
        "# Load Dataset\n",
        "df = pd.read_csv('/content/drive/MyDrive/Capstone_project/EDA/Play Store Data.csv')"
      ],
      "metadata": {
        "id": "4CkvbW_SlZ_R"
      },
      "execution_count": null,
      "outputs": []
    },
    {
      "cell_type": "markdown",
      "source": [
        "### Dataset First View"
      ],
      "metadata": {
        "id": "x71ZqKXriCWQ"
      }
    },
    {
      "cell_type": "code",
      "source": [
        "# Dataset First Look\n",
        "df.head()"
      ],
      "metadata": {
        "id": "LWNFOSvLl09H"
      },
      "execution_count": null,
      "outputs": []
    },
    {
      "cell_type": "markdown",
      "source": [
        "### Dataset Rows & Columns count"
      ],
      "metadata": {
        "id": "7hBIi_osiCS2"
      }
    },
    {
      "cell_type": "code",
      "source": [
        "# Dataset Rows & Columns count\n",
        "\n",
        "total_rows, total_columns = df.shape\n",
        "\n",
        "print(f'The dataset has {total_rows} rows and {total_columns} columns')"
      ],
      "metadata": {
        "id": "Kllu7SJgmLij"
      },
      "execution_count": null,
      "outputs": []
    },
    {
      "cell_type": "markdown",
      "source": [
        "### Dataset Information"
      ],
      "metadata": {
        "id": "JlHwYmJAmNHm"
      }
    },
    {
      "cell_type": "code",
      "source": [
        "# Dataset Info\n",
        "df.info()"
      ],
      "metadata": {
        "id": "e9hRXRi6meOf"
      },
      "execution_count": null,
      "outputs": []
    },
    {
      "cell_type": "markdown",
      "source": [
        "#### Duplicate Values"
      ],
      "metadata": {
        "id": "35m5QtbWiB9F"
      }
    },
    {
      "cell_type": "code",
      "source": [
        "# Dataset Duplicate Value Count\n",
        "num_duplicates = df.duplicated().sum()\n",
        "print(f\"Number of duplicate rows: {num_duplicates}\")"
      ],
      "metadata": {
        "id": "1sLdpKYkmox0"
      },
      "execution_count": null,
      "outputs": []
    },
    {
      "cell_type": "markdown",
      "source": [
        "#### Missing Values/Null Values"
      ],
      "metadata": {
        "id": "PoPl-ycgm1ru"
      }
    },
    {
      "cell_type": "code",
      "source": [
        "# Missing Values/Null Values Count\n",
        "null_columns = df.isnull().sum()\n",
        "null_columns"
      ],
      "metadata": {
        "id": "GgHWkxvamxVg"
      },
      "execution_count": null,
      "outputs": []
    },
    {
      "cell_type": "code",
      "source": [
        "# Visualizing the missing values\n",
        "\n",
        "# Create a boolean mask for missing values\n",
        "mask = df.isna()\n",
        "\n",
        "# Create a heatmap of the missing values\n",
        "plt.figure(figsize=(10, 6))\n",
        "plt.title('Missing Values Heatmap')\n",
        "plt.imshow(mask, cmap='viridis', aspect='auto')\n",
        "plt.xlabel('Columns')\n",
        "plt.ylabel('Rows')\n",
        "plt.show()\n"
      ],
      "metadata": {
        "id": "3q5wnI3om9sJ"
      },
      "execution_count": null,
      "outputs": []
    },
    {
      "cell_type": "markdown",
      "source": [
        "### What did you know about your dataset?"
      ],
      "metadata": {
        "id": "H0kj-8xxnORC"
      }
    },
    {
      "cell_type": "markdown",
      "source": [
        "Our dataset has 13 columns and 10841 rows. The data info tells us that some columns are have missing values but mostly in rating column while there are 483 rows with duplicate vlues. The Rating column has a float data type, while all other columns have an object (string) data type. "
      ],
      "metadata": {
        "id": "gfoNAAC-nUe_"
      }
    },
    {
      "cell_type": "markdown",
      "source": [
        "## ***2. Understanding Columns***"
      ],
      "metadata": {
        "id": "nA9Y7ga8ng1Z"
      }
    },
    {
      "cell_type": "code",
      "source": [
        "# Dataset Columns\n",
        "column_names= df.columns\n",
        "print(column_names)"
      ],
      "metadata": {
        "id": "j7xfkqrt5Ag5"
      },
      "execution_count": null,
      "outputs": []
    },
    {
      "cell_type": "code",
      "source": [
        "# Dataset Describe\n",
        "df.describe()"
      ],
      "metadata": {
        "id": "DnOaZdaE5Q5t"
      },
      "execution_count": null,
      "outputs": []
    },
    {
      "cell_type": "markdown",
      "source": [
        "### Columns Description "
      ],
      "metadata": {
        "id": "PBTbrJXOngz2"
      }
    },
    {
      "cell_type": "markdown",
      "source": [
        "The Size, Installs, and Price columns are expected to be numeric, but they are currently stored as strings. We may need to convert these columns to numeric data types later on for analysis."
      ],
      "metadata": {
        "id": "aJV4KIxSnxay"
      }
    },
    {
      "cell_type": "markdown",
      "source": [
        "### Checking Unique Values for each column."
      ],
      "metadata": {
        "id": "u3PMJOP6ngxN"
      }
    },
    {
      "cell_type": "code",
      "source": [
        "# Check Unique Values for each variable.\n",
        "for column in df.columns:\n",
        "    total_unique= df[column].nunique()\n",
        "    unique_values = df[column].unique()\n",
        "    print(f\"Total unique values in {column} is {total_unique} and the values are:\\n {unique_values}\")\n",
        "    print()"
      ],
      "metadata": {
        "id": "zms12Yq5n-jE"
      },
      "execution_count": null,
      "outputs": []
    },
    {
      "cell_type": "markdown",
      "source": [
        "## 3. ***Data Wrangling***"
      ],
      "metadata": {
        "id": "dauF4eBmngu3"
      }
    },
    {
      "cell_type": "markdown",
      "source": [
        "Before starting Data Wrangling, will first  make a copy of our dataset."
      ],
      "metadata": {
        "id": "Qa_qYMuNn-Im"
      }
    },
    {
      "cell_type": "code",
      "source": [
        "df_copy=df.copy()"
      ],
      "metadata": {
        "id": "7KHgZbDMoR2N"
      },
      "execution_count": null,
      "outputs": []
    },
    {
      "cell_type": "markdown",
      "source": [
        "### Data Wrangling Code"
      ],
      "metadata": {
        "id": "bKJF3rekwFvQ"
      }
    },
    {
      "cell_type": "markdown",
      "source": [
        "We will start our data wrangling with handling duplicate values"
      ],
      "metadata": {
        "id": "7Vf2LVNEpFtE"
      }
    },
    {
      "cell_type": "code",
      "source": [
        "#checking the duplicates\n",
        "duplicates = df[df.duplicated(keep=False)]\n",
        "duplicates.head()"
      ],
      "metadata": {
        "id": "VV-46KHtIdlF"
      },
      "execution_count": null,
      "outputs": []
    },
    {
      "cell_type": "markdown",
      "source": [
        "The above code returns a DataFrame that contains all rows that are duplicates. The 'keep=False' argument is used to indicate that all duplicate rows should be included in the result. If we used \"keep='first'\" instead, it would only include the first occurrence of each duplicate row."
      ],
      "metadata": {
        "id": "nSlK1tOUqpjk"
      }
    },
    {
      "cell_type": "code",
      "source": [
        "# checking the sample of duplicate rows\n",
        "duplicates = df.duplicated(keep=False)\n",
        "duplicate_rows = df[duplicates].sort_values(by=list(df.columns))\n",
        "duplicate_rows"
      ],
      "metadata": {
        "id": "gbSAo_vboxia"
      },
      "execution_count": null,
      "outputs": []
    },
    {
      "cell_type": "markdown",
      "source": [
        "The above code ensures that duplicates are placed adjacent to each other.The 'by' parameter specifies the columns based on which the sorting is to be done. In this case, list(df.columns) returns a list of all the column names of the DataFrame. Therefore, the sort_values() method sorts the DataFrame rows based on all the columns in the DataFrame in alphabetical order."
      ],
      "metadata": {
        "id": "z6-j2_vbrEs-"
      }
    },
    {
      "cell_type": "code",
      "source": [
        "#dropping the duplicat rows in the copy of the dataframe\n",
        "df_copy = df_copy.drop_duplicates()"
      ],
      "metadata": {
        "id": "FSCig_pnrKS3"
      },
      "execution_count": null,
      "outputs": []
    },
    {
      "cell_type": "code",
      "source": [
        "# checking the number of duplicate rows in the copy\n",
        "num_duplicates = df_copy.duplicated().sum()\n",
        "print(f\"Number of duplicate rows: {num_duplicates}\")"
      ],
      "metadata": {
        "id": "xunAfQ9_r57q"
      },
      "execution_count": null,
      "outputs": []
    },
    {
      "cell_type": "markdown",
      "source": [
        "Now, will try to handle missing values and will repalce them with appropriate values."
      ],
      "metadata": {
        "id": "i0fH_Kx_sKO6"
      }
    },
    {
      "cell_type": "code",
      "source": [
        "#names of columns with null values and the number of null values in each column\n",
        "null_columns = df_copy.isnull().sum()\n",
        "for column in null_columns.index:\n",
        "    if null_columns[column] > 0:\n",
        "        print(column, null_columns[column])"
      ],
      "metadata": {
        "id": "TgWxEE4Csv-w"
      },
      "execution_count": null,
      "outputs": []
    },
    {
      "cell_type": "code",
      "source": [
        "# replace missing values in categorical columns with mode\n",
        "df_copy['Type'].fillna(df_copy['Type'].mode()[0], inplace=True)\n",
        "df_copy['Content Rating'].fillna(df_copy['Content Rating'].mode()[0], inplace=True)\n",
        "df_copy['Current Ver'].fillna(df_copy['Current Ver'].mode()[0], inplace=True)\n",
        "df_copy['Android Ver'].fillna(df_copy['Android Ver'].mode()[0], inplace=True)"
      ],
      "metadata": {
        "id": "JI7DE2P85FRc"
      },
      "execution_count": null,
      "outputs": []
    },
    {
      "cell_type": "code",
      "source": [
        "# replacing null values of Rating with its mean\n",
        "mean_rating = df_copy['Rating'].mean()\n",
        "df_copy['Rating'] = df_copy['Rating'].fillna(mean_rating)"
      ],
      "metadata": {
        "id": "QCRP_bHT5a8S"
      },
      "execution_count": null,
      "outputs": []
    },
    {
      "cell_type": "code",
      "source": [
        "#checking total null values\n",
        "df_copy.isnull().sum().sum()"
      ],
      "metadata": {
        "id": "u3209mYW5mo9"
      },
      "execution_count": null,
      "outputs": []
    },
    {
      "cell_type": "markdown",
      "source": [
        "**Summary Statistics**"
      ],
      "metadata": {
        "id": "pEJ46hqB7MW9"
      }
    },
    {
      "cell_type": "code",
      "source": [
        "df_copy.describe()"
      ],
      "metadata": {
        "id": "rvIg7iAF9iPO"
      },
      "execution_count": null,
      "outputs": []
    },
    {
      "cell_type": "markdown",
      "source": [
        "The above descriptions of the summary statistics states that we have only one numeric column i.e. 'Rating' and its minimum value is 1 and maximum value is 19. But as we all know, ratings are given between 0 and 5 and therefore max value is certainly an outlier and most probably a wrong entry. So, we need to further investigate this. Later, will try to convert categorical columns like reviews,size, installs and price to numeric columns as their values are numeric in nature."
      ],
      "metadata": {
        "id": "OMh8yOXe9r0Y"
      }
    },
    {
      "cell_type": "code",
      "source": [
        "#Rating greater than 5\n",
        "rating_outliers = (df_copy['Rating'] >5).sum()\n",
        "print(f\"Number of outliers: {rating_outliers}\")"
      ],
      "metadata": {
        "id": "ub7hPO9M9qCn"
      },
      "execution_count": null,
      "outputs": []
    },
    {
      "cell_type": "code",
      "source": [
        "#only one outlier indicates that it is the max value of the column.\n",
        "max_rating = df_copy['Rating'].max()\n",
        "outliers = df_copy[df_copy['Rating'] == max_rating]\n",
        "outliers"
      ],
      "metadata": {
        "id": "1ViV5vOIRBCf"
      },
      "execution_count": null,
      "outputs": []
    },
    {
      "cell_type": "markdown",
      "source": [
        "The above row says that max value is actually not an outlier but a wrong entry done and it was supposed to be 1.9 and values have to shifted by one column to make it correct entry."
      ],
      "metadata": {
        "id": "buXwZ6ZvROus"
      }
    },
    {
      "cell_type": "code",
      "source": [
        "#checking values of the row using loc method\n",
        "df_copy.loc[10472]"
      ],
      "metadata": {
        "id": "RLXJF_76RXiW"
      },
      "execution_count": null,
      "outputs": []
    },
    {
      "cell_type": "code",
      "source": [
        "#shifting each value by one column\n",
        "df_copy.loc[10472] = df_copy.loc[10472].shift(periods=1)"
      ],
      "metadata": {
        "id": "-J2vWiWFRfwl"
      },
      "execution_count": null,
      "outputs": []
    },
    {
      "cell_type": "code",
      "source": [
        "df_copy.loc[10472]"
      ],
      "metadata": {
        "id": "C7hD39i_Rm1m"
      },
      "execution_count": null,
      "outputs": []
    },
    {
      "cell_type": "markdown",
      "source": [
        "Shifting of values from Rating column has been done successfully. But App is having null value now and App's value got shifted to Category. So, wil try to exchange the values of App and Category and later will replace the null value will the mode of the category column."
      ],
      "metadata": {
        "id": "CV25D1GPRy42"
      }
    },
    {
      "cell_type": "code",
      "source": [
        "#exchange of values\n",
        "df_copy.loc[10472, ['App', 'Category']] = df_copy.loc[10472, ['Category', 'App']].values\n",
        "df_copy.loc[10472]"
      ],
      "metadata": {
        "id": "jyzs2qnSRwCP"
      },
      "execution_count": null,
      "outputs": []
    },
    {
      "cell_type": "code",
      "source": [
        "#replacing null values of the Category column with its mode\n",
        "mode_of_category=df_copy['Category'].mode().values[0]\n",
        "df_copy['Category'].fillna(mode_of_category, inplace=True)"
      ],
      "metadata": {
        "id": "SJE1Y-xDSb3k"
      },
      "execution_count": null,
      "outputs": []
    },
    {
      "cell_type": "code",
      "source": [
        "df_copy.info()"
      ],
      "metadata": {
        "id": "hsBl-g3mSrY6"
      },
      "execution_count": null,
      "outputs": []
    },
    {
      "cell_type": "markdown",
      "source": [
        "The above info shows even Rating column as an object type instead of float type. Now, will convert Rating, Reviews, Size, Installs and Price to flaot types."
      ],
      "metadata": {
        "id": "cgGABNWDS4vz"
      }
    },
    {
      "cell_type": "code",
      "source": [
        "#converting rating column to float type\n",
        "df_copy['Rating'] = df_copy['Rating'].astype(float)"
      ],
      "metadata": {
        "id": "Zb9GB4-RTtVS"
      },
      "execution_count": null,
      "outputs": []
    },
    {
      "cell_type": "code",
      "source": [
        "#converting reviews column to float type\n",
        "df_copy['Reviews'] = df_copy['Reviews'].astype(float)"
      ],
      "metadata": {
        "id": "7GAXsMbth10E"
      },
      "execution_count": null,
      "outputs": []
    },
    {
      "cell_type": "markdown",
      "source": [
        "If we see the unique values of installls column, all the values are in string with '+' and ',' signs. So, we first need to replace the signs and then convert them to numeric values."
      ],
      "metadata": {
        "id": "PMk0y_jhiDrx"
      }
    },
    {
      "cell_type": "code",
      "source": [
        "# replacing '+' sign with ''\n",
        "df_copy['Installs'] = df_copy['Installs'].str.replace('+', '')"
      ],
      "metadata": {
        "id": "RhDdCcOPiMcW"
      },
      "execution_count": null,
      "outputs": []
    },
    {
      "cell_type": "code",
      "source": [
        "#replacing ',' sign with ''\n",
        "df_copy['Installs'] = df_copy['Installs'].str.replace(',', '')"
      ],
      "metadata": {
        "id": "Iv3aE8p-ig0S"
      },
      "execution_count": null,
      "outputs": []
    },
    {
      "cell_type": "code",
      "source": [
        "#converting installs column to float type\n",
        "df_copy['Installs']=df_copy['Installs'].astype(float)"
      ],
      "metadata": {
        "id": "mxxyNLGGixCs"
      },
      "execution_count": null,
      "outputs": []
    },
    {
      "cell_type": "markdown",
      "source": [
        "The values in the Price column are  with '$' signs. We will remove dollar signs and convert the string to numeric values."
      ],
      "metadata": {
        "id": "rI4iU7JLjElb"
      }
    },
    {
      "cell_type": "code",
      "source": [
        "# replacing '$' with ''\n",
        "df_copy['Price'] = df_copy['Price'].str.replace('$', '')"
      ],
      "metadata": {
        "id": "Tzq0HblMjPGV"
      },
      "execution_count": null,
      "outputs": []
    },
    {
      "cell_type": "code",
      "source": [
        "#converting price column to float type\n",
        "df_copy['Price']=df_copy['Price'].astype(float)"
      ],
      "metadata": {
        "id": "s_NCz0wpjf9h"
      },
      "execution_count": null,
      "outputs": []
    },
    {
      "cell_type": "markdown",
      "source": [
        "The size column has has numerical data but with certain suffixes like 'k' and 'M' for kb and mb respectively and thereby making it string object type.To make it a numerical column, we need to first remove letters 'M' and 'k'. Later, will remove 'Varies with device' with the mode of the column."
      ],
      "metadata": {
        "id": "IgL8DC5MoZqB"
      }
    },
    {
      "cell_type": "code",
      "source": [
        "df_copy['Size'] = df_copy.Size.replace(\"Varies with device\",np.nan) #now replacing it witn null.\n",
        "df_copy['Size'] = df_copy.Size.str.replace(\"M\",\"000\") # All size values became the kilobyte type.\n",
        "df_copy['Size'] = df_copy.Size.str.replace(\"k\",\"\") #Just removing 'k' letter to make it only numeric value in kb\n",
        "df_copy['Size'] =df_copy['Size'].astype(float) #converting the entire string to float\n",
        "df_copy['Size']=df_copy['Size']/1000 # converting kb to mb\n",
        "df_copy['Size'].dtype"
      ],
      "metadata": {
        "id": "J2R-ZD46pTw2"
      },
      "execution_count": null,
      "outputs": []
    },
    {
      "cell_type": "code",
      "source": [
        "#replacing null values of the column with its mode\n",
        "mode_of_size=df_copy['Size'].mode()[0]\n",
        "df_copy['Size']=df_copy['Size'].fillna(mode_of_size)"
      ],
      "metadata": {
        "id": "ADpvWsrlpm7S"
      },
      "execution_count": null,
      "outputs": []
    },
    {
      "cell_type": "markdown",
      "source": [
        "### Manipulations have done and insights found"
      ],
      "metadata": {
        "id": "MSa1f5Uengrz"
      }
    },
    {
      "cell_type": "markdown",
      "source": [
        "Altogether, we could have removed the rows with missing values using df.dropna(). But,this could be a good option for a large dataset and the null values are few. Also, we would have lost some information, and it might not be the best option if the missing values are concentrated in certain columns.\n",
        "\n",
        "Therefore, it becomes important to choose the appropriate strategy for handling missing values based on the nature of our data and the objectives of our analysis.\n",
        "\n",
        "\n",
        "So, we replaced the missing values with a fixed value, such as mode for the categorical columns and mean for numerical columns. We used df.fillna() to do this.\n",
        "\n",
        "And, the numeric columns Rating, Reviews, Size, Installs and Price have all been converted to float type from object type."
      ],
      "metadata": {
        "id": "LbyXE7I1olp8"
      }
    },
    {
      "cell_type": "markdown",
      "source": [
        "## ***4. Data Vizualization, Storytelling & Experimenting with charts : Understand the relationships between variables***"
      ],
      "metadata": {
        "id": "GF8Ens_Soomf"
      }
    },
    {
      "cell_type": "markdown",
      "source": [
        "#### Chart - 1\n",
        "**Boxplots**"
      ],
      "metadata": {
        "id": "0wOQAZs5pc--"
      }
    },
    {
      "cell_type": "markdown",
      "source": [
        "Before visualizing the charts of our columns, will first check the information and the description of the dataset."
      ],
      "metadata": {
        "id": "jMy34thDqK6k"
      }
    },
    {
      "cell_type": "code",
      "source": [
        "df_copy.info()"
      ],
      "metadata": {
        "id": "tnoexocNqhgM"
      },
      "execution_count": null,
      "outputs": []
    },
    {
      "cell_type": "markdown",
      "source": [
        "Now, the dataset is clean without duplicates and missing values and certains columns have been successfully converted to appropriate d types. Now, will check the description of our dataset and see what does it say."
      ],
      "metadata": {
        "id": "CemyRgCcqrGm"
      }
    },
    {
      "cell_type": "code",
      "source": [
        "df_copy.describe()"
      ],
      "metadata": {
        "id": "gl38pJXyrCiS"
      },
      "execution_count": null,
      "outputs": []
    },
    {
      "cell_type": "markdown",
      "source": [
        "This is a summary of the basic statistics of the five numerical columns in the dataset:\n",
        "\n",
        "Rating: The mean rating of the apps is 4.19 with a standard deviation of 0.48. The ratings range from 1 to 5.\n",
        "\n",
        "Reviews: The mean number of reviews is 405,865 with a standard deviation of 2,696,651. The minimum number of reviews is 0, while the maximum is 78,158,310.\n",
        "\n",
        "Size:The mean of size is 18.09MB with s standard deviation of 22.35. The minimum size is 0.001 MB, and while the maximum size is 100 MB.\n",
        "\n",
        "Installs: The mean number of installs is 14,156,390 with a standard deviation of 80,235,800. The minimum number of installs is 0, while the maximum is 1,000,000,000.\n",
        "\n",
        "Price: The mean price of the apps is 1.03 with a standard deviation of 16.28. The minimum price is 0, while the maximum is 400.\n",
        "\n",
        "This description gives us an idea of the distribution and range of each column, and can be used to make charts and guide further analysis. For example, we can see that the number of reviews, sizes and installs have a large range, while the price is mostly low with a few high outliers."
      ],
      "metadata": {
        "id": "kowmzI3TrJE3"
      }
    },
    {
      "cell_type": "code",
      "source": [
        "# Chart - 1 visualization code\n",
        "# Boxplots to check outliers\n",
        "num_columns = df_copy.select_dtypes(include=['float64']) #box plots for numerical columns\n",
        "for column in num_columns:\n",
        "    plt.boxplot(df_copy[column],vert=False)\n",
        "    plt.title(column)\n",
        "    plt.show()"
      ],
      "metadata": {
        "id": "7v_ESjsspbW7"
      },
      "execution_count": null,
      "outputs": []
    },
    {
      "cell_type": "markdown",
      "source": [
        "##### 1. Reason"
      ],
      "metadata": {
        "id": "K5QZ13OEpz2H"
      }
    },
    {
      "cell_type": "markdown",
      "source": [
        "To identify potential outliers and visualizing differences between groups, we needed to visually summarize the shape, central tendency, and variability of numerical columns by using box plots. The plot displays a box that represents the interquartile range (IQR), the median (middle value), and the whiskers that extend to the minimum and maximum values that are not outliers."
      ],
      "metadata": {
        "id": "XESiWehPqBRc"
      }
    },
    {
      "cell_type": "markdown",
      "source": [
        "##### 2. The insight(s) found from the chart"
      ],
      "metadata": {
        "id": "lQ7QKXXCp7Bj"
      }
    },
    {
      "cell_type": "markdown",
      "source": [
        "Each box plot represents a numerical column of our dataset, and shows the distribution of the data. The box itself shows the interquartile range (IQR) of the data, with the box edges representing the first and third quartiles, and the line inside the box representing the median.\n",
        "\n",
        "The whiskers extending from the box represent the range of the data, with any data points outside the whiskers considered outliers. The outliers are represented by individual points on the plot.\n",
        "\n",
        "Here's a brief explanation of the box plots generated for each column:\n",
        "\n",
        "The box plot for the Rating column shows a fairly symmetrical distribution of ratings with some outliers on the lower end of the scale.\n",
        "\n",
        "The box plot for the Reviews column shows a highly skewed distribution, with a large number of apps having a low number of reviews, and a small number of apps having a very large number of reviews. There are also several outliers on the high end of the scale above 75,000,000.\n",
        "\n",
        "Looking at the boxplot for the 'Size' column, we can see that the distribution is highly skewed to the right with a long tail of outliers. The median and quartile values suggest that most apps have a smaller size, while the outliers show that there are some apps with very large sizes.\n",
        "\n",
        "The box plot for the Installs column shows a similar distribution to the Reviews column, with a highly skewed distribution and many outliers on the high end of the scale.\n",
        "\n",
        "The box plot for the Price column shows a very skewed distribution, with most apps being free and a small number of apps having a high price. There are several outliers on the high end of the scale, indicating some apps are priced much higher than the majority of apps in the dataset."
      ],
      "metadata": {
        "id": "C_j1G7yiqdRP"
      }
    },
    {
      "cell_type": "markdown",
      "source": [
        "##### 3. Business impact"
      ],
      "metadata": {
        "id": "448CDAPjqfQr"
      }
    },
    {
      "cell_type": "markdown",
      "source": [
        "As of now, we can see in the Size column that there are a significant number of apps with sizes beyond the upper whisker, which indicates that these values may be extreme outliers. This suggests that there may be some data quality issues with the 'Size' column because there are very few apps that are several hundred MB in size. Further investigation may be needed to determine if these values are correct or if they are erroneous.\n"
      ],
      "metadata": {
        "id": "3cspy4FjqxJW"
      }
    },
    {
      "cell_type": "markdown",
      "source": [
        "#### Chart - 2\n",
        "**Histograms**"
      ],
      "metadata": {
        "id": "KSlN3yHqYklG"
      }
    },
    {
      "cell_type": "code",
      "source": [
        "# Chart - 2 visualization code\n",
        "# Histograms to check distribution of numerical data\n",
        "for column in num_columns:\n",
        "    plt.hist(df_copy[column], bins=150)\n",
        "    plt.title(column)\n",
        "    plt.show()"
      ],
      "metadata": {
        "id": "R4YgtaqtYklH"
      },
      "execution_count": null,
      "outputs": []
    },
    {
      "cell_type": "markdown",
      "source": [
        "##### 1. Reason"
      ],
      "metadata": {
        "id": "t6dVpIINYklI"
      }
    },
    {
      "cell_type": "markdown",
      "source": [
        "Histograms are used to visualize the distribution of numerical data. They show the frequency of values in a dataset by binning the data into intervals and plotting the count of values that fall into each interval."
      ],
      "metadata": {
        "id": "5aaW0BYyYklI"
      }
    },
    {
      "cell_type": "markdown",
      "source": [
        "##### 2. Insight(s) found from the chart"
      ],
      "metadata": {
        "id": "ijmpgYnKYklI"
      }
    },
    {
      "cell_type": "markdown",
      "source": [
        "The \"Rating\" histogram is roughly bell-shaped, with the majority of the ratings between 4.0 and 4.5 while the mean is 4.19. The histogram plot is skewed to the left indicating that the majority of the apps are highly rated with only a few exceptions in the low-rated apps.\n",
        "\n",
        "The \"Reviews\" histogram is right-skewed, meaning that there are more apps with lower numbers of reviews and fewer apps with very high numbers of reviews.\n",
        "\n",
        "The \"Size\" histogram showed that the size of most of the apps was below 50MB, with a few larger apps.\n",
        "\n",
        "The \"Installs\" histogram is also right-skewed, indicating that there are more apps with lower numbers of installs and fewer apps with very high numbers of installs.\n",
        "\n",
        "The \"Price\" histogram is also right-skewed, with most apps priced at 0 (i.e. free) and a smaller number of apps priced higher."
      ],
      "metadata": {
        "id": "PSx9atu2YklI"
      }
    },
    {
      "cell_type": "markdown",
      "source": [
        "##### 3. Business impact"
      ],
      "metadata": {
        "id": "-JiQyfWJYklI"
      }
    },
    {
      "cell_type": "markdown",
      "source": [
        "People tend install free apps more and most of the installed apps are having size below 50 Mb."
      ],
      "metadata": {
        "id": "BcBbebzrYklV"
      }
    },
    {
      "cell_type": "markdown",
      "source": [
        "#### Chart - 3\n",
        "**Scatter PLots**"
      ],
      "metadata": {
        "id": "EM7whBJCYoAo"
      }
    },
    {
      "cell_type": "code",
      "source": [
        "# Chart - 3 visualization code\n",
        "# Scatter plots to visualize the relationships between each numerical column to every other numerical columns.\n",
        "sns.pairplot(num_columns)"
      ],
      "metadata": {
        "id": "t6GMdE67YoAp"
      },
      "execution_count": null,
      "outputs": []
    },
    {
      "cell_type": "markdown",
      "source": [
        "##### 1. Reason"
      ],
      "metadata": {
        "id": "fge-S5ZAYoAp"
      }
    },
    {
      "cell_type": "markdown",
      "source": [
        "Scatter plot is used to visualize the relationship between two numerical columns. It helps to identify if there is any correlation between them, the strength of the correlation, and the direction of the relationship (positive or negative)."
      ],
      "metadata": {
        "id": "5dBItgRVYoAp"
      }
    },
    {
      "cell_type": "markdown",
      "source": [
        "##### 2. Insight(s) found from the chart"
      ],
      "metadata": {
        "id": "85gYPyotYoAp"
      }
    },
    {
      "cell_type": "markdown",
      "source": [
        "**Reviews and Installs** show a strong positive relationship, indicating that as the number of installs increases, the number of reviews also increase.\n",
        "\n",
        "**Rating and Installs**  show a slightly positive relationship, indicating that as the number of installs increase, the ratings tend to be higher.\n",
        "\n",
        "**Rating and Reviews** columns have no obvious correlation between them. The data points are scattered and there is no clear linear trend as the number of reviews increases, the ratings are distributed widely and not necessarily higher. \n",
        "\n",
        "**Rating and Size** columns also have no obvious correlation between them. The data points are scattered and there is no clear linear trend.\n",
        "\n",
        "**Price and Rating** columns have slightly positive correlation between the . As the price of the app increases, the ratings tend to be slightly higher. However, the data points are scattered and there is no clear linear trend. \n",
        "\n",
        "**Price and Reviews**columns also do not show correlation between them. \n",
        "\n",
        "**Reviews and Price** show the price of the apps doesn't depend much on the number of reviews.\n",
        "\n",
        "**Price and Size**columns have no obvious correlation between them. The data points are scattered and there is no clear linear trend.\n",
        "\n",
        "**Installs and Price** finally show that most of the apps with higher prices have lower installations."
      ],
      "metadata": {
        "id": "4jstXR6OYoAp"
      }
    },
    {
      "cell_type": "markdown",
      "source": [
        "##### 3. Business impact"
      ],
      "metadata": {
        "id": "RoGjAbkUYoAp"
      }
    },
    {
      "cell_type": "markdown",
      "source": [
        "There are more reviews for particular range of rating. Also, the majority of the apps with higher prices have ratings in the range of 4 to 5 but few installations."
      ],
      "metadata": {
        "id": "zfJ8IqMcYoAp"
      }
    },
    {
      "cell_type": "markdown",
      "source": [
        "#### Chart - 4\n",
        "**Correlation Heatmap**"
      ],
      "metadata": {
        "id": "4Of9eVA-YrdM"
      }
    },
    {
      "cell_type": "code",
      "source": [
        "# Chart - 4 visualization code\n",
        "#Heat Map\n",
        "corr_matrix = num_columns.corr() #correaltional matrix between numerical columns \n",
        "sns.heatmap(corr_matrix, annot=True, cmap='coolwarm')"
      ],
      "metadata": {
        "id": "irlUoxc8YrdO"
      },
      "execution_count": null,
      "outputs": []
    },
    {
      "cell_type": "markdown",
      "source": [
        "##### 1. Reason"
      ],
      "metadata": {
        "id": "iky9q4vBYrdO"
      }
    },
    {
      "cell_type": "markdown",
      "source": [
        "We check correlations between columns to understand the strength and direction of the relationship between them. Correlation analysis helps to identify which columnss are positively or negatively related to each other, and how strong or weak the relationship is. In exploratory data analysis (EDA), this information can be used to visualize the relationships between different columns, which can be useful in understanding the data and identifying patterns.\n",
        "\n",
        "Heatmap  is used to show the correlation matrix among the numerical columns in our data.The values in the cells of the heatmap represent the correlation coefficients. A value of 1 indicates a perfect positive correlation, while a value of -1 indicates a perfect negative correlation. A value of 0 indicates no correlation."
      ],
      "metadata": {
        "id": "aJRCwT6DYrdO"
      }
    },
    {
      "cell_type": "markdown",
      "source": [
        "##### 2. The insight(s) found from the chart"
      ],
      "metadata": {
        "id": "F6T5p64dYrdO"
      }
    },
    {
      "cell_type": "markdown",
      "source": [
        "Looking at heatmap, we can see that the highest correlation coefficient is between 'Reviews' and 'Installs', with a value of 0.635. This indicates a moderate positive correlation between the number of reviews and the number of installs of an app.\n",
        "\n",
        "There is a positive correlation between ratings and reviews, although the correlation coefficient (0.068) is not very strong. This means that apps with higher ratings tend to have more reviews, but there are many exceptions to this trend.\n",
        "\n",
        "The correlation between ratings and installs is positive but weak (0.050).\n",
        "\n",
        "The Size column has a positive but weak correlation with the Reviews and Installs columns, with correlation coefficients of 0.106811 and 0.051761, respectively. It has a weak correlation with the Rating column as well with a correlation coefficient of 0.061696. However, there seems to be no significant correlation between the Size column and the Price column, as the correlation coefficient is very close to zero (-0.020482).\n",
        "\n",
        "The correlation between price and the other columnss is weak or negative. There is a weak negative correlation between price and ratings, which suggests that higher priced apps tend to have slightly lower ratings. \n",
        "\n",
        "There is also a weak negative correlation between price and installs, which means that higher priced apps tend to have slightly fewer installs.\n",
        "However, these correlations are not very strong, so the effect of price on ratings and installs may not be very significant."
      ],
      "metadata": {
        "id": "Xx8WAJvtYrdO"
      }
    },
    {
      "cell_type": "markdown",
      "source": [
        "##### 3. Business impact"
      ],
      "metadata": {
        "id": "y-Ehk30pYrdP"
      }
    },
    {
      "cell_type": "markdown",
      "source": [
        "Apps with more reviews tend to have more installs, which is expected as more popular apps are likely to attract more reviews."
      ],
      "metadata": {
        "id": "jLNxxz7MYrdP"
      }
    },
    {
      "cell_type": "markdown",
      "source": [
        "#### Chart - 5\n",
        "**Bar Graphs**"
      ],
      "metadata": {
        "id": "bamQiAODYuh1"
      }
    },
    {
      "cell_type": "code",
      "source": [
        "# Chart - 5 visualization code\n",
        "# list of columns to create bar graphs for\n",
        "cat_columns = ['Category', 'Type', 'Content Rating', 'Genres']\n",
        "# loop through the columns and create bar graphs\n",
        "for column in cat_columns:\n",
        "  if column=='Genres':\n",
        "    plt.figure(figsize=(20,6)) #Generes has large number unique values so we need larger graph\n",
        "    df[column].value_counts().plot(kind='bar')\n",
        "    plt.title(column)\n",
        "    plt.show()\n",
        "  else:\n",
        "    plt.figure(figsize=(12,6))\n",
        "    df[column].value_counts().plot(kind='bar')\n",
        "    plt.title(column)\n",
        "    plt.show()"
      ],
      "metadata": {
        "id": "TIJwrbroYuh3"
      },
      "execution_count": null,
      "outputs": []
    },
    {
      "cell_type": "markdown",
      "source": [
        "##### 1. Reason"
      ],
      "metadata": {
        "id": "QHF8YVU7Yuh3"
      }
    },
    {
      "cell_type": "markdown",
      "source": [
        "Bar Graphs are used for visualizaing categorical columns across a range of values through graphs using rectangular bars."
      ],
      "metadata": {
        "id": "dcxuIMRPYuh3"
      }
    },
    {
      "cell_type": "markdown",
      "source": [
        "##### 2. The insight(s) found from the chart"
      ],
      "metadata": {
        "id": "GwzvFGzlYuh3"
      }
    },
    {
      "cell_type": "markdown",
      "source": [
        "Based on the bar graphs in our colab notebook, we can make the following observations:\n",
        "\n",
        "Category: The most common category of apps is \"Family\", followed by \"Game\" and \"Tools\".\n",
        "\n",
        "Type: The majority of apps are free, while only a small percentage are paid.\n",
        "\n",
        "Content Rating: The majority of apps are rated \"Everyone\", followed by \"Teen\" and \"Mature 17+\".\n",
        "\n",
        "Genres: The most common genres are \"Tools\", \"Entertainment\", and \"Education\"."
      ],
      "metadata": {
        "id": "uyqkiB8YYuh3"
      }
    },
    {
      "cell_type": "markdown",
      "source": [
        "##### 3. Business impact"
      ],
      "metadata": {
        "id": "qYpmQ266Yuh3"
      }
    },
    {
      "cell_type": "markdown",
      "source": [
        "These observations can provide insights into the distribution of apps in the Google Play Store and can help in making informed decisions about app development and marketing"
      ],
      "metadata": {
        "id": "_WtzZ_hCYuh4"
      }
    },
    {
      "cell_type": "markdown",
      "source": [
        "#### Chart - 6\n",
        "**Joint Plots**"
      ],
      "metadata": {
        "id": "OH-pJp9IphqM"
      }
    },
    {
      "cell_type": "code",
      "source": [
        "# Chart - 6 visualization code\n",
        "# jointplot Size vs Rating\n",
        "sns.set_style('whitegrid')\n",
        "sns.jointplot(x='Size', y='Rating', data=df_copy, height=8)\n"
      ],
      "metadata": {
        "id": "kuRf4wtuphqN"
      },
      "execution_count": null,
      "outputs": []
    },
    {
      "cell_type": "code",
      "source": [
        "#joint plot Paid Apps vs Rating\n",
        "paid_apps = df_copy[df_copy['Type'] == 'Paid']\n",
        "\n",
        "sns.jointplot(x='Price', y='Rating', data=paid_apps)\n"
      ],
      "metadata": {
        "id": "wxDXFkvBnScq"
      },
      "execution_count": null,
      "outputs": []
    },
    {
      "cell_type": "markdown",
      "source": [
        "##### 1. Reason"
      ],
      "metadata": {
        "id": "bbFf2-_FphqN"
      }
    },
    {
      "cell_type": "markdown",
      "source": [
        "Joint plots are used to visualize the relationship between two columns, typically a pair of numerical columns. It combines two different plots in one figure: a scatter plot that shows the joint distribution of the values of two columns and two univariate plots that show the distribution of each column separately. The joint plot allows us to see how the columns are related to each other, as well as their individual distributions. This can be useful for exploring the relationship between columns, identifying patterns and insights into patterns or trends in our data that may not be immediately apparent from just looking at the numbers."
      ],
      "metadata": {
        "id": "loh7H2nzphqN"
      }
    },
    {
      "cell_type": "markdown",
      "source": [
        "##### 2. The insight(s) found from the chart"
      ],
      "metadata": {
        "id": "_ouA3fa0phqN"
      }
    },
    {
      "cell_type": "markdown",
      "source": [
        "Based on the jointplot of size and rating, we can observe that:\n",
        "\n",
        "There is a slight positive correlation between app size and app rating, as we can see a slight trend upwards and to the right in the plot. This means that larger apps tend to have slightly higher ratings compared to smaller apps.\n",
        "The majority of apps in the dataset are small in size (less than 50 MB) and have ratings between 3.5 and 4.5. However, we can see that there are some apps that are large in size (greater than 100 MB) and have high ratings of 4.5 and above.We can see that both size and rating are approximately normally distributed, with some skewness towards larger sizes and higher ratings.\n",
        "\n",
        "The jointplot of price of paid apps and rating shows the distribution of the rating and price columns for the subset of the dataset where the Type column equals 'Paid'.\n",
        "From the plot, we can see that most of the paid apps have a rating of 4 or higher, and there is a wide range of prices for apps with high ratings. We can also see that there are a few outliers with high prices and high ratings\n",
        "\n"
      ],
      "metadata": {
        "id": "VECbqPI7phqN"
      }
    },
    {
      "cell_type": "markdown",
      "source": [
        "##### 3. Business impact "
      ],
      "metadata": {
        "id": "Seke61FWphqN"
      }
    },
    {
      "cell_type": "markdown",
      "source": [
        "There is some relationship between app size and app rating, but it is not a strong or definitive relationship. The size of the app is only one of many factors that may contribute to the overall rating.\n",
        "However,The jointplot between the price of paid apps and their rating suggests that there is not a clear correlation between these two variables. The plot shows a scattered distribution of points, indicating that the price does not have a significant impact on the rating of the paid apps. This could mean that users are willing to pay more for apps with a high rating, or that price is not a significant factor in the users' decision to rate an app highly. "
      ],
      "metadata": {
        "id": "DW4_bGpfphqN"
      }
    },
    {
      "cell_type": "markdown",
      "source": [
        "#### Chart - 7\n",
        "**Strip Plots**"
      ],
      "metadata": {
        "id": "PIIx-8_IphqN"
      }
    },
    {
      "cell_type": "code",
      "source": [
        "# Chart - 7 visualization code\n",
        "#strip plot for popular app categories vs price\n",
        "fig, ax = plt.subplots() # initialized a figure object fig and axes object ax.\n",
        "fig.set_size_inches(8, 6)\n",
        "popular_app_cats = df_copy[df_copy.Category.isin(['GAME', 'FAMILY', 'PHOTOGRAPHY',\n",
        "                                            'MEDICAL', 'TOOLS', 'FINANCE',\n",
        "                                            'LIFESTYLE','BUSINESS'])]\n",
        "sns.stripplot(x=popular_app_cats['Category'], y=popular_app_cats['Price'], data=df)\n",
        "plt.show()"
      ],
      "metadata": {
        "id": "lqAIGUfyphqO"
      },
      "execution_count": null,
      "outputs": []
    },
    {
      "cell_type": "markdown",
      "source": [
        "The above strip plot chart shows the some of the categories are having very expensive apps. So, we need to further investigate what are those expensive apps really are."
      ],
      "metadata": {
        "id": "-qCsgIpF6h1l"
      }
    },
    {
      "cell_type": "code",
      "source": [
        "# Apps whose Price is greater than 200\n",
        "apps_above_200 = popular_app_cats[popular_app_cats.Price > 200]\n",
        "apps_above_200[['Category', 'App', 'Price']]"
      ],
      "metadata": {
        "id": "BDjXXVhH7QuQ"
      },
      "execution_count": null,
      "outputs": []
    },
    {
      "cell_type": "markdown",
      "source": [
        "Now, what we can infer from the above output that some expensive apps are actually are junk apps that don't really have a purpose. Sometimes app developers create apps like above apps 'I Am Rich Premium' or 'most expensive app (H)' to test their app development skills. Some  even do this to scam people who might ccidentally purchase their apps in the store.\n",
        "\n",
        "So, let's remove these junk apps and check the chart again."
      ],
      "metadata": {
        "id": "MewcTM8V7O-N"
      }
    },
    {
      "cell_type": "code",
      "source": [
        "# Select apps priced below $100\n",
        "#strip plot for popular app categories under the price 100\n",
        "apps_under_100 = popular_app_cats[popular_app_cats.Price<100]\n",
        "\n",
        "fig, ax = plt.subplots()\n",
        "fig.set_size_inches(8, 6)\n",
        "\n",
        "# Examine price vs category with the authentic apps (apps_under_100)\n",
        "ax = sns.stripplot(x = apps_under_100['Category'], y = popular_app_cats['Price'], data = apps_under_100)"
      ],
      "metadata": {
        "id": "4ywTzXv9iYRL"
      },
      "execution_count": null,
      "outputs": []
    },
    {
      "cell_type": "markdown",
      "source": [
        "##### 1. Reason"
      ],
      "metadata": {
        "id": "t27r6nlMphqO"
      }
    },
    {
      "cell_type": "markdown",
      "source": [
        "Strip plot are used to visualize the distribution of a numerical column against a categorical variable. It is similar to a scatter plot, but with no lines connecting the points. Instead, individual data points are plotted as dots, one for each observation.\n",
        "\n",
        "The advantage of using a strip plot over a scatter plot is that it can handle larger datasets more efficiently. In a scatter plot, overlapping data points can make it difficult to see the true distribution of the data. With a strip plot, the individual points are more clearly visible and can give a better sense of the distribution of the data.\n",
        "\n",
        "Additionally, strip plots are particularly useful for categorical data, where the number of unique values is relatively small. In this case, strip plots can provide a clear view of the distribution of the data across the categories."
      ],
      "metadata": {
        "id": "iv6ro40sphqO"
      }
    },
    {
      "cell_type": "markdown",
      "source": [
        "##### 2. The insight(s) found from the chart"
      ],
      "metadata": {
        "id": "r2jJGEOYphqO"
      }
    },
    {
      "cell_type": "markdown",
      "source": [
        "Different categories demand different price ranges. Like the above chart shows that Medical and Family apps are the most expensive ones. Some medical apps extend even up to up to 80 dollars. All game and business apps are priced below 20 dollars. While most of the apps in photography and tools are below 20 dollars but there are some apps that are expensive in these categories as well."
      ],
      "metadata": {
        "id": "Po6ZPi4hphqO"
      }
    },
    {
      "cell_type": "markdown",
      "source": [
        "##### 3. Business impact "
      ],
      "metadata": {
        "id": "b0JNsNcRphqO"
      }
    },
    {
      "cell_type": "markdown",
      "source": [
        "The costs of apps are largely based on features, complexity, and platform.\n",
        "There are many factors to consider when selecting the right pricing strategy for mobile apps. It is important to consider the willingness of your customer to pay for your app. A wrong price could break the deal before the download even happens. Like for example, some apps that are simple and are of daily usge like photo editor should free but for a highly-specialized medical app that diagnoses diabetic patients would be expensive inevitably."
      ],
      "metadata": {
        "id": "xvSq8iUTphqO"
      }
    },
    {
      "cell_type": "markdown",
      "source": [
        "#### Chart - 8\n",
        "**Interactive Box Plot**"
      ],
      "metadata": {
        "id": "BZR9WyysphqO"
      }
    },
    {
      "cell_type": "code",
      "source": [
        "# Chart - 8 visualization code\n",
        "#Interactive Boxplot\n",
        "import plotly.graph_objs as go #provide a way to create interactive(plotly) graph objects \n",
        "import plotly.offline as pyo #allows to create and save Plotly charts offline, without the need for an internet connection.\n",
        "\n",
        "# Filter the data for paid apps\n",
        "paid_apps = df_copy[df_copy[\"Type\"] == \"Paid\"] # filtering the dataframe based on the \"Type\" column\n",
        "\n",
        "# Create the trace for paid apps\n",
        "paid_trace = go.Box(\n",
        "    y=paid_apps[\"Installs\"],\n",
        "    name=\"Paid\",\n",
        "    boxpoints=\"all\",\n",
        "    jitter=0.3,\n",
        "    pointpos=-1.8\n",
        ")\n",
        "\n",
        "# Filter the data for free apps\n",
        "free_apps = df_copy[df_copy[\"Type\"] == \"Free\"]\n",
        "\n",
        "# Create the trace for free apps\n",
        "free_trace = go.Box(\n",
        "    y=free_apps[\"Installs\"],\n",
        "    name=\"Free\",\n",
        "    boxpoints=\"all\",\n",
        "    jitter=0.3, # jitter is used to add random noise or displacement to data points\n",
        "    pointpos=-1.8 # pointpos controls the position of the points in a box plot\n",
        ")\n",
        "\n",
        "# Create the layout \n",
        "layout = go.Layout(\n",
        "    title=\"Number of Installs of Paid Apps vs. Free Apps\",\n",
        "    yaxis=dict(\n",
        "        title=\"Number of Installs (Log Scale)\",\n",
        "        type=\"log\", #A logarithmic scale is used when values spans a large range\n",
        "        autorange=True # automatically adjusted to fit the range of the data in the plot\n",
        "    )\n",
        ")\n",
        "\n",
        "# Add the traces to the data list\n",
        "data = [paid_trace, free_trace]\n",
        "\n",
        "# Create the figure\n",
        "fig = go.Figure(data=data, layout=layout)\n",
        "\n",
        "# Show the figure\n",
        "pyo.iplot(fig)"
      ],
      "metadata": {
        "id": "TdPTWpAVphqO"
      },
      "execution_count": null,
      "outputs": []
    },
    {
      "cell_type": "markdown",
      "source": [
        "##### 1. Reason"
      ],
      "metadata": {
        "id": "jj7wYXLtphqO"
      }
    },
    {
      "cell_type": "markdown",
      "source": [
        "The interactive box plot is created using the Plotly library in Python which is similar to a traditional box plot that visualizes the distribution of a dataset through five summary statistics: the minimum and maximum values, the lower and upper quartiles, and the median. But, an interactive box plot allows to interact with the chart by hovering over the boxes to see additional information, such as the specific values of each summary statistic and the number of data points within the box.\n",
        "Also, an interactive box plot can be customized with various design elements, such as color, labels, and titles, to better communicate the insights from the data. "
      ],
      "metadata": {
        "id": "Ob8u6rCTphqO"
      }
    },
    {
      "cell_type": "markdown",
      "source": [
        "##### 2. The insight(s) found from the chart"
      ],
      "metadata": {
        "id": "eZrbJ2SmphqO"
      }
    },
    {
      "cell_type": "markdown",
      "source": [
        "The x-axis represents the type of app (paid or free) and the y-axis represents the number of installs (in millions). The plot also includes a legend that indicates which box corresponds to paid apps and which one corresponds to free apps.\n",
        "The box plot shows the median (the horizontal line inside the box), the interquartile range (the box), the range of the data (the whiskers), and any outliers (the circles outside the whiskers). The boxes for both paid and free apps are relatively narrow, indicating that most of the data points fall within a relatively narrow range.Additionally, the median number of installs for free apps is higher than for paid apps. The plot also shows that the number of installs for both paid and free apps is highly skewed, with a long tail of outliers."
      ],
      "metadata": {
        "id": "mZtgC_hjphqO"
      }
    },
    {
      "cell_type": "markdown",
      "source": [
        "##### 3. Business impact"
      ],
      "metadata": {
        "id": "rFu4xreNphqO"
      }
    },
    {
      "cell_type": "markdown",
      "source": [
        "The box for free apps is larger than the box for paid apps, indicating that the range of the number of installs for free apps is wider than for paid apps. This suggests that while paid apps may have a more limited audience, they can still be profitable if they are priced appropriately and provide value to their target market."
      ],
      "metadata": {
        "id": "ey_0qi68phqO"
      }
    },
    {
      "cell_type": "markdown",
      "source": [
        "#### Chart - 9\n",
        "**Pie Charts**"
      ],
      "metadata": {
        "id": "YJ55k-q6phqO"
      }
    },
    {
      "cell_type": "code",
      "source": [
        "# Load user_reviews.csv\n",
        "df_reviews = pd.read_csv('/content/drive/MyDrive/Capstone_project/EDA/User Reviews.csv')\n",
        "\n",
        "# Join the two dataframes\n",
        "merged_df = merged_df = pd.merge(df_copy, df_reviews,on='App',how='inner')\n",
        "\n",
        "# Drop NA values from Sentiment and Review columns\n",
        "merged_df = merged_df.dropna(subset = ['Sentiment', 'Translated_Review'])\n",
        "\n",
        "# separate dataframes for free and paid apps\n",
        "free_apps = merged_df[merged_df['Type'] == 'Free']\n",
        "paid_apps = merged_df[merged_df['Type'] == 'Paid']\n",
        "\n",
        "# sentiment value counts for free and paid apps\n",
        "free_sentiment_counts = free_apps['Sentiment'].value_counts()\n",
        "paid_sentiment_counts = paid_apps['Sentiment'].value_counts()\n",
        "\n",
        "# create pie chart for free apps sentiment analysis\n",
        "plt.pie(free_sentiment_counts.values, labels=free_sentiment_counts.index, autopct='%1.1f%%')\n",
        "plt.title('Free Apps')\n",
        "plt.show()\n",
        "\n",
        "# create pie chart for paid apps sentiment analysis\n",
        "plt.pie(paid_sentiment_counts.values, labels=paid_sentiment_counts.index, autopct='%1.1f%%')\n",
        "plt.title('Paid Apps')\n",
        "plt.show()"
      ],
      "metadata": {
        "id": "aMwvBLeC944k"
      },
      "execution_count": null,
      "outputs": []
    },
    {
      "cell_type": "markdown",
      "source": [
        "##### 1. Reason"
      ],
      "metadata": {
        "id": "gCFgpxoyphqP"
      }
    },
    {
      "cell_type": "markdown",
      "source": [
        "Pie charts can be used for sentiment analysis when we want to visualize the distribution of sentiments in our dataset. It is useful when there are less sentiment categories like we have only three i.e. positive, negative, and neutral sentiments, making it easy to compare the relative sizes of each sentiment category."
      ],
      "metadata": {
        "id": "TVxDimi2phqP"
      }
    },
    {
      "cell_type": "markdown",
      "source": [
        "##### 2. The insight(s) found from the chart"
      ],
      "metadata": {
        "id": "OVtJsKN_phqQ"
      }
    },
    {
      "cell_type": "markdown",
      "source": [
        "We have generated two pie charts for sentiment analysis of free and paid apps separately. The charts show the distribution of sentiment categories (positive, negative, and neutral) for each type of app.\n",
        "\n",
        "From the charts, we can see that the majority of app reviews in both free and paid categories are positive, with neutral and negative reviews having a smaller share. However, it seems that paid apps have a slightly higher percentage of positive reviews than free apps"
      ],
      "metadata": {
        "id": "ngGi97qjphqQ"
      }
    },
    {
      "cell_type": "markdown",
      "source": [
        "##### 3. Business impact"
      ],
      "metadata": {
        "id": "lssrdh5qphqQ"
      }
    },
    {
      "cell_type": "markdown",
      "source": [
        "Overall, it highlights the fact that paid apps generally receive more positive reviews compared to free apps."
      ],
      "metadata": {
        "id": "tBpY5ekJphqQ"
      }
    },
    {
      "cell_type": "markdown",
      "source": [
        "## **5. Solution to Business Objective**"
      ],
      "metadata": {
        "id": "JcMwzZxoAimU"
      }
    },
    {
      "cell_type": "markdown",
      "source": [
        "The number of free apps on the Google Play Store is significantly higher than the number of paid apps and the most popular app categories in the store are 'Family', 'Game', and 'Tools'.The distribution of app ratings is right-skewed, and ratings tend to be higher for some categories such as 'Education' and 'Books & Reference'. But, the paid apps have a slightly higher proportion of positive reviews as compared to the free apps.\n",
        "\n",
        "There is a positive relationship between the number of installs and app ratings, indicating that more popular apps tend to have higher ratings. So, the apps with higher ratings and positive reviews have a higher number of installs.\n",
        "Paid apps tend to have slightly higher ratings than free apps, but the difference is not very significant. Although, it certainly means that users do not always prefer free apps over paid apps, as there are some categories where paid apps have higher ratings than free apps. The price of the paid apps on the Google Play Store ranges from 0.99 dollar to 400 dollars, with most of the apps being priced between 1 dollar and 10 dollars.\n",
        "\n",
        "There is a weak positive correlation between app size and rating, and no significant correlation between price and rating. However, the sentiment analysis of the app reviews shows that the majority of the users have a positive sentiment towards the apps.\n",
        "\n",
        "Finally, it might be recommended that app developers focus on developing apps in the 'Family', 'Game' and 'Tools' categories, with a user-friendly interface and good ratings, to increase the number of downloads and revenue. The data showed that paid apps generally had better ratings and reviews. This could indicate that users are more willing to spend money on apps that provide value. Developers can focus on providing valuable features and incentives for in-app purchases to increase revenue. Also, it is important to maintain the app quality and respond to the user feedback in a timely manner to improve the user experience and gain more positive reviews."
      ],
      "metadata": {
        "id": "pASKb0qOza21"
      }
    },
    {
      "cell_type": "markdown",
      "source": [
        "# **Conclusion**"
      ],
      "metadata": {
        "id": "gCX9965dhzqZ"
      }
    },
    {
      "cell_type": "markdown",
      "source": [
        "Overall, it can be concluded that the Google Play Store has a diverse range of apps in various categories, with the most popular categories being Family, Game, and Tools. The ratings of the apps are generally positive, with a majority of them having a rating of 4 or higher. The app size and price do not have a significant impact on the app ratings, but there is a positive correlation between the number of installs and app ratings. Additionally, there is no significant difference between the ratings of paid and free apps. However, users tend to prefer free apps over paid apps, as they have a higher number of downloads. Overall, the analysis provides valuable insights into the Google Play Store, which can be useful for app developers and businesses."
      ],
      "metadata": {
        "id": "Fjb1IsQkh3yE"
      }
    },
    {
      "cell_type": "markdown",
      "source": [
        "### ***Hurrah! We have successfully completed EDA Capstone Project !!!***"
      ],
      "metadata": {
        "id": "gIfDvo9L0UH2"
      }
    }
  ]
}